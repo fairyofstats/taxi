{
 "cells": [
  {
   "cell_type": "code",
   "execution_count": 1,
   "metadata": {},
   "outputs": [],
   "source": [
    "taxi = pd.read_csv(\"/Users/jisuim/Desktop/tp_taxi/jisu/train.csv\")"
   ]
  },
  {
   "cell_type": "code",
   "execution_count": 2,
   "metadata": {},
   "outputs": [],
   "source": [
    "taxi_ex = taxi.copy()"
   ]
  },
  {
   "cell_type": "code",
   "execution_count": 5,
   "metadata": {},
   "outputs": [
    {
     "data": {
      "text/html": [
       "<div>\n",
       "<style scoped>\n",
       "    .dataframe tbody tr th:only-of-type {\n",
       "        vertical-align: middle;\n",
       "    }\n",
       "\n",
       "    .dataframe tbody tr th {\n",
       "        vertical-align: top;\n",
       "    }\n",
       "\n",
       "    .dataframe thead th {\n",
       "        text-align: right;\n",
       "    }\n",
       "</style>\n",
       "<table border=\"1\" class=\"dataframe\">\n",
       "  <thead>\n",
       "    <tr style=\"text-align: right;\">\n",
       "      <th></th>\n",
       "      <th>id</th>\n",
       "      <th>vendor_id</th>\n",
       "      <th>pickup_datetime</th>\n",
       "      <th>dropoff_datetime</th>\n",
       "      <th>passenger_count</th>\n",
       "      <th>pickup_longitude</th>\n",
       "      <th>pickup_latitude</th>\n",
       "      <th>dropoff_longitude</th>\n",
       "      <th>dropoff_latitude</th>\n",
       "      <th>store_and_fwd_flag</th>\n",
       "      <th>trip_duration</th>\n",
       "    </tr>\n",
       "  </thead>\n",
       "  <tbody>\n",
       "    <tr>\n",
       "      <th>0</th>\n",
       "      <td>id2875421</td>\n",
       "      <td>2</td>\n",
       "      <td>2016-03-14 17:24:55</td>\n",
       "      <td>2016-03-14 17:32:30</td>\n",
       "      <td>1</td>\n",
       "      <td>-73.982155</td>\n",
       "      <td>40.767937</td>\n",
       "      <td>-73.964630</td>\n",
       "      <td>40.765602</td>\n",
       "      <td>N</td>\n",
       "      <td>455</td>\n",
       "    </tr>\n",
       "    <tr>\n",
       "      <th>1</th>\n",
       "      <td>id2377394</td>\n",
       "      <td>1</td>\n",
       "      <td>2016-06-12 00:43:35</td>\n",
       "      <td>2016-06-12 00:54:38</td>\n",
       "      <td>1</td>\n",
       "      <td>-73.980415</td>\n",
       "      <td>40.738564</td>\n",
       "      <td>-73.999481</td>\n",
       "      <td>40.731152</td>\n",
       "      <td>N</td>\n",
       "      <td>663</td>\n",
       "    </tr>\n",
       "    <tr>\n",
       "      <th>2</th>\n",
       "      <td>id3858529</td>\n",
       "      <td>2</td>\n",
       "      <td>2016-01-19 11:35:24</td>\n",
       "      <td>2016-01-19 12:10:48</td>\n",
       "      <td>1</td>\n",
       "      <td>-73.979027</td>\n",
       "      <td>40.763939</td>\n",
       "      <td>-74.005333</td>\n",
       "      <td>40.710087</td>\n",
       "      <td>N</td>\n",
       "      <td>2124</td>\n",
       "    </tr>\n",
       "    <tr>\n",
       "      <th>3</th>\n",
       "      <td>id3504673</td>\n",
       "      <td>2</td>\n",
       "      <td>2016-04-06 19:32:31</td>\n",
       "      <td>2016-04-06 19:39:40</td>\n",
       "      <td>1</td>\n",
       "      <td>-74.010040</td>\n",
       "      <td>40.719971</td>\n",
       "      <td>-74.012268</td>\n",
       "      <td>40.706718</td>\n",
       "      <td>N</td>\n",
       "      <td>429</td>\n",
       "    </tr>\n",
       "    <tr>\n",
       "      <th>4</th>\n",
       "      <td>id2181028</td>\n",
       "      <td>2</td>\n",
       "      <td>2016-03-26 13:30:55</td>\n",
       "      <td>2016-03-26 13:38:10</td>\n",
       "      <td>1</td>\n",
       "      <td>-73.973053</td>\n",
       "      <td>40.793209</td>\n",
       "      <td>-73.972923</td>\n",
       "      <td>40.782520</td>\n",
       "      <td>N</td>\n",
       "      <td>435</td>\n",
       "    </tr>\n",
       "  </tbody>\n",
       "</table>\n",
       "</div>"
      ],
      "text/plain": [
       "          id  vendor_id      pickup_datetime     dropoff_datetime  \\\n",
       "0  id2875421          2  2016-03-14 17:24:55  2016-03-14 17:32:30   \n",
       "1  id2377394          1  2016-06-12 00:43:35  2016-06-12 00:54:38   \n",
       "2  id3858529          2  2016-01-19 11:35:24  2016-01-19 12:10:48   \n",
       "3  id3504673          2  2016-04-06 19:32:31  2016-04-06 19:39:40   \n",
       "4  id2181028          2  2016-03-26 13:30:55  2016-03-26 13:38:10   \n",
       "\n",
       "   passenger_count  pickup_longitude  pickup_latitude  dropoff_longitude  \\\n",
       "0                1        -73.982155        40.767937         -73.964630   \n",
       "1                1        -73.980415        40.738564         -73.999481   \n",
       "2                1        -73.979027        40.763939         -74.005333   \n",
       "3                1        -74.010040        40.719971         -74.012268   \n",
       "4                1        -73.973053        40.793209         -73.972923   \n",
       "\n",
       "   dropoff_latitude store_and_fwd_flag  trip_duration  \n",
       "0         40.765602                  N            455  \n",
       "1         40.731152                  N            663  \n",
       "2         40.710087                  N           2124  \n",
       "3         40.706718                  N            429  \n",
       "4         40.782520                  N            435  "
      ]
     },
     "execution_count": 5,
     "metadata": {},
     "output_type": "execute_result"
    }
   ],
   "source": [
    "taxi_ex.head()"
   ]
  },
  {
   "cell_type": "markdown",
   "metadata": {},
   "source": [
    "# vendor_id -> dummy variable 변환"
   ]
  },
  {
   "cell_type": "code",
   "execution_count": 28,
   "metadata": {},
   "outputs": [],
   "source": [
    "dummy_id=pd.get_dummies(taxi_ex['vendor_id'],prefix='id')"
   ]
  },
  {
   "cell_type": "code",
   "execution_count": 9,
   "metadata": {},
   "outputs": [
    {
     "data": {
      "text/html": [
       "<div>\n",
       "<style scoped>\n",
       "    .dataframe tbody tr th:only-of-type {\n",
       "        vertical-align: middle;\n",
       "    }\n",
       "\n",
       "    .dataframe tbody tr th {\n",
       "        vertical-align: top;\n",
       "    }\n",
       "\n",
       "    .dataframe thead th {\n",
       "        text-align: right;\n",
       "    }\n",
       "</style>\n",
       "<table border=\"1\" class=\"dataframe\">\n",
       "  <thead>\n",
       "    <tr style=\"text-align: right;\">\n",
       "      <th></th>\n",
       "      <th>id_1</th>\n",
       "      <th>id_2</th>\n",
       "    </tr>\n",
       "  </thead>\n",
       "  <tbody>\n",
       "    <tr>\n",
       "      <th>0</th>\n",
       "      <td>0</td>\n",
       "      <td>1</td>\n",
       "    </tr>\n",
       "    <tr>\n",
       "      <th>1</th>\n",
       "      <td>1</td>\n",
       "      <td>0</td>\n",
       "    </tr>\n",
       "    <tr>\n",
       "      <th>2</th>\n",
       "      <td>0</td>\n",
       "      <td>1</td>\n",
       "    </tr>\n",
       "    <tr>\n",
       "      <th>3</th>\n",
       "      <td>0</td>\n",
       "      <td>1</td>\n",
       "    </tr>\n",
       "    <tr>\n",
       "      <th>4</th>\n",
       "      <td>0</td>\n",
       "      <td>1</td>\n",
       "    </tr>\n",
       "  </tbody>\n",
       "</table>\n",
       "</div>"
      ],
      "text/plain": [
       "   id_1  id_2\n",
       "0     0     1\n",
       "1     1     0\n",
       "2     0     1\n",
       "3     0     1\n",
       "4     0     1"
      ]
     },
     "execution_count": 9,
     "metadata": {},
     "output_type": "execute_result"
    }
   ],
   "source": [
    "dummy_id.head()"
   ]
  },
  {
   "cell_type": "code",
   "execution_count": 17,
   "metadata": {},
   "outputs": [],
   "source": [
    "y = list(taxi_ex['trip_duration'])"
   ]
  },
  {
   "cell_type": "code",
   "execution_count": 29,
   "metadata": {},
   "outputs": [
    {
     "name": "stdout",
     "output_type": "stream",
     "text": [
      "                            OLS Regression Results                            \n",
      "==============================================================================\n",
      "Dep. Variable:                      y   R-squared:                       0.000\n",
      "Model:                            OLS   Adj. R-squared:                  0.000\n",
      "Method:                 Least Squares   F-statistic:                     601.6\n",
      "Date:                Sat, 24 Feb 2018   Prob (F-statistic):          8.05e-133\n",
      "Time:                        13:36:05   Log-Likelihood:            -1.4561e+07\n",
      "No. Observations:             1458644   AIC:                         2.912e+07\n",
      "Df Residuals:                 1458642   BIC:                         2.912e+07\n",
      "Df Model:                           1                                         \n",
      "Covariance Type:            nonrobust                                         \n",
      "==============================================================================\n",
      "                 coef    std err          t      P>|t|      [0.025      0.975]\n",
      "------------------------------------------------------------------------------\n",
      "id_1         845.4382      6.358    132.977      0.000     832.977     857.899\n",
      "id_2        1058.6432      5.928    178.588      0.000    1047.025    1070.262\n",
      "================================================================================\n",
      "Omnibus:                  8287020.863   Durbin-Watson:                     2.000\n",
      "Prob(Omnibus):                  0.000   Jarque-Bera (JB):   2247942471552562.000\n",
      "Skew:                         343.397   Prob(JB):                           0.00\n",
      "Kurtosis:                  192321.380   Cond. No.                           1.07\n",
      "================================================================================\n",
      "\n",
      "Warnings:\n",
      "[1] Standard Errors assume that the covariance matrix of the errors is correctly specified.\n"
     ]
    }
   ],
   "source": [
    "model = sm.OLS(y, dummy_id)\n",
    "result = model.fit()\n",
    "print(result.summary())  "
   ]
  },
  {
   "cell_type": "markdown",
   "metadata": {},
   "source": [
    "> vendor_id가 2일 때 trip_duration이 더 길다"
   ]
  },
  {
   "cell_type": "markdown",
   "metadata": {},
   "source": [
    "# pickup datetime \n",
    "- 시간대별\n",
    "- 월별\n",
    "- 요일별"
   ]
  },
  {
   "cell_type": "markdown",
   "metadata": {},
   "source": [
    "### 월별 OLS"
   ]
  },
  {
   "cell_type": "code",
   "execution_count": 3,
   "metadata": {},
   "outputs": [],
   "source": [
    "for i in range(len(taxi)):\n",
    "    k = taxi_ex['pickup_datetime'][i][5:7]\n",
    "    taxi_ex.at[i, \"month\"] = k \n",
    "## 월별 column 추가"
   ]
  },
  {
   "cell_type": "code",
   "execution_count": 26,
   "metadata": {},
   "outputs": [],
   "source": [
    "dummy_month = pd.get_dummies(taxi_ex['month'],prefix='month')\n"
   ]
  },
  {
   "cell_type": "code",
   "execution_count": 27,
   "metadata": {},
   "outputs": [
    {
     "name": "stdout",
     "output_type": "stream",
     "text": [
      "                            OLS Regression Results                            \n",
      "==============================================================================\n",
      "Dep. Variable:                      y   R-squared:                       0.000\n",
      "Model:                            OLS   Adj. R-squared:                  0.000\n",
      "Method:                 Least Squares   F-statistic:                     13.69\n",
      "Date:                Sat, 24 Feb 2018   Prob (F-statistic):           2.14e-13\n",
      "Time:                        13:34:03   Log-Likelihood:            -1.4561e+07\n",
      "No. Observations:             1458644   AIC:                         2.912e+07\n",
      "Df Residuals:                 1458638   BIC:                         2.912e+07\n",
      "Df Model:                           5                                         \n",
      "Covariance Type:            nonrobust                                         \n",
      "==============================================================================\n",
      "                 coef    std err          t      P>|t|      [0.025      0.975]\n",
      "------------------------------------------------------------------------------\n",
      "month_01     922.3733     10.928     84.408      0.000     900.956     943.791\n",
      "month_02     920.8305     10.729     85.829      0.000     899.803     941.858\n",
      "month_03     937.3654     10.347     90.590      0.000     917.085     957.646\n",
      "month_04     962.8915     10.440     92.228      0.000     942.429     983.354\n",
      "month_05     999.4506     10.506     95.127      0.000     978.858    1020.043\n",
      "month_06    1013.3672     10.820     93.661      0.000     992.161    1034.573\n",
      "================================================================================\n",
      "Omnibus:                  8285764.005   Durbin-Watson:                     2.000\n",
      "Prob(Omnibus):                  0.000   Jarque-Bera (JB):   2244212437297335.250\n",
      "Skew:                         343.201   Prob(JB):                           0.00\n",
      "Kurtosis:                  192161.756   Cond. No.                           1.06\n",
      "================================================================================\n",
      "\n",
      "Warnings:\n",
      "[1] Standard Errors assume that the covariance matrix of the errors is correctly specified.\n"
     ]
    }
   ],
   "source": [
    "model = sm.OLS(y, dummy_month)\n",
    "result = model.fit()\n",
    "print(result.summary())  "
   ]
  },
  {
   "cell_type": "markdown",
   "metadata": {},
   "source": [
    "### 시간대별 OLS"
   ]
  },
  {
   "cell_type": "code",
   "execution_count": 4,
   "metadata": {},
   "outputs": [],
   "source": [
    "for i in range(len(taxi)):\n",
    "    k = taxi_ex['pickup_datetime'][i][11:13]\n",
    "    taxi_ex.at[i, \"time\"] = k  "
   ]
  },
  {
   "cell_type": "code",
   "execution_count": 31,
   "metadata": {},
   "outputs": [],
   "source": [
    "dummy_time = pd.get_dummies(taxi_ex['time'],prefix='time')"
   ]
  },
  {
   "cell_type": "code",
   "execution_count": 32,
   "metadata": {},
   "outputs": [
    {
     "name": "stdout",
     "output_type": "stream",
     "text": [
      "                            OLS Regression Results                            \n",
      "==============================================================================\n",
      "Dep. Variable:                      y   R-squared:                       0.000\n",
      "Model:                            OLS   Adj. R-squared:                  0.000\n",
      "Method:                 Least Squares   F-statistic:                     14.33\n",
      "Date:                Sat, 24 Feb 2018   Prob (F-statistic):           4.83e-56\n",
      "Time:                        13:39:35   Log-Likelihood:            -1.4561e+07\n",
      "No. Observations:             1458644   AIC:                         2.912e+07\n",
      "Df Residuals:                 1458620   BIC:                         2.912e+07\n",
      "Df Model:                          23                                         \n",
      "Covariance Type:            nonrobust                                         \n",
      "==============================================================================\n",
      "                 coef    std err          t      P>|t|      [0.025      0.975]\n",
      "------------------------------------------------------------------------------\n",
      "time_00      936.6573     22.695     41.272      0.000     892.177     981.138\n",
      "time_01      903.0871     26.665     33.868      0.000     850.825     955.350\n",
      "time_02      890.0769     31.312     28.426      0.000     828.706     951.447\n",
      "time_03      890.0709     36.229     24.568      0.000     819.064     961.078\n",
      "time_04      921.9764     41.673     22.124      0.000     840.299    1003.654\n",
      "time_05      822.2990     42.756     19.232      0.000     738.498     906.099\n",
      "time_06      797.4349     28.720     27.765      0.000     741.144     853.726\n",
      "time_07      831.7583     22.209     37.451      0.000     788.229     875.288\n",
      "time_08      924.5592     20.224     45.716      0.000     884.921     964.197\n",
      "time_09      933.5289     20.132     46.369      0.000     894.070     972.988\n",
      "time_10      933.3676     20.472     45.592      0.000     893.243     973.492\n",
      "time_11      966.4303     20.013     48.291      0.000     927.206    1005.654\n",
      "time_12      993.5331     19.534     50.862      0.000     955.247    1031.819\n",
      "time_13     1032.2464     19.589     52.696      0.000     993.854    1070.639\n",
      "time_14     1075.7893     19.213     55.992      0.000    1038.132    1113.447\n",
      "time_15     1118.8325     19.542     57.252      0.000    1080.530    1157.135\n",
      "time_16     1080.1463     20.650     52.307      0.000    1039.673    1120.620\n",
      "time_17     1030.5816     18.936     54.424      0.000     993.468    1067.696\n",
      "time_18      981.5832     17.398     56.418      0.000     947.483    1015.683\n",
      "time_19      894.3567     17.426     51.322      0.000     860.201     928.512\n",
      "time_20      879.4615     18.061     48.693      0.000     844.062     914.861\n",
      "time_21      890.5212     18.049     49.339      0.000     855.146     925.897\n",
      "time_22     1023.4559     18.458     55.446      0.000     987.278    1059.634\n",
      "time_23      925.0914     19.824     46.665      0.000     886.237     963.946\n",
      "================================================================================\n",
      "Omnibus:                  8286240.963   Durbin-Watson:                     2.000\n",
      "Prob(Omnibus):                  0.000   Jarque-Bera (JB):   2245469225323410.750\n",
      "Skew:                         343.276   Prob(JB):                           0.00\n",
      "Kurtosis:                  192215.554   Cond. No.                           2.46\n",
      "================================================================================\n",
      "\n",
      "Warnings:\n",
      "[1] Standard Errors assume that the covariance matrix of the errors is correctly specified.\n"
     ]
    }
   ],
   "source": [
    "model = sm.OLS(y, dummy_time)\n",
    "result = model.fit()\n",
    "print(result.summary())  "
   ]
  },
  {
   "cell_type": "markdown",
   "metadata": {},
   "source": [
    "### 요일별 OLS"
   ]
  },
  {
   "cell_type": "code",
   "execution_count": 5,
   "metadata": {},
   "outputs": [],
   "source": [
    "import calendar\n",
    "for i in range(len(taxi)):\n",
    "    m = taxi_ex['pickup_datetime'][i][5:7]\n",
    "    d = taxi_ex['pickup_datetime'][i][8:10]\n",
    "    k = calendar.weekday(2016, int(m), int(d))\n",
    "    taxi_ex.at[i, \"week\"] = k"
   ]
  },
  {
   "cell_type": "code",
   "execution_count": 34,
   "metadata": {},
   "outputs": [],
   "source": [
    "dummy_week = pd.get_dummies(taxi_ex['week'],prefix='week')"
   ]
  },
  {
   "cell_type": "code",
   "execution_count": 35,
   "metadata": {},
   "outputs": [
    {
     "name": "stdout",
     "output_type": "stream",
     "text": [
      "                            OLS Regression Results                            \n",
      "==============================================================================\n",
      "Dep. Variable:                      y   R-squared:                       0.000\n",
      "Model:                            OLS   Adj. R-squared:                  0.000\n",
      "Method:                 Least Squares   F-statistic:                     13.72\n",
      "Date:                Sat, 24 Feb 2018   Prob (F-statistic):           1.20e-15\n",
      "Time:                        13:56:17   Log-Likelihood:            -1.4561e+07\n",
      "No. Observations:             1458644   AIC:                         2.912e+07\n",
      "Df Residuals:                 1458637   BIC:                         2.912e+07\n",
      "Df Model:                           6                                         \n",
      "Covariance Type:            nonrobust                                         \n",
      "==============================================================================\n",
      "                 coef    std err          t      P>|t|      [0.025      0.975]\n",
      "------------------------------------------------------------------------------\n",
      "week_0.0     897.9478     12.098     74.225      0.000     874.237     921.659\n",
      "week_1.0     983.4631     11.631     84.553      0.000     960.666    1006.260\n",
      "week_2.0     975.4505     11.425     85.378      0.000     953.058     997.843\n",
      "week_3.0    1006.5287     11.202     89.850      0.000     984.573    1028.485\n",
      "week_4.0     990.2242     11.077     89.392      0.000     968.513    1011.935\n",
      "week_5.0     948.0512     11.144     85.073      0.000     926.209     969.893\n",
      "week_6.0     901.6394     11.849     76.094      0.000     878.416     924.863\n",
      "================================================================================\n",
      "Omnibus:                  8285707.358   Durbin-Watson:                     2.000\n",
      "Prob(Omnibus):                  0.000   Jarque-Bera (JB):   2244080987088621.750\n",
      "Skew:                         343.192   Prob(JB):                           0.00\n",
      "Kurtosis:                  192156.128   Cond. No.                           1.09\n",
      "================================================================================\n",
      "\n",
      "Warnings:\n",
      "[1] Standard Errors assume that the covariance matrix of the errors is correctly specified.\n"
     ]
    }
   ],
   "source": [
    "model = sm.OLS(y, dummy_week)\n",
    "result = model.fit()\n",
    "print(result.summary())  "
   ]
  },
  {
   "cell_type": "markdown",
   "metadata": {},
   "source": [
    "# passenger count"
   ]
  },
  {
   "cell_type": "code",
   "execution_count": 39,
   "metadata": {},
   "outputs": [],
   "source": [
    "X = sm.add_constant(taxi_ex['passenger_count'])"
   ]
  },
  {
   "cell_type": "code",
   "execution_count": 41,
   "metadata": {},
   "outputs": [
    {
     "name": "stdout",
     "output_type": "stream",
     "text": [
      "                            OLS Regression Results                            \n",
      "==============================================================================\n",
      "Dep. Variable:                      y   R-squared:                       0.000\n",
      "Model:                            OLS   Adj. R-squared:                  0.000\n",
      "Method:                 Least Squares   F-statistic:                     104.7\n",
      "Date:                Sat, 24 Feb 2018   Prob (F-statistic):           1.44e-24\n",
      "Time:                        15:17:53   Log-Likelihood:            -1.4561e+07\n",
      "No. Observations:             1458644   AIC:                         2.912e+07\n",
      "Df Residuals:                 1458642   BIC:                         2.912e+07\n",
      "Df Model:                           1                                         \n",
      "Covariance Type:            nonrobust                                         \n",
      "===================================================================================\n",
      "                      coef    std err          t      P>|t|      [0.025      0.975]\n",
      "-----------------------------------------------------------------------------------\n",
      "const             903.3010      6.998    129.085      0.000     889.586     917.016\n",
      "passenger_count    33.7580      3.300     10.231      0.000      27.291      40.225\n",
      "================================================================================\n",
      "Omnibus:                  8285779.904   Durbin-Watson:                     2.000\n",
      "Prob(Omnibus):                  0.000   Jarque-Bera (JB):   2244313951622524.750\n",
      "Skew:                         343.204   Prob(JB):                           0.00\n",
      "Kurtosis:                  192166.102   Cond. No.                           3.93\n",
      "================================================================================\n",
      "\n",
      "Warnings:\n",
      "[1] Standard Errors assume that the covariance matrix of the errors is correctly specified.\n"
     ]
    }
   ],
   "source": [
    "model = sm.OLS(y, X)\n",
    "result = model.fit()\n",
    "print(result.summary()) "
   ]
  },
  {
   "cell_type": "markdown",
   "metadata": {},
   "source": [
    "# distance"
   ]
  },
  {
   "cell_type": "code",
   "execution_count": 7,
   "metadata": {},
   "outputs": [],
   "source": [
    "from math import cos, asin, sqrt\n",
    "def dist(lat1, lon1, lat2, lon2):\n",
    "    p = 0.017453292519943295     #Pi/180\n",
    "    a = 0.5 - cos((lat2 - lat1) * p)/2 + cos(lat1 * p) * cos(lat2 * p) * (1 - cos((lon2 - lon1) * p)) / 2\n",
    "    return 12742 * asin(sqrt(a))"
   ]
  },
  {
   "cell_type": "code",
   "execution_count": null,
   "metadata": {},
   "outputs": [],
   "source": [
    "for i in range(len(taxi)):\n",
    "    lat1 = taxi['pickup_latitude'][i]\n",
    "    lon1 = taxi['pickup_longitude'][i]\n",
    "    lat2 = taxi['dropoff_latitude'][i]\n",
    "    lon2 = taxi['dropoff_longitude'][i]\n",
    "    taxi_ex.at[i, 'distance'] = dist(lat1, lon1, lat2, lon2)\n"
   ]
  },
  {
   "cell_type": "markdown",
   "metadata": {},
   "source": [
    "# outlier removal"
   ]
  },
  {
   "cell_type": "code",
   "execution_count": null,
   "metadata": {},
   "outputs": [],
   "source": []
  }
 ],
 "metadata": {
  "kernelspec": {
   "display_name": "Python 3",
   "language": "python",
   "name": "python3"
  },
  "language_info": {
   "codemirror_mode": {
    "name": "ipython",
    "version": 3
   },
   "file_extension": ".py",
   "mimetype": "text/x-python",
   "name": "python",
   "nbconvert_exporter": "python",
   "pygments_lexer": "ipython3",
   "version": "3.6.4"
  }
 },
 "nbformat": 4,
 "nbformat_minor": 2
}
