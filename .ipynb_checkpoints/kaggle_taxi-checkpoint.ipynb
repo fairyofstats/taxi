{
 "cells": [
  {
   "cell_type": "markdown",
   "metadata": {},
   "source": [
    "# Kaggle New York City Taxi Duration\n",
    "\n",
    "\n",
    "\n",
    "https://www.kaggle.com/c/nyc-taxi-trip-duration/kernels"
   ]
  },
  {
   "cell_type": "code",
   "execution_count": 5,
   "metadata": {},
   "outputs": [],
   "source": [
    "from IPython.display import display\n",
    "import numpy as np\n",
    "import matplotlib.pyplot as plt\n",
    "import pandas as pd\n",
    "import mglearn\n",
    "import seaborn as sns\n",
    "from ipyleaflet import *\n",
    "import time\n",
    "\n",
    "%matplotlib inline"
   ]
  },
  {
   "cell_type": "code",
   "execution_count": 6,
   "metadata": {},
   "outputs": [
    {
     "data": {
      "text/html": [
       "<div>\n",
       "<style scoped>\n",
       "    .dataframe tbody tr th:only-of-type {\n",
       "        vertical-align: middle;\n",
       "    }\n",
       "\n",
       "    .dataframe tbody tr th {\n",
       "        vertical-align: top;\n",
       "    }\n",
       "\n",
       "    .dataframe thead th {\n",
       "        text-align: right;\n",
       "    }\n",
       "</style>\n",
       "<table border=\"1\" class=\"dataframe\">\n",
       "  <thead>\n",
       "    <tr style=\"text-align: right;\">\n",
       "      <th></th>\n",
       "      <th>id</th>\n",
       "      <th>vendor_id</th>\n",
       "      <th>pickup_datetime</th>\n",
       "      <th>dropoff_datetime</th>\n",
       "      <th>passenger_count</th>\n",
       "      <th>pickup_longitude</th>\n",
       "      <th>pickup_latitude</th>\n",
       "      <th>dropoff_longitude</th>\n",
       "      <th>dropoff_latitude</th>\n",
       "      <th>store_and_fwd_flag</th>\n",
       "      <th>trip_duration</th>\n",
       "    </tr>\n",
       "  </thead>\n",
       "  <tbody>\n",
       "    <tr>\n",
       "      <th>0</th>\n",
       "      <td>id2875421</td>\n",
       "      <td>2</td>\n",
       "      <td>2016-03-14 17:24:55</td>\n",
       "      <td>2016-03-14 17:32:30</td>\n",
       "      <td>1</td>\n",
       "      <td>-73.982155</td>\n",
       "      <td>40.767937</td>\n",
       "      <td>-73.964630</td>\n",
       "      <td>40.765602</td>\n",
       "      <td>N</td>\n",
       "      <td>455</td>\n",
       "    </tr>\n",
       "    <tr>\n",
       "      <th>1</th>\n",
       "      <td>id2377394</td>\n",
       "      <td>1</td>\n",
       "      <td>2016-06-12 00:43:35</td>\n",
       "      <td>2016-06-12 00:54:38</td>\n",
       "      <td>1</td>\n",
       "      <td>-73.980415</td>\n",
       "      <td>40.738564</td>\n",
       "      <td>-73.999481</td>\n",
       "      <td>40.731152</td>\n",
       "      <td>N</td>\n",
       "      <td>663</td>\n",
       "    </tr>\n",
       "    <tr>\n",
       "      <th>2</th>\n",
       "      <td>id3858529</td>\n",
       "      <td>2</td>\n",
       "      <td>2016-01-19 11:35:24</td>\n",
       "      <td>2016-01-19 12:10:48</td>\n",
       "      <td>1</td>\n",
       "      <td>-73.979027</td>\n",
       "      <td>40.763939</td>\n",
       "      <td>-74.005333</td>\n",
       "      <td>40.710087</td>\n",
       "      <td>N</td>\n",
       "      <td>2124</td>\n",
       "    </tr>\n",
       "    <tr>\n",
       "      <th>3</th>\n",
       "      <td>id3504673</td>\n",
       "      <td>2</td>\n",
       "      <td>2016-04-06 19:32:31</td>\n",
       "      <td>2016-04-06 19:39:40</td>\n",
       "      <td>1</td>\n",
       "      <td>-74.010040</td>\n",
       "      <td>40.719971</td>\n",
       "      <td>-74.012268</td>\n",
       "      <td>40.706718</td>\n",
       "      <td>N</td>\n",
       "      <td>429</td>\n",
       "    </tr>\n",
       "    <tr>\n",
       "      <th>4</th>\n",
       "      <td>id2181028</td>\n",
       "      <td>2</td>\n",
       "      <td>2016-03-26 13:30:55</td>\n",
       "      <td>2016-03-26 13:38:10</td>\n",
       "      <td>1</td>\n",
       "      <td>-73.973053</td>\n",
       "      <td>40.793209</td>\n",
       "      <td>-73.972923</td>\n",
       "      <td>40.782520</td>\n",
       "      <td>N</td>\n",
       "      <td>435</td>\n",
       "    </tr>\n",
       "  </tbody>\n",
       "</table>\n",
       "</div>"
      ],
      "text/plain": [
       "          id  vendor_id      pickup_datetime     dropoff_datetime  \\\n",
       "0  id2875421          2  2016-03-14 17:24:55  2016-03-14 17:32:30   \n",
       "1  id2377394          1  2016-06-12 00:43:35  2016-06-12 00:54:38   \n",
       "2  id3858529          2  2016-01-19 11:35:24  2016-01-19 12:10:48   \n",
       "3  id3504673          2  2016-04-06 19:32:31  2016-04-06 19:39:40   \n",
       "4  id2181028          2  2016-03-26 13:30:55  2016-03-26 13:38:10   \n",
       "\n",
       "   passenger_count  pickup_longitude  pickup_latitude  dropoff_longitude  \\\n",
       "0                1        -73.982155        40.767937         -73.964630   \n",
       "1                1        -73.980415        40.738564         -73.999481   \n",
       "2                1        -73.979027        40.763939         -74.005333   \n",
       "3                1        -74.010040        40.719971         -74.012268   \n",
       "4                1        -73.973053        40.793209         -73.972923   \n",
       "\n",
       "   dropoff_latitude store_and_fwd_flag  trip_duration  \n",
       "0         40.765602                  N            455  \n",
       "1         40.731152                  N            663  \n",
       "2         40.710087                  N           2124  \n",
       "3         40.706718                  N            429  \n",
       "4         40.782520                  N            435  "
      ]
     },
     "execution_count": 6,
     "metadata": {},
     "output_type": "execute_result"
    }
   ],
   "source": [
    "train = pd.read_csv(\"~/Documents/taxi_data/train.csv\")\n",
    "train.head()"
   ]
  },
  {
   "cell_type": "code",
   "execution_count": 7,
   "metadata": {},
   "outputs": [
    {
     "name": "stdout",
     "output_type": "stream",
     "text": [
      "<class 'pandas.core.frame.DataFrame'>\n",
      "RangeIndex: 1458644 entries, 0 to 1458643\n",
      "Data columns (total 11 columns):\n",
      "id                    1458644 non-null object\n",
      "vendor_id             1458644 non-null int64\n",
      "pickup_datetime       1458644 non-null object\n",
      "dropoff_datetime      1458644 non-null object\n",
      "passenger_count       1458644 non-null int64\n",
      "pickup_longitude      1458644 non-null float64\n",
      "pickup_latitude       1458644 non-null float64\n",
      "dropoff_longitude     1458644 non-null float64\n",
      "dropoff_latitude      1458644 non-null float64\n",
      "store_and_fwd_flag    1458644 non-null object\n",
      "trip_duration         1458644 non-null int64\n",
      "dtypes: float64(4), int64(3), object(4)\n",
      "memory usage: 122.4+ MB\n"
     ]
    }
   ],
   "source": [
    "train.info()"
   ]
  },
  {
   "cell_type": "code",
   "execution_count": 8,
   "metadata": {},
   "outputs": [
    {
     "data": {
      "text/html": [
       "<div>\n",
       "<style scoped>\n",
       "    .dataframe tbody tr th:only-of-type {\n",
       "        vertical-align: middle;\n",
       "    }\n",
       "\n",
       "    .dataframe tbody tr th {\n",
       "        vertical-align: top;\n",
       "    }\n",
       "\n",
       "    .dataframe thead th {\n",
       "        text-align: right;\n",
       "    }\n",
       "</style>\n",
       "<table border=\"1\" class=\"dataframe\">\n",
       "  <thead>\n",
       "    <tr style=\"text-align: right;\">\n",
       "      <th></th>\n",
       "      <th>vendor_id</th>\n",
       "      <th>passenger_count</th>\n",
       "      <th>pickup_longitude</th>\n",
       "      <th>pickup_latitude</th>\n",
       "      <th>dropoff_longitude</th>\n",
       "      <th>dropoff_latitude</th>\n",
       "      <th>trip_duration</th>\n",
       "    </tr>\n",
       "  </thead>\n",
       "  <tbody>\n",
       "    <tr>\n",
       "      <th>count</th>\n",
       "      <td>1.458644e+06</td>\n",
       "      <td>1.458644e+06</td>\n",
       "      <td>1.458644e+06</td>\n",
       "      <td>1.458644e+06</td>\n",
       "      <td>1.458644e+06</td>\n",
       "      <td>1.458644e+06</td>\n",
       "      <td>1.458644e+06</td>\n",
       "    </tr>\n",
       "    <tr>\n",
       "      <th>mean</th>\n",
       "      <td>1.534950e+00</td>\n",
       "      <td>1.664530e+00</td>\n",
       "      <td>-7.397349e+01</td>\n",
       "      <td>4.075092e+01</td>\n",
       "      <td>-7.397342e+01</td>\n",
       "      <td>4.075180e+01</td>\n",
       "      <td>9.594923e+02</td>\n",
       "    </tr>\n",
       "    <tr>\n",
       "      <th>std</th>\n",
       "      <td>4.987772e-01</td>\n",
       "      <td>1.314242e+00</td>\n",
       "      <td>7.090186e-02</td>\n",
       "      <td>3.288119e-02</td>\n",
       "      <td>7.064327e-02</td>\n",
       "      <td>3.589056e-02</td>\n",
       "      <td>5.237432e+03</td>\n",
       "    </tr>\n",
       "    <tr>\n",
       "      <th>min</th>\n",
       "      <td>1.000000e+00</td>\n",
       "      <td>0.000000e+00</td>\n",
       "      <td>-1.219333e+02</td>\n",
       "      <td>3.435970e+01</td>\n",
       "      <td>-1.219333e+02</td>\n",
       "      <td>3.218114e+01</td>\n",
       "      <td>1.000000e+00</td>\n",
       "    </tr>\n",
       "    <tr>\n",
       "      <th>25%</th>\n",
       "      <td>1.000000e+00</td>\n",
       "      <td>1.000000e+00</td>\n",
       "      <td>-7.399187e+01</td>\n",
       "      <td>4.073735e+01</td>\n",
       "      <td>-7.399133e+01</td>\n",
       "      <td>4.073588e+01</td>\n",
       "      <td>3.970000e+02</td>\n",
       "    </tr>\n",
       "    <tr>\n",
       "      <th>50%</th>\n",
       "      <td>2.000000e+00</td>\n",
       "      <td>1.000000e+00</td>\n",
       "      <td>-7.398174e+01</td>\n",
       "      <td>4.075410e+01</td>\n",
       "      <td>-7.397975e+01</td>\n",
       "      <td>4.075452e+01</td>\n",
       "      <td>6.620000e+02</td>\n",
       "    </tr>\n",
       "    <tr>\n",
       "      <th>75%</th>\n",
       "      <td>2.000000e+00</td>\n",
       "      <td>2.000000e+00</td>\n",
       "      <td>-7.396733e+01</td>\n",
       "      <td>4.076836e+01</td>\n",
       "      <td>-7.396301e+01</td>\n",
       "      <td>4.076981e+01</td>\n",
       "      <td>1.075000e+03</td>\n",
       "    </tr>\n",
       "    <tr>\n",
       "      <th>max</th>\n",
       "      <td>2.000000e+00</td>\n",
       "      <td>9.000000e+00</td>\n",
       "      <td>-6.133553e+01</td>\n",
       "      <td>5.188108e+01</td>\n",
       "      <td>-6.133553e+01</td>\n",
       "      <td>4.392103e+01</td>\n",
       "      <td>3.526282e+06</td>\n",
       "    </tr>\n",
       "  </tbody>\n",
       "</table>\n",
       "</div>"
      ],
      "text/plain": [
       "          vendor_id  passenger_count  pickup_longitude  pickup_latitude  \\\n",
       "count  1.458644e+06     1.458644e+06      1.458644e+06     1.458644e+06   \n",
       "mean   1.534950e+00     1.664530e+00     -7.397349e+01     4.075092e+01   \n",
       "std    4.987772e-01     1.314242e+00      7.090186e-02     3.288119e-02   \n",
       "min    1.000000e+00     0.000000e+00     -1.219333e+02     3.435970e+01   \n",
       "25%    1.000000e+00     1.000000e+00     -7.399187e+01     4.073735e+01   \n",
       "50%    2.000000e+00     1.000000e+00     -7.398174e+01     4.075410e+01   \n",
       "75%    2.000000e+00     2.000000e+00     -7.396733e+01     4.076836e+01   \n",
       "max    2.000000e+00     9.000000e+00     -6.133553e+01     5.188108e+01   \n",
       "\n",
       "       dropoff_longitude  dropoff_latitude  trip_duration  \n",
       "count       1.458644e+06      1.458644e+06   1.458644e+06  \n",
       "mean       -7.397342e+01      4.075180e+01   9.594923e+02  \n",
       "std         7.064327e-02      3.589056e-02   5.237432e+03  \n",
       "min        -1.219333e+02      3.218114e+01   1.000000e+00  \n",
       "25%        -7.399133e+01      4.073588e+01   3.970000e+02  \n",
       "50%        -7.397975e+01      4.075452e+01   6.620000e+02  \n",
       "75%        -7.396301e+01      4.076981e+01   1.075000e+03  \n",
       "max        -6.133553e+01      4.392103e+01   3.526282e+06  "
      ]
     },
     "execution_count": 8,
     "metadata": {},
     "output_type": "execute_result"
    }
   ],
   "source": [
    "train.describe()"
   ]
  },
  {
   "cell_type": "code",
   "execution_count": 9,
   "metadata": {},
   "outputs": [],
   "source": [
    "# test = pd.read_csv(\"~/Documents/taxi_data/test.csv\")\n",
    "# test.head()"
   ]
  },
  {
   "cell_type": "code",
   "execution_count": 10,
   "metadata": {},
   "outputs": [],
   "source": [
    "# test.info()"
   ]
  },
  {
   "cell_type": "code",
   "execution_count": 11,
   "metadata": {},
   "outputs": [],
   "source": [
    "# test.describe()"
   ]
  },
  {
   "cell_type": "code",
   "execution_count": 12,
   "metadata": {},
   "outputs": [],
   "source": [
    "# def classfi_N_Y(input_data):\n",
    "#     return 'N' if input_data == 'N' else 'Y' \n",
    "\n",
    "# train.store_and_fwd_flag.apply(classfi_N_Y)"
   ]
  },
  {
   "cell_type": "code",
   "execution_count": 13,
   "metadata": {},
   "outputs": [],
   "source": [
    "# a= train[\"pickup_datetime\"].split(\" \")\n",
    "# a"
   ]
  },
  {
   "cell_type": "code",
   "execution_count": 14,
   "metadata": {
    "scrolled": true
   },
   "outputs": [],
   "source": [
    "# train[\"dura\"] = train[\"pickup_datetime\"] - train[\"dropoff_datetime\"]"
   ]
  },
  {
   "cell_type": "code",
   "execution_count": null,
   "metadata": {},
   "outputs": [],
   "source": []
  },
  {
   "cell_type": "code",
   "execution_count": 15,
   "metadata": {},
   "outputs": [],
   "source": [
    "# sns.pairplot(train)"
   ]
  },
  {
   "cell_type": "code",
   "execution_count": 16,
   "metadata": {},
   "outputs": [],
   "source": [
    "# sns.regplot(train)"
   ]
  },
  {
   "cell_type": "code",
   "execution_count": 17,
   "metadata": {},
   "outputs": [],
   "source": [
    "# center = train[\"pickup_latitude\"]\n",
    "# zoom = 13\n",
    "# m = Map(center=center, zoom=zoom)\n",
    "# m"
   ]
  },
  {
   "cell_type": "code",
   "execution_count": 18,
   "metadata": {},
   "outputs": [],
   "source": [
    "# locs = train.pickup_latitude ,train.pickup_longitude\n",
    "# print(train.pickup_latitude, train.pickup_longitude, end = \"\\t\\t\")"
   ]
  },
  {
   "cell_type": "code",
   "execution_count": 19,
   "metadata": {},
   "outputs": [
    {
     "data": {
      "application/vnd.jupyter.widget-view+json": {
       "model_id": "5d86912b0f7743d2852e86549fff3cb4",
       "version_major": 2,
       "version_minor": 0
      },
      "text/html": [
       "<p>Failed to display Jupyter Widget of type <code>Map</code>.</p>\n",
       "<p>\n",
       "  If you're reading this message in the Jupyter Notebook or JupyterLab Notebook, it may mean\n",
       "  that the widgets JavaScript is still loading. If this message persists, it\n",
       "  likely means that the widgets JavaScript library is either not installed or\n",
       "  not enabled. See the <a href=\"https://ipywidgets.readthedocs.io/en/stable/user_install.html\">Jupyter\n",
       "  Widgets Documentation</a> for setup instructions.\n",
       "</p>\n",
       "<p>\n",
       "  If you're reading this message in another frontend (for example, a static\n",
       "  rendering on GitHub or <a href=\"https://nbviewer.jupyter.org/\">NBViewer</a>),\n",
       "  it may mean that your frontend doesn't currently support widgets.\n",
       "</p>\n"
      ],
      "text/plain": [
       "Map(basemap={'url': 'https://{s}.tile.openstreetmap.org/{z}/{x}/{y}.png', 'max_zoom': 19, 'attribution': 'Map data (c) <a href=\"https://openstreetmap.org\">OpenStreetMap</a> contributors'}, center=[40.767937, -73.982155], default_tiles=TileLayer(max_zoom=19, min_zoom=1, options=['attribution', 'detect_retina', 'max_zoom', 'min_zoom', 'opacity', 'tile_size']), layers=(TileLayer(max_zoom=19, min_zoom=1, options=['attribution', 'detect_retina', 'max_zoom', 'min_zoom', 'opacity', 'tile_size']),), layout=Layout(align_self='stretch', height='400px'), options=['attribution_control', 'basemap', 'bounce_at_zoom_limits', 'box_zoom', 'center', 'close_popup_on_click', 'double_click_zoom', 'dragging', 'inertia', 'inertia_deceleration', 'inertia_max_speed', 'keyboard', 'keyboard_pan_offset', 'keyboard_zoom_offset', 'max_zoom', 'min_zoom', 'scroll_wheel_zoom', 'tap', 'tap_tolerance', 'touch_zoom', 'world_copy_jump', 'zoom', 'zoom_animation_threshold', 'zoom_control', 'zoom_start'], zoom=13)"
      ]
     },
     "metadata": {},
     "output_type": "display_data"
    }
   ],
   "source": [
    "center = [40.767937, -73.982155]\n",
    "zoom = 13\n",
    "m = Map(center=center, zoom=zoom)\n",
    "m"
   ]
  },
  {
   "cell_type": "code",
   "execution_count": 20,
   "metadata": {},
   "outputs": [],
   "source": [
    "marker = Marker(location=center)\n",
    "m += marker"
   ]
  },
  {
   "cell_type": "code",
   "execution_count": 22,
   "metadata": {},
   "outputs": [
    {
     "data": {
      "text/html": [
       "<div>\n",
       "<style scoped>\n",
       "    .dataframe tbody tr th:only-of-type {\n",
       "        vertical-align: middle;\n",
       "    }\n",
       "\n",
       "    .dataframe tbody tr th {\n",
       "        vertical-align: top;\n",
       "    }\n",
       "\n",
       "    .dataframe thead th {\n",
       "        text-align: right;\n",
       "    }\n",
       "</style>\n",
       "<table border=\"1\" class=\"dataframe\">\n",
       "  <thead>\n",
       "    <tr style=\"text-align: right;\">\n",
       "      <th></th>\n",
       "      <th>id</th>\n",
       "      <th>vendor_id</th>\n",
       "      <th>pickup_datetime</th>\n",
       "      <th>dropoff_datetime</th>\n",
       "      <th>passenger_count</th>\n",
       "      <th>pickup_longitude</th>\n",
       "      <th>pickup_latitude</th>\n",
       "      <th>dropoff_longitude</th>\n",
       "      <th>dropoff_latitude</th>\n",
       "      <th>store_and_fwd_flag</th>\n",
       "      <th>trip_duration</th>\n",
       "    </tr>\n",
       "  </thead>\n",
       "  <tbody>\n",
       "    <tr>\n",
       "      <th>0</th>\n",
       "      <td>id2875421</td>\n",
       "      <td>2</td>\n",
       "      <td>2016-03-14 17:24:55</td>\n",
       "      <td>2016-03-14 17:32:30</td>\n",
       "      <td>1</td>\n",
       "      <td>-73.982155</td>\n",
       "      <td>40.767937</td>\n",
       "      <td>-73.96463</td>\n",
       "      <td>40.765602</td>\n",
       "      <td>N</td>\n",
       "      <td>455</td>\n",
       "    </tr>\n",
       "  </tbody>\n",
       "</table>\n",
       "</div>"
      ],
      "text/plain": [
       "          id  vendor_id      pickup_datetime     dropoff_datetime  \\\n",
       "0  id2875421          2  2016-03-14 17:24:55  2016-03-14 17:32:30   \n",
       "\n",
       "   passenger_count  pickup_longitude  pickup_latitude  dropoff_longitude  \\\n",
       "0                1        -73.982155        40.767937          -73.96463   \n",
       "\n",
       "   dropoff_latitude store_and_fwd_flag  trip_duration  \n",
       "0         40.765602                  N            455  "
      ]
     },
     "execution_count": 22,
     "metadata": {},
     "output_type": "execute_result"
    }
   ],
   "source": [
    "train[0:1]"
   ]
  },
  {
   "cell_type": "code",
   "execution_count": 23,
   "metadata": {},
   "outputs": [
    {
     "data": {
      "text/html": [
       "<div>\n",
       "<style scoped>\n",
       "    .dataframe tbody tr th:only-of-type {\n",
       "        vertical-align: middle;\n",
       "    }\n",
       "\n",
       "    .dataframe tbody tr th {\n",
       "        vertical-align: top;\n",
       "    }\n",
       "\n",
       "    .dataframe thead th {\n",
       "        text-align: right;\n",
       "    }\n",
       "</style>\n",
       "<table border=\"1\" class=\"dataframe\">\n",
       "  <thead>\n",
       "    <tr style=\"text-align: right;\">\n",
       "      <th></th>\n",
       "      <th>id</th>\n",
       "      <th>vendor_id</th>\n",
       "      <th>pickup_datetime</th>\n",
       "      <th>dropoff_datetime</th>\n",
       "      <th>passenger_count</th>\n",
       "      <th>pickup_longitude</th>\n",
       "      <th>pickup_latitude</th>\n",
       "      <th>dropoff_longitude</th>\n",
       "      <th>dropoff_latitude</th>\n",
       "      <th>store_and_fwd_flag</th>\n",
       "      <th>trip_duration</th>\n",
       "    </tr>\n",
       "  </thead>\n",
       "  <tbody>\n",
       "    <tr>\n",
       "      <th>1</th>\n",
       "      <td>id2377394</td>\n",
       "      <td>1</td>\n",
       "      <td>2016-06-12 00:43:35</td>\n",
       "      <td>2016-06-12 00:54:38</td>\n",
       "      <td>1</td>\n",
       "      <td>-73.980415</td>\n",
       "      <td>40.738564</td>\n",
       "      <td>-73.999481</td>\n",
       "      <td>40.731152</td>\n",
       "      <td>N</td>\n",
       "      <td>663</td>\n",
       "    </tr>\n",
       "  </tbody>\n",
       "</table>\n",
       "</div>"
      ],
      "text/plain": [
       "          id  vendor_id      pickup_datetime     dropoff_datetime  \\\n",
       "1  id2377394          1  2016-06-12 00:43:35  2016-06-12 00:54:38   \n",
       "\n",
       "   passenger_count  pickup_longitude  pickup_latitude  dropoff_longitude  \\\n",
       "1                1        -73.980415        40.738564         -73.999481   \n",
       "\n",
       "   dropoff_latitude store_and_fwd_flag  trip_duration  \n",
       "1         40.731152                  N            663  "
      ]
     },
     "execution_count": 23,
     "metadata": {},
     "output_type": "execute_result"
    }
   ],
   "source": [
    "train[1:2]"
   ]
  },
  {
   "cell_type": "code",
   "execution_count": 24,
   "metadata": {},
   "outputs": [],
   "source": [
    "from IPython.core.display import display, HTML\n",
    "from string import Template\n",
    "import json"
   ]
  },
  {
   "cell_type": "code",
   "execution_count": 25,
   "metadata": {},
   "outputs": [
    {
     "ename": "SyntaxError",
     "evalue": "invalid syntax (<ipython-input-25-064649adc854>, line 1)",
     "output_type": "error",
     "traceback": [
      "\u001b[0;36m  File \u001b[0;32m\"<ipython-input-25-064649adc854>\"\u001b[0;36m, line \u001b[0;32m1\u001b[0m\n\u001b[0;31m    var pointA = new L.LatLng(40.767937, -73.982155);\u001b[0m\n\u001b[0m             ^\u001b[0m\n\u001b[0;31mSyntaxError\u001b[0m\u001b[0;31m:\u001b[0m invalid syntax\n"
     ]
    }
   ],
   "source": [
    "var pointA = new L.LatLng(40.767937, -73.982155);\n",
    "var pointB = new L.LatLng(40.765602, -73.964630);\n",
    "var pointList = [pointA, pointB];\n",
    "\n",
    "var firstpolyline = new L.Polyline(pointList {\n",
    "color: 'red',\n",
    "weight: 3,\n",
    "opacity: 0.5\n",
    "smoothFactor: 1\n",
    "\n",
    "    });\n",
    "\n",
    "map.addLayer(firstpolyline);"
   ]
  },
  {
   "cell_type": "code",
   "execution_count": 26,
   "metadata": {},
   "outputs": [
    {
     "ename": "SyntaxError",
     "evalue": "invalid syntax (<ipython-input-26-43724a097649>, line 1)",
     "output_type": "error",
     "traceback": [
      "\u001b[0;36m  File \u001b[0;32m\"<ipython-input-26-43724a097649>\"\u001b[0;36m, line \u001b[0;32m1\u001b[0m\n\u001b[0;31m    function getDistance(origin, destination) {\u001b[0m\n\u001b[0m                       ^\u001b[0m\n\u001b[0;31mSyntaxError\u001b[0m\u001b[0;31m:\u001b[0m invalid syntax\n"
     ]
    }
   ],
   "source": []
  },
  {
   "cell_type": "code",
   "execution_count": 27,
   "metadata": {},
   "outputs": [
    {
     "ename": "NameError",
     "evalue": "name 'nodes' is not defined",
     "output_type": "error",
     "traceback": [
      "\u001b[0;31m---------------------------------------------------------------------------\u001b[0m",
      "\u001b[0;31mNameError\u001b[0m                                 Traceback (most recent call last)",
      "\u001b[0;32m<ipython-input-27-496c280c2962>\u001b[0m in \u001b[0;36m<module>\u001b[0;34m()\u001b[0m\n\u001b[1;32m      3\u001b[0m \u001b[0;34m\u001b[0m\u001b[0m\n\u001b[1;32m      4\u001b[0m \u001b[0;31m# Transform the graph into a JSON graph\u001b[0m\u001b[0;34m\u001b[0m\u001b[0;34m\u001b[0m\u001b[0m\n\u001b[0;32m----> 5\u001b[0;31m \u001b[0mdata\u001b[0m \u001b[0;34m=\u001b[0m \u001b[0;34m{\u001b[0m\u001b[0;34m\"nodes\"\u001b[0m\u001b[0;34m:\u001b[0m\u001b[0mnodes\u001b[0m\u001b[0;34m,\u001b[0m \u001b[0;34m\"edges\"\u001b[0m\u001b[0;34m:\u001b[0m\u001b[0medges\u001b[0m\u001b[0;34m}\u001b[0m\u001b[0;34m\u001b[0m\u001b[0m\n\u001b[0m\u001b[1;32m      6\u001b[0m \u001b[0mjsonGraph\u001b[0m \u001b[0;34m=\u001b[0m \u001b[0mjson\u001b[0m\u001b[0;34m.\u001b[0m\u001b[0mdumps\u001b[0m\u001b[0;34m(\u001b[0m\u001b[0mdata\u001b[0m\u001b[0;34m,\u001b[0m \u001b[0mindent\u001b[0m\u001b[0;34m=\u001b[0m\u001b[0;36m4\u001b[0m\u001b[0;34m)\u001b[0m\u001b[0;34m\u001b[0m\u001b[0m\n\u001b[1;32m      7\u001b[0m \u001b[0;34m\u001b[0m\u001b[0m\n",
      "\u001b[0;31mNameError\u001b[0m: name 'nodes' is not defined"
     ]
    }
   ],
   "source": [
    "from IPython.display import Javascript\n",
    "import json\n",
    "\n",
    "# Transform the graph into a JSON graph\n",
    "data = {\"nodes\":nodes, \"edges\":edges}\n",
    "jsonGraph = json.dumps(data, indent=4)\n",
    "\n",
    "# Send to Javascript\n",
    "Javascript(\"\"\"window.jsonGraph={};\"\"\".format(jsonGraph))"
   ]
  },
  {
   "cell_type": "code",
   "execution_count": 28,
   "metadata": {},
   "outputs": [
    {
     "data": {
      "text/html": [
       "<div id=\"mynetwork\"></div>"
      ],
      "text/plain": [
       "<IPython.core.display.HTML object>"
      ]
     },
     "metadata": {},
     "output_type": "display_data"
    }
   ],
   "source": [
    "%%html\n",
    "<div id=\"mynetwork\"></div>"
   ]
  },
  {
   "cell_type": "code",
   "execution_count": 30,
   "metadata": {},
   "outputs": [
    {
     "data": {
      "application/javascript": [
       "\n",
       "function getDistance(origin, destination) {\n",
       "    // return distance in meters\n",
       "    var lon1 = toRadian(origin[1]),\n",
       "        lat1 = toRadian(origin[0]),\n",
       "        lon2 = toRadian(destination[1]),\n",
       "        lat2 = toRadian(destination[0]);\n",
       "\n",
       "    var deltaLat = lat2 - lat1;\n",
       "    var deltaLon = lon2 - lon1;\n",
       "\n",
       "    var a = Math.pow(Math.sin(deltaLat/2), 2) + Math.cos(lat1) * Math.cos(lat2) * Math.pow(Math.sin(deltaLon/2), 2);\n",
       "    var c = 2 * Math.asin(Math.sqrt(a));\n",
       "    var EARTH_RADIUS = 6371;\n",
       "    return c * EARTH_RADIUS * 1000;\n",
       "}\n",
       "function toRadian(degree) {\n",
       "    return degree*Math.PI/180;\n",
       "}\n",
       "var distance = getDistance([lat1, lng2], [lat2, lng2])"
      ],
      "text/plain": [
       "<IPython.core.display.Javascript object>"
      ]
     },
     "metadata": {},
     "output_type": "display_data"
    }
   ],
   "source": [
    "%%javascript\n",
    "\n",
    "function getDistance(origin, destination) {\n",
    "    // return distance in meters\n",
    "    var lon1 = toRadian(origin[1]),\n",
    "        lat1 = toRadian(origin[0]),\n",
    "        lon2 = toRadian(destination[1]),\n",
    "        lat2 = toRadian(destination[0]);\n",
    "\n",
    "    var deltaLat = lat2 - lat1;\n",
    "    var deltaLon = lon2 - lon1;\n",
    "\n",
    "    var a = Math.pow(Math.sin(deltaLat/2), 2) + Math.cos(lat1) * Math.cos(lat2) * Math.pow(Math.sin(deltaLon/2), 2);\n",
    "    var c = 2 * Math.asin(Math.sqrt(a));\n",
    "    var EARTH_RADIUS = 6371;\n",
    "    return c * EARTH_RADIUS * 1000;\n",
    "}\n",
    "function toRadian(degree) {\n",
    "    return degree*Math.PI/180;\n",
    "}\n",
    "var distance = getDistance([lat1, lng2], [lat2, lng2])"
   ]
  },
  {
   "cell_type": "code",
   "execution_count": 31,
   "metadata": {},
   "outputs": [
    {
     "ename": "SyntaxError",
     "evalue": "invalid syntax (<ipython-input-31-064649adc854>, line 1)",
     "output_type": "error",
     "traceback": [
      "\u001b[0;36m  File \u001b[0;32m\"<ipython-input-31-064649adc854>\"\u001b[0;36m, line \u001b[0;32m1\u001b[0m\n\u001b[0;31m    var pointA = new L.LatLng(40.767937, -73.982155);\u001b[0m\n\u001b[0m             ^\u001b[0m\n\u001b[0;31mSyntaxError\u001b[0m\u001b[0;31m:\u001b[0m invalid syntax\n"
     ]
    }
   ],
   "source": [
    "var pointA = new L.LatLng(40.767937, -73.982155);\n",
    "var pointB = new L.LatLng(40.765602, -73.964630);\n",
    "var pointList = [pointA, pointB];\n",
    "\n",
    "var firstpolyline = new L.Polyline(pointList {\n",
    "color: 'red',\n",
    "weight: 3,\n",
    "opacity: 0.5\n",
    "smoothFactor: 1\n",
    "\n",
    "    });\n",
    "\n",
    "map.addLayer(firstpolyline);"
   ]
  },
  {
   "cell_type": "code",
   "execution_count": 32,
   "metadata": {},
   "outputs": [
    {
     "ename": "IndexError",
     "evalue": "list index out of range",
     "output_type": "error",
     "traceback": [
      "\u001b[0;31m---------------------------------------------------------------------------\u001b[0m",
      "\u001b[0;31mIndexError\u001b[0m                                Traceback (most recent call last)",
      "\u001b[0;32m<ipython-input-32-5bbac379f017>\u001b[0m in \u001b[0;36m<module>\u001b[0;34m()\u001b[0m\n\u001b[1;32m     33\u001b[0m \u001b[0;32mfor\u001b[0m \u001b[0mi\u001b[0m \u001b[0;32min\u001b[0m \u001b[0mrange\u001b[0m\u001b[0;34m(\u001b[0m\u001b[0;36m1\u001b[0m\u001b[0;34m,\u001b[0m \u001b[0;36m21\u001b[0m\u001b[0;34m)\u001b[0m\u001b[0;34m:\u001b[0m\u001b[0;34m\u001b[0m\u001b[0m\n\u001b[1;32m     34\u001b[0m     \u001b[0mtmp\u001b[0m \u001b[0;34m=\u001b[0m \u001b[0mstring\u001b[0m\u001b[0;34m.\u001b[0m\u001b[0msplit\u001b[0m\u001b[0;34m(\u001b[0m\u001b[0;34m'%s.'\u001b[0m \u001b[0;34m%\u001b[0m \u001b[0mi\u001b[0m\u001b[0;34m,\u001b[0m \u001b[0;36m1\u001b[0m\u001b[0;34m)\u001b[0m\u001b[0;34m\u001b[0m\u001b[0m\n\u001b[0;32m---> 35\u001b[0;31m     \u001b[0mstring\u001b[0m \u001b[0;34m=\u001b[0m \u001b[0mtmp\u001b[0m\u001b[0;34m[\u001b[0m\u001b[0;36m1\u001b[0m\u001b[0;34m]\u001b[0m\u001b[0;34m\u001b[0m\u001b[0m\n\u001b[0m\u001b[1;32m     36\u001b[0m     \u001b[0mitems\u001b[0m\u001b[0;34m.\u001b[0m\u001b[0mappend\u001b[0m\u001b[0;34m(\u001b[0m\u001b[0;34m[\u001b[0m\u001b[0mj\u001b[0m\u001b[0;34m.\u001b[0m\u001b[0mstrip\u001b[0m\u001b[0;34m(\u001b[0m\u001b[0;34m)\u001b[0m \u001b[0;32mfor\u001b[0m \u001b[0mj\u001b[0m \u001b[0;32min\u001b[0m \u001b[0mtmp\u001b[0m\u001b[0;34m[\u001b[0m\u001b[0;36m0\u001b[0m\u001b[0;34m]\u001b[0m\u001b[0;34m.\u001b[0m\u001b[0msplit\u001b[0m\u001b[0;34m(\u001b[0m\u001b[0;34m'\\n'\u001b[0m\u001b[0;34m)\u001b[0m \u001b[0;32mif\u001b[0m \u001b[0mj\u001b[0m \u001b[0;32mand\u001b[0m \u001b[0mj\u001b[0m\u001b[0;34m!=\u001b[0m\u001b[0;34m'\\xa0'\u001b[0m\u001b[0;34m]\u001b[0m\u001b[0;34m)\u001b[0m\u001b[0;34m\u001b[0m\u001b[0m\n\u001b[1;32m     37\u001b[0m \u001b[0;34m\u001b[0m\u001b[0m\n",
      "\u001b[0;31mIndexError\u001b[0m: list index out of range"
     ]
    }
   ],
   "source": [
    "from lxml import html\n",
    "import requests\n",
    " \n",
    " \n",
    "APIKEY = '' # 이 곳에 네이버 API 키를 입력 (http://developer.naver.com/wiki/pages/OpenAPI)\n",
    "MAPAPI = 'http://openapi.map.naver.com/api/geocode.php?key=%s&encoding=utf-8&coord=LatLng&query=%s'\n",
    " \n",
    " \n",
    "def get_latlon(query):\n",
    "    root = html.parse(MAPAPI % (APIKEY, query))\n",
    "    lon, lat = root.xpath('//point/x/text()')[0], root.xpath('//point/y/text()')[0]\n",
    "    return (lat, lon)\n",
    " \n",
    " \n",
    "def prep(item):\n",
    "    n, name = item[0].split(' ', 1)\n",
    "    lat, lon = get_latlon(item[3])\n",
    "    return {\n",
    "        'num': n, 'name': name,\n",
    "        'lat': lat, 'lon': lon,\n",
    "        'description': item[1],\n",
    "        'phone': item[2],\n",
    "        'addr': item[3]\n",
    "    }\n",
    " \n",
    " \n",
    "# get data from article\n",
    "r = requests.get('http://m.wikitree.co.kr/main/news_view.php?id=217101')\n",
    "root = html.document_fromstring(r.text)\n",
    "string = '\\n'.join(root.xpath('//div[@id=\"ct_size\"]/div//text()'))\n",
    " \n",
    "items = []\n",
    "for i in range(1, 21):\n",
    "    tmp = string.split('%s.' % i, 1)\n",
    "    string = tmp[1]\n",
    "    items.append([j.strip() for j in tmp[0].split('\\n') if j and j!='\\xa0'])\n",
    " \n",
    "data = [prep(i[:4]) for i in items[1:]]\n",
    " \n",
    " \n",
    "# save data to file\n",
    "with open('places.csv', 'w') as f:\n",
    "    f.write('name,lat,lon\\n')\n",
    "    for d in data:\n",
    "        f.write('%(name)s,%(lat)s,%(lon)s\\n' % d)"
   ]
  },
  {
   "cell_type": "code",
   "execution_count": 33,
   "metadata": {},
   "outputs": [
    {
     "ename": "ModuleNotFoundError",
     "evalue": "No module named 'd3py'",
     "output_type": "error",
     "traceback": [
      "\u001b[0;31m---------------------------------------------------------------------------\u001b[0m",
      "\u001b[0;31mModuleNotFoundError\u001b[0m                       Traceback (most recent call last)",
      "\u001b[0;32m<ipython-input-33-0f74bb72faa2>\u001b[0m in \u001b[0;36m<module>\u001b[0;34m()\u001b[0m\n\u001b[0;32m----> 1\u001b[0;31m \u001b[0;32mimport\u001b[0m \u001b[0md3py\u001b[0m\u001b[0;34m\u001b[0m\u001b[0m\n\u001b[0m\u001b[1;32m      2\u001b[0m \u001b[0;32mimport\u001b[0m \u001b[0mnetworkx\u001b[0m \u001b[0;32mas\u001b[0m \u001b[0mnx\u001b[0m\u001b[0;34m\u001b[0m\u001b[0m\n\u001b[1;32m      3\u001b[0m \u001b[0;34m\u001b[0m\u001b[0m\n\u001b[1;32m      4\u001b[0m \u001b[0;32mimport\u001b[0m \u001b[0mlogging\u001b[0m\u001b[0;34m\u001b[0m\u001b[0m\n\u001b[1;32m      5\u001b[0m \u001b[0mlogging\u001b[0m\u001b[0;34m.\u001b[0m\u001b[0mbasicConfig\u001b[0m\u001b[0;34m(\u001b[0m\u001b[0mlevel\u001b[0m\u001b[0;34m=\u001b[0m\u001b[0mlogging\u001b[0m\u001b[0;34m.\u001b[0m\u001b[0mDEBUG\u001b[0m\u001b[0;34m)\u001b[0m\u001b[0;34m\u001b[0m\u001b[0m\n",
      "\u001b[0;31mModuleNotFoundError\u001b[0m: No module named 'd3py'"
     ]
    }
   ],
   "source": [
    "import d3py\n",
    "import networkx as nx\n",
    "\n",
    "import logging\n",
    "logging.basicConfig(level=logging.DEBUG)\n",
    "\n",
    "G = nx.Graph()\n",
    "G.add_edge(1,2)\n",
    "G.add_edge(1,3)\n",
    "G.add_edge(3,2)\n",
    "G.add_edge(3,4)\n",
    "G.add_edge(4,2)\n",
    "\n",
    "# use 'with' if you are writing a script and want to serve this up forever\n",
    "with d3py.NetworkXFigure(G, width=500, height=500) as p:\n",
    "    p += d3py.ForceLayout()\n",
    "    p.show()"
   ]
  },
  {
   "cell_type": "code",
   "execution_count": null,
   "metadata": {},
   "outputs": [],
   "source": [
    "import pandas as pd\n",
    "import random\n",
    "\n",
    "#Iterable\n",
    "list_data = [10, 20, 30, 20, 15, 30, 45]\n",
    "\n",
    "#Dicts of iterables\n",
    "cat_1 = ['y1', 'y2', 'y3', 'y4']\n",
    "index_1 = range(0, 21, 1)\n",
    "multi_iter1 = {'index': index_1}\n",
    "for cat in cat_1:\n",
    "    multi_iter1[cat] = [random.randint(10, 100) for x in index_1]\n",
    "\n",
    "cat_2 = ['y' + str(x) for x in range(0, 10, 1)]\n",
    "index_2 = range(1, 21, 1)\n",
    "multi_iter2 = {'index': index_2}\n",
    "for cat in cat_2:\n",
    "    multi_iter2[cat] = [random.randint(10, 100) for x in index_2]\n",
    "\n",
    "#Pandas\n",
    "import pandas as pd\n",
    "\n",
    "farm_1 = {'apples': 10, 'berries': 32, 'squash': 21, 'melons': 13, 'corn': 18}\n",
    "farm_2 = {'apples': 15, 'berries': 43, 'squash': 17, 'melons': 10, 'corn': 22}\n",
    "farm_3 = {'apples': 6, 'berries': 24, 'squash': 22, 'melons': 16, 'corn': 30}\n",
    "farm_4 = {'apples': 12, 'berries': 30, 'squash': 15, 'melons': 9, 'corn': 15}\n",
    "\n",
    "farm_data = [farm_1, farm_2, farm_3, farm_4]\n",
    "farm_index = ['Farm 1', 'Farm 2', 'Farm 3', 'Farm 4']\n",
    "df_farm = pd.DataFrame(farm_data, index=farm_index)\n",
    "\n",
    "#As DataFrames\n",
    "index_3 = multi_iter2.pop('index')\n",
    "df_1 = pd.DataFrame(multi_iter2, index=index_3)\n",
    "df_1 = df_1.reindex(columns=sorted(df_1.columns))\n",
    "\n",
    "cat_4 = ['Metric_' + str(x) for x in range(0, 10, 1)]\n",
    "index_4 = ['Data 1', 'Data 2', 'Data 3', 'Data 4']\n",
    "data_3 = {}\n",
    "for cat in cat_4:\n",
    "    data_3[cat] = [random.randint(10, 100) for x in index_4]\n",
    "df_2 = pd.DataFrame(data_3, index=index_4)\n",
    "\n",
    "import pandas.io.data as web\n",
    "all_data = {}\n",
    "for ticker in ['AAPL', 'GOOG', 'IBM', 'YHOO', 'MSFT']:\n",
    "    all_data[ticker] = web.get_data_yahoo(ticker, '1/1/2010', '1/1/2013')\n",
    "price = pd.DataFrame({tic: data['Adj Close']\n",
    "                      for tic, data in all_data.iteritems()})\n",
    "\n",
    "#Map Data Binding\n",
    "import json\n",
    "import pandas as pd\n",
    "#Map the county codes we have in our geometry to those in the\n",
    "#county_data file, which contains additional rows we don't need\n",
    "with open('us_counties.topo.json', 'r') as f:\n",
    "    get_id = json.load(f)\n",
    "\n",
    "#A little FIPS code munging\n",
    "new_geoms = []\n",
    "for geom in get_id['objects']['us_counties.geo']['geometries']:\n",
    "    geom['properties']['FIPS'] = int(geom['properties']['FIPS'])\n",
    "    new_geoms.append(geom)\n",
    "\n",
    "get_id['objects']['us_counties.geo']['geometries'] = new_geoms\n",
    "\n",
    "with open('us_counties.topo.json', 'w') as f:\n",
    "    json.dump(get_id, f)\n",
    "\n",
    "#Grab the FIPS codes and load them into a dataframe\n",
    "geometries = get_id['objects']['us_counties.geo']['geometries']\n",
    "county_codes = [x['properties']['FIPS'] for x in geometries]\n",
    "county_df = pd.DataFrame({'FIPS': county_codes}, dtype=str)\n",
    "county_df = county_df.astype(int)\n",
    "\n",
    "#Read into Dataframe, cast to string for consistency\n",
    "df = pd.read_csv('data/us_county_data.csv', na_values=[' '])\n",
    "df['FIPS_Code'] = df['FIPS'].astype(str)\n",
    "\n",
    "#Perform an inner join, pad NA's with data from nearest county\n",
    "merged = pd.merge(df, county_df, on='FIPS', how='inner')\n",
    "merged = merged.fillna(method='pad')"
   ]
  },
  {
   "cell_type": "code",
   "execution_count": 1,
   "metadata": {},
   "outputs": [
    {
     "data": {
      "text/html": [
       "\n",
       "           <script>\n",
       "               \n",
       "                function vct_load_lib(url, callback){\n",
       "                      if(typeof d3 !== 'undefined' &&\n",
       "                         url === 'http://d3js.org/d3.v3.min.js'){\n",
       "                        callback()\n",
       "                      }\n",
       "                      var s = document.createElement('script');\n",
       "                      s.src = url;\n",
       "                      s.async = true;\n",
       "                      s.onreadystatechange = s.onload = callback;\n",
       "                      s.onerror = function(){\n",
       "                        console.warn(\"failed to load library \" + url);\n",
       "                        };\n",
       "                      document.getElementsByTagName(\"head\")[0].appendChild(s);\n",
       "                };\n",
       "                var vincent_event = new CustomEvent(\n",
       "                  \"vincent_libs_loaded\",\n",
       "                  {bubbles: true, cancelable: true}\n",
       "                );\n",
       "                \n",
       "               function load_all_libs(){\n",
       "                  console.log('Loading Vincent libs...')\n",
       "                  vct_load_lib('http://d3js.org/d3.v3.min.js', function(){\n",
       "                  vct_load_lib('http://d3js.org/d3.geo.projection.v0.min.js', function(){\n",
       "                  vct_load_lib('http://wrobstory.github.io/d3-cloud/d3.layout.cloud.js', function(){\n",
       "                  vct_load_lib('http://wrobstory.github.io/vega/vega.v1.3.3.js', function(){\n",
       "                  window.dispatchEvent(vincent_event);\n",
       "                  });\n",
       "                  });\n",
       "                  });\n",
       "                  });\n",
       "               };\n",
       "               if(typeof define === \"function\" && define.amd){\n",
       "                    if (window['d3'] === undefined ||\n",
       "                        window['topojson'] === undefined){\n",
       "                        require.config(\n",
       "                            {paths: {\n",
       "                              d3: 'http://d3js.org/d3.v3.min',\n",
       "                              topojson: 'http://d3js.org/topojson.v1.min'\n",
       "                              }\n",
       "                            }\n",
       "                          );\n",
       "                        require([\"d3\"], function(d3){\n",
       "                            console.log('Loading Vincent from require.js...')\n",
       "                            window.d3 = d3;\n",
       "                            require([\"topojson\"], function(topojson){\n",
       "                                window.topojson = topojson;\n",
       "                                load_all_libs();\n",
       "                            });\n",
       "                        });\n",
       "                    } else {\n",
       "                        load_all_libs();\n",
       "                    };\n",
       "               }else{\n",
       "                    console.log('Require.js not found, loading manually...')\n",
       "                    load_all_libs();\n",
       "               };\n",
       "\n",
       "           </script>"
      ],
      "text/plain": [
       "<IPython.core.display.HTML object>"
      ]
     },
     "metadata": {},
     "output_type": "display_data"
    },
    {
     "ename": "NameError",
     "evalue": "name 'multi_iter1' is not defined",
     "output_type": "error",
     "traceback": [
      "\u001b[0;31m---------------------------------------------------------------------------\u001b[0m",
      "\u001b[0;31mNameError\u001b[0m                                 Traceback (most recent call last)",
      "\u001b[0;32m<ipython-input-1-44035848cf35>\u001b[0m in \u001b[0;36m<module>\u001b[0;34m()\u001b[0m\n\u001b[1;32m      2\u001b[0m \u001b[0mvincent\u001b[0m\u001b[0;34m.\u001b[0m\u001b[0mcore\u001b[0m\u001b[0;34m.\u001b[0m\u001b[0minitialize_notebook\u001b[0m\u001b[0;34m(\u001b[0m\u001b[0;34m)\u001b[0m\u001b[0;34m\u001b[0m\u001b[0m\n\u001b[1;32m      3\u001b[0m \u001b[0;34m\u001b[0m\u001b[0m\n\u001b[0;32m----> 4\u001b[0;31m \u001b[0mbar\u001b[0m \u001b[0;34m=\u001b[0m \u001b[0mvincent\u001b[0m\u001b[0;34m.\u001b[0m\u001b[0mBar\u001b[0m\u001b[0;34m(\u001b[0m\u001b[0mmulti_iter1\u001b[0m\u001b[0;34m[\u001b[0m\u001b[0;34m'y1'\u001b[0m\u001b[0;34m]\u001b[0m\u001b[0;34m)\u001b[0m\u001b[0;34m\u001b[0m\u001b[0m\n\u001b[0m\u001b[1;32m      5\u001b[0m \u001b[0mbar\u001b[0m\u001b[0;34m.\u001b[0m\u001b[0maxis_titles\u001b[0m\u001b[0;34m(\u001b[0m\u001b[0mx\u001b[0m\u001b[0;34m=\u001b[0m\u001b[0;34m'Index'\u001b[0m\u001b[0;34m,\u001b[0m \u001b[0my\u001b[0m\u001b[0;34m=\u001b[0m\u001b[0;34m'Value'\u001b[0m\u001b[0;34m)\u001b[0m\u001b[0;34m\u001b[0m\u001b[0m\n\u001b[1;32m      6\u001b[0m \u001b[0mbar\u001b[0m\u001b[0;34m.\u001b[0m\u001b[0mdisplay\u001b[0m\u001b[0;34m(\u001b[0m\u001b[0;34m)\u001b[0m\u001b[0;34m\u001b[0m\u001b[0m\n",
      "\u001b[0;31mNameError\u001b[0m: name 'multi_iter1' is not defined"
     ]
    }
   ],
   "source": [
    "import vincent\n",
    "vincent.core.initialize_notebook()\n",
    "\n",
    "bar = vincent.Bar(multi_iter1['y1'])\n",
    "bar.axis_titles(x='Index', y='Value')\n",
    "bar.display()"
   ]
  },
  {
   "cell_type": "code",
   "execution_count": 2,
   "metadata": {},
   "outputs": [
    {
     "ename": "NameError",
     "evalue": "name 'price' is not defined",
     "output_type": "error",
     "traceback": [
      "\u001b[0;31m---------------------------------------------------------------------------\u001b[0m",
      "\u001b[0;31mNameError\u001b[0m                                 Traceback (most recent call last)",
      "\u001b[0;32m<ipython-input-2-d1e89c43edb1>\u001b[0m in \u001b[0;36m<module>\u001b[0;34m()\u001b[0m\n\u001b[0;32m----> 1\u001b[0;31m \u001b[0mline\u001b[0m \u001b[0;34m=\u001b[0m \u001b[0mvincent\u001b[0m\u001b[0;34m.\u001b[0m\u001b[0mLine\u001b[0m\u001b[0;34m(\u001b[0m\u001b[0mprice\u001b[0m\u001b[0;34m[\u001b[0m\u001b[0;34m[\u001b[0m\u001b[0;34m'GOOG'\u001b[0m\u001b[0;34m,\u001b[0m \u001b[0;34m'AAPL'\u001b[0m\u001b[0;34m]\u001b[0m\u001b[0;34m]\u001b[0m\u001b[0;34m)\u001b[0m\u001b[0;34m\u001b[0m\u001b[0m\n\u001b[0m\u001b[1;32m      2\u001b[0m \u001b[0mline\u001b[0m\u001b[0;34m.\u001b[0m\u001b[0maxis_titles\u001b[0m\u001b[0;34m(\u001b[0m\u001b[0mx\u001b[0m\u001b[0;34m=\u001b[0m\u001b[0;34m'Date'\u001b[0m\u001b[0;34m,\u001b[0m \u001b[0my\u001b[0m\u001b[0;34m=\u001b[0m\u001b[0;34m'Price'\u001b[0m\u001b[0;34m)\u001b[0m\u001b[0;34m\u001b[0m\u001b[0m\n\u001b[1;32m      3\u001b[0m \u001b[0mline\u001b[0m\u001b[0;34m.\u001b[0m\u001b[0mlegend\u001b[0m\u001b[0;34m(\u001b[0m\u001b[0mtitle\u001b[0m\u001b[0;34m=\u001b[0m\u001b[0;34m'GOOG vs AAPL'\u001b[0m\u001b[0;34m)\u001b[0m\u001b[0;34m\u001b[0m\u001b[0m\n",
      "\u001b[0;31mNameError\u001b[0m: name 'price' is not defined"
     ]
    }
   ],
   "source": [
    "line = vincent.Line(price[['GOOG', 'AAPL']])\n",
    "line.axis_titles(x='Date', y='Price')\n",
    "line.legend(title='GOOG vs AAPL')"
   ]
  },
  {
   "cell_type": "code",
   "execution_count": 3,
   "metadata": {},
   "outputs": [
    {
     "ename": "AttributeError",
     "evalue": "module 'vincent' has no attribute 'Vega'",
     "output_type": "error",
     "traceback": [
      "\u001b[0;31m---------------------------------------------------------------------------\u001b[0m",
      "\u001b[0;31mAttributeError\u001b[0m                            Traceback (most recent call last)",
      "\u001b[0;32m<ipython-input-3-65e2c479568b>\u001b[0m in \u001b[0;36m<module>\u001b[0;34m()\u001b[0m\n\u001b[1;32m      1\u001b[0m \u001b[0;32mimport\u001b[0m \u001b[0mvincent\u001b[0m\u001b[0;34m\u001b[0m\u001b[0m\n\u001b[0;32m----> 2\u001b[0;31m \u001b[0mvis\u001b[0m \u001b[0;34m=\u001b[0m \u001b[0mvincent\u001b[0m\u001b[0;34m.\u001b[0m\u001b[0mVega\u001b[0m\u001b[0;34m(\u001b[0m\u001b[0;34m)\u001b[0m\u001b[0;34m\u001b[0m\u001b[0m\n\u001b[0m",
      "\u001b[0;31mAttributeError\u001b[0m: module 'vincent' has no attribute 'Vega'"
     ]
    }
   ],
   "source": [
    "import vincent\n",
    "vis = vincent.Vega()"
   ]
  },
  {
   "cell_type": "code",
   "execution_count": 6,
   "metadata": {},
   "outputs": [
    {
     "ename": "ValueError",
     "evalue": "Please initialize the chart with data.",
     "output_type": "error",
     "traceback": [
      "\u001b[0;31m---------------------------------------------------------------------------\u001b[0m",
      "\u001b[0;31mValueError\u001b[0m                                Traceback (most recent call last)",
      "\u001b[0;32m<ipython-input-6-2a87915a47cb>\u001b[0m in \u001b[0;36m<module>\u001b[0;34m()\u001b[0m\n\u001b[1;32m      1\u001b[0m \u001b[0;32mimport\u001b[0m \u001b[0mrandom\u001b[0m\u001b[0;34m\u001b[0m\u001b[0m\n\u001b[0;32m----> 2\u001b[0;31m \u001b[0mvis\u001b[0m \u001b[0;34m=\u001b[0m \u001b[0mvincent\u001b[0m\u001b[0;34m.\u001b[0m\u001b[0mBar\u001b[0m\u001b[0;34m(\u001b[0m\u001b[0;34m)\u001b[0m\u001b[0;34m\u001b[0m\u001b[0m\n\u001b[0m\u001b[1;32m      3\u001b[0m \u001b[0mvis\u001b[0m\u001b[0;34m.\u001b[0m\u001b[0mtabular_data\u001b[0m\u001b[0;34m(\u001b[0m\u001b[0;34m[\u001b[0m\u001b[0mrandom\u001b[0m\u001b[0;34m.\u001b[0m\u001b[0mrandint\u001b[0m\u001b[0;34m(\u001b[0m\u001b[0;36m10\u001b[0m\u001b[0;34m,\u001b[0m \u001b[0;36m100\u001b[0m\u001b[0;34m)\u001b[0m \u001b[0;32mfor\u001b[0m \u001b[0mx\u001b[0m \u001b[0;32min\u001b[0m \u001b[0mrange\u001b[0m\u001b[0;34m(\u001b[0m\u001b[0;36m0\u001b[0m\u001b[0;34m,\u001b[0m \u001b[0;36m21\u001b[0m\u001b[0;34m,\u001b[0m \u001b[0;36m1\u001b[0m\u001b[0;34m)\u001b[0m\u001b[0;34m]\u001b[0m\u001b[0;34m)\u001b[0m\u001b[0;34m\u001b[0m\u001b[0m\n\u001b[1;32m      4\u001b[0m \u001b[0mvis\u001b[0m\u001b[0;34m.\u001b[0m\u001b[0mto_json\u001b[0m\u001b[0;34m(\u001b[0m\u001b[0mpath\u001b[0m\u001b[0;34m)\u001b[0m\u001b[0;34m\u001b[0m\u001b[0m\n",
      "\u001b[0;32m~/.local/lib/python3.6/site-packages/vincent/charts.py\u001b[0m in \u001b[0;36m__init__\u001b[0;34m(self, *args, **kwargs)\u001b[0m\n\u001b[1;32m    198\u001b[0m         \u001b[0;34m\"\"\"Create a Vega Bar Chart\"\"\"\u001b[0m\u001b[0;34m\u001b[0m\u001b[0m\n\u001b[1;32m    199\u001b[0m \u001b[0;34m\u001b[0m\u001b[0m\n\u001b[0;32m--> 200\u001b[0;31m         \u001b[0msuper\u001b[0m\u001b[0;34m(\u001b[0m\u001b[0mBar\u001b[0m\u001b[0;34m,\u001b[0m \u001b[0mself\u001b[0m\u001b[0;34m)\u001b[0m\u001b[0;34m.\u001b[0m\u001b[0m__init__\u001b[0m\u001b[0;34m(\u001b[0m\u001b[0;34m*\u001b[0m\u001b[0margs\u001b[0m\u001b[0;34m,\u001b[0m \u001b[0;34m**\u001b[0m\u001b[0mkwargs\u001b[0m\u001b[0;34m)\u001b[0m\u001b[0;34m\u001b[0m\u001b[0m\n\u001b[0m\u001b[1;32m    201\u001b[0m \u001b[0;34m\u001b[0m\u001b[0m\n\u001b[1;32m    202\u001b[0m         \u001b[0;31m# Scales\u001b[0m\u001b[0;34m\u001b[0m\u001b[0;34m\u001b[0m\u001b[0m\n",
      "\u001b[0;32m~/.local/lib/python3.6/site-packages/vincent/charts.py\u001b[0m in \u001b[0;36m__init__\u001b[0;34m(self, data, columns, key_on, iter_idx, width, height, grouped, no_data, *args, **kwargs)\u001b[0m\n\u001b[1;32m     91\u001b[0m         \u001b[0;31m# Data\u001b[0m\u001b[0;34m\u001b[0m\u001b[0;34m\u001b[0m\u001b[0m\n\u001b[1;32m     92\u001b[0m         \u001b[0;32mif\u001b[0m \u001b[0mdata\u001b[0m \u001b[0;32mis\u001b[0m \u001b[0;32mNone\u001b[0m \u001b[0;32mand\u001b[0m \u001b[0;32mnot\u001b[0m \u001b[0mno_data\u001b[0m\u001b[0;34m:\u001b[0m\u001b[0;34m\u001b[0m\u001b[0m\n\u001b[0;32m---> 93\u001b[0;31m             \u001b[0;32mraise\u001b[0m \u001b[0mValueError\u001b[0m\u001b[0;34m(\u001b[0m\u001b[0;34m'Please initialize the chart with data.'\u001b[0m\u001b[0;34m)\u001b[0m\u001b[0;34m\u001b[0m\u001b[0m\n\u001b[0m\u001b[1;32m     94\u001b[0m \u001b[0;34m\u001b[0m\u001b[0m\n\u001b[1;32m     95\u001b[0m         \u001b[0;32mif\u001b[0m \u001b[0;32mnot\u001b[0m \u001b[0mno_data\u001b[0m\u001b[0;34m:\u001b[0m\u001b[0;34m\u001b[0m\u001b[0m\n",
      "\u001b[0;31mValueError\u001b[0m: Please initialize the chart with data."
     ]
    }
   ],
   "source": [
    "import random\n",
    "vis = vincent.Bar()\n",
    "vis.tabular_data([random.randint(10, 100) for x in range(0, 21, 1)])\n",
    "vis.to_json(path)"
   ]
  },
  {
   "cell_type": "code",
   "execution_count": 4,
   "metadata": {},
   "outputs": [],
   "source": [
    "import pandas as pd\n",
    "import random\n",
    "\n",
    "#Iterable\n",
    "list_data = [10, 20, 30, 20, 15, 30, 45]\n",
    "\n",
    "#Dicts of iterables\n",
    "cat_1 = ['y1', 'y2', 'y3', 'y4']\n",
    "index_1 = range(0, 21, 1)\n",
    "multi_iter1 = {'index': index_1}\n",
    "for cat in cat_1:\n",
    "    multi_iter1[cat] = [random.randint(10, 100) for x in index_1]\n",
    "\n",
    "cat_2 = ['y' + str(x) for x in range(0, 10, 1)]\n",
    "index_2 = range(1, 21, 1)\n",
    "multi_iter2 = {'index': index_2}\n",
    "for cat in cat_2:\n",
    "    multi_iter2[cat] = [random.randint(10, 100) for x in index_2]"
   ]
  },
  {
   "cell_type": "code",
   "execution_count": 5,
   "metadata": {},
   "outputs": [],
   "source": [
    "import vincent\n",
    "bar = vincent.Bar(multi_iter1['y1'])\n",
    "bar.axis_titles(x='Index', y='Value')\n",
    "bar.to_json('vega.json')"
   ]
  },
  {
   "cell_type": "code",
   "execution_count": 6,
   "metadata": {},
   "outputs": [
    {
     "data": {
      "text/html": [
       "<div id=\"visaa538888ae8149f284af66bbf2006599\"></div>\n",
       "<script>\n",
       "   ( function() {\n",
       "     var _do_plot = function() {\n",
       "       if (typeof vg === 'undefined') {\n",
       "         window.addEventListener('vincent_libs_loaded', _do_plot)\n",
       "         return;\n",
       "       }\n",
       "       vg.parse.spec({\"axes\": [{\"scale\": \"x\", \"title\": \"Index\", \"type\": \"x\"}, {\"scale\": \"y\", \"title\": \"Value\", \"type\": \"y\"}], \"data\": [{\"name\": \"table\", \"values\": [{\"col\": \"y1\", \"idx\": 0, \"val\": 18}, {\"col\": \"y1\", \"idx\": 1, \"val\": 58}, {\"col\": \"y1\", \"idx\": 2, \"val\": 75}, {\"col\": \"y1\", \"idx\": 3, \"val\": 27}, {\"col\": \"y1\", \"idx\": 4, \"val\": 91}, {\"col\": \"y1\", \"idx\": 5, \"val\": 42}, {\"col\": \"y1\", \"idx\": 6, \"val\": 44}, {\"col\": \"y1\", \"idx\": 7, \"val\": 93}, {\"col\": \"y1\", \"idx\": 8, \"val\": 37}, {\"col\": \"y1\", \"idx\": 9, \"val\": 82}, {\"col\": \"y1\", \"idx\": 10, \"val\": 34}, {\"col\": \"y1\", \"idx\": 11, \"val\": 89}, {\"col\": \"y1\", \"idx\": 12, \"val\": 55}, {\"col\": \"y1\", \"idx\": 13, \"val\": 65}, {\"col\": \"y1\", \"idx\": 14, \"val\": 27}, {\"col\": \"y1\", \"idx\": 15, \"val\": 80}, {\"col\": \"y1\", \"idx\": 16, \"val\": 69}, {\"col\": \"y1\", \"idx\": 17, \"val\": 83}, {\"col\": \"y1\", \"idx\": 18, \"val\": 70}, {\"col\": \"y1\", \"idx\": 19, \"val\": 56}, {\"col\": \"y1\", \"idx\": 20, \"val\": 74}, {\"col\": \"y2\", \"idx\": 0, \"val\": 47}, {\"col\": \"y2\", \"idx\": 1, \"val\": 45}, {\"col\": \"y2\", \"idx\": 2, \"val\": 75}, {\"col\": \"y2\", \"idx\": 3, \"val\": 76}, {\"col\": \"y2\", \"idx\": 4, \"val\": 18}, {\"col\": \"y2\", \"idx\": 5, \"val\": 27}, {\"col\": \"y2\", \"idx\": 6, \"val\": 58}, {\"col\": \"y2\", \"idx\": 7, \"val\": 74}, {\"col\": \"y2\", \"idx\": 8, \"val\": 91}, {\"col\": \"y2\", \"idx\": 9, \"val\": 13}, {\"col\": \"y2\", \"idx\": 10, \"val\": 28}, {\"col\": \"y2\", \"idx\": 11, \"val\": 32}, {\"col\": \"y2\", \"idx\": 12, \"val\": 45}, {\"col\": \"y2\", \"idx\": 13, \"val\": 24}, {\"col\": \"y2\", \"idx\": 14, \"val\": 33}, {\"col\": \"y2\", \"idx\": 15, \"val\": 54}, {\"col\": \"y2\", \"idx\": 16, \"val\": 21}, {\"col\": \"y2\", \"idx\": 17, \"val\": 58}, {\"col\": \"y2\", \"idx\": 18, \"val\": 98}, {\"col\": \"y2\", \"idx\": 19, \"val\": 79}, {\"col\": \"y2\", \"idx\": 20, \"val\": 79}, {\"col\": \"y3\", \"idx\": 0, \"val\": 24}, {\"col\": \"y3\", \"idx\": 1, \"val\": 60}, {\"col\": \"y3\", \"idx\": 2, \"val\": 79}, {\"col\": \"y3\", \"idx\": 3, \"val\": 55}, {\"col\": \"y3\", \"idx\": 4, \"val\": 38}, {\"col\": \"y3\", \"idx\": 5, \"val\": 62}, {\"col\": \"y3\", \"idx\": 6, \"val\": 39}, {\"col\": \"y3\", \"idx\": 7, \"val\": 100}, {\"col\": \"y3\", \"idx\": 8, \"val\": 77}, {\"col\": \"y3\", \"idx\": 9, \"val\": 14}, {\"col\": \"y3\", \"idx\": 10, \"val\": 44}, {\"col\": \"y3\", \"idx\": 11, \"val\": 58}, {\"col\": \"y3\", \"idx\": 12, \"val\": 54}, {\"col\": \"y3\", \"idx\": 13, \"val\": 76}, {\"col\": \"y3\", \"idx\": 14, \"val\": 14}, {\"col\": \"y3\", \"idx\": 15, \"val\": 55}, {\"col\": \"y3\", \"idx\": 16, \"val\": 20}, {\"col\": \"y3\", \"idx\": 17, \"val\": 43}, {\"col\": \"y3\", \"idx\": 18, \"val\": 51}, {\"col\": \"y3\", \"idx\": 19, \"val\": 66}, {\"col\": \"y3\", \"idx\": 20, \"val\": 60}, {\"col\": \"y4\", \"idx\": 0, \"val\": 64}, {\"col\": \"y4\", \"idx\": 1, \"val\": 80}, {\"col\": \"y4\", \"idx\": 2, \"val\": 37}, {\"col\": \"y4\", \"idx\": 3, \"val\": 67}, {\"col\": \"y4\", \"idx\": 4, \"val\": 59}, {\"col\": \"y4\", \"idx\": 5, \"val\": 75}, {\"col\": \"y4\", \"idx\": 6, \"val\": 72}, {\"col\": \"y4\", \"idx\": 7, \"val\": 96}, {\"col\": \"y4\", \"idx\": 8, \"val\": 32}, {\"col\": \"y4\", \"idx\": 9, \"val\": 43}, {\"col\": \"y4\", \"idx\": 10, \"val\": 23}, {\"col\": \"y4\", \"idx\": 11, \"val\": 72}, {\"col\": \"y4\", \"idx\": 12, \"val\": 36}, {\"col\": \"y4\", \"idx\": 13, \"val\": 75}, {\"col\": \"y4\", \"idx\": 14, \"val\": 99}, {\"col\": \"y4\", \"idx\": 15, \"val\": 58}, {\"col\": \"y4\", \"idx\": 16, \"val\": 53}, {\"col\": \"y4\", \"idx\": 17, \"val\": 34}, {\"col\": \"y4\", \"idx\": 18, \"val\": 71}, {\"col\": \"y4\", \"idx\": 19, \"val\": 81}, {\"col\": \"y4\", \"idx\": 20, \"val\": 23}]}], \"height\": 500, \"legends\": [{\"fill\": \"color\", \"offset\": 0, \"properties\": {}, \"title\": \"Categories\"}], \"marks\": [{\"from\": {\"data\": \"table\", \"transform\": [{\"keys\": [\"data.col\"], \"type\": \"facet\"}]}, \"marks\": [{\"properties\": {\"enter\": {\"stroke\": {\"field\": \"data.col\", \"scale\": \"color\"}, \"strokeWidth\": {\"value\": 2}, \"x\": {\"field\": \"data.idx\", \"scale\": \"x\"}, \"y\": {\"field\": \"data.val\", \"scale\": \"y\"}}}, \"type\": \"line\"}], \"type\": \"group\"}], \"padding\": \"auto\", \"scales\": [{\"domain\": {\"data\": \"table\", \"field\": \"data.idx\"}, \"name\": \"x\", \"range\": \"width\", \"type\": \"linear\"}, {\"domain\": {\"data\": \"table\", \"field\": \"data.val\"}, \"name\": \"y\", \"nice\": true, \"range\": \"height\"}, {\"domain\": {\"data\": \"table\", \"field\": \"data.col\"}, \"name\": \"color\", \"range\": \"category20\", \"type\": \"ordinal\"}], \"width\": 960}, function(chart) {\n",
       "         chart({el: \"#visaa538888ae8149f284af66bbf2006599\"}).update();\n",
       "       });\n",
       "     };\n",
       "     _do_plot();\n",
       "   })();\n",
       "</script>\n",
       "<style>.vega canvas {width: 100%;}</style>\n",
       "        "
      ],
      "text/plain": [
       "<vincent.charts.Line at 0x7fbe9df4fb38>"
      ]
     },
     "execution_count": 6,
     "metadata": {},
     "output_type": "execute_result"
    }
   ],
   "source": [
    "line = vincent.Line(multi_iter1, iter_idx='index')\n",
    "line.axis_titles(x='Index', y='Value')\n",
    "line.legend(title='Categories')"
   ]
  },
  {
   "cell_type": "code",
   "execution_count": 7,
   "metadata": {},
   "outputs": [
    {
     "ename": "NameError",
     "evalue": "name 'price' is not defined",
     "output_type": "error",
     "traceback": [
      "\u001b[0;31m---------------------------------------------------------------------------\u001b[0m",
      "\u001b[0;31mNameError\u001b[0m                                 Traceback (most recent call last)",
      "\u001b[0;32m<ipython-input-7-d1e89c43edb1>\u001b[0m in \u001b[0;36m<module>\u001b[0;34m()\u001b[0m\n\u001b[0;32m----> 1\u001b[0;31m \u001b[0mline\u001b[0m \u001b[0;34m=\u001b[0m \u001b[0mvincent\u001b[0m\u001b[0;34m.\u001b[0m\u001b[0mLine\u001b[0m\u001b[0;34m(\u001b[0m\u001b[0mprice\u001b[0m\u001b[0;34m[\u001b[0m\u001b[0;34m[\u001b[0m\u001b[0;34m'GOOG'\u001b[0m\u001b[0;34m,\u001b[0m \u001b[0;34m'AAPL'\u001b[0m\u001b[0;34m]\u001b[0m\u001b[0;34m]\u001b[0m\u001b[0;34m)\u001b[0m\u001b[0;34m\u001b[0m\u001b[0m\n\u001b[0m\u001b[1;32m      2\u001b[0m \u001b[0mline\u001b[0m\u001b[0;34m.\u001b[0m\u001b[0maxis_titles\u001b[0m\u001b[0;34m(\u001b[0m\u001b[0mx\u001b[0m\u001b[0;34m=\u001b[0m\u001b[0;34m'Date'\u001b[0m\u001b[0;34m,\u001b[0m \u001b[0my\u001b[0m\u001b[0;34m=\u001b[0m\u001b[0;34m'Price'\u001b[0m\u001b[0;34m)\u001b[0m\u001b[0;34m\u001b[0m\u001b[0m\n\u001b[1;32m      3\u001b[0m \u001b[0mline\u001b[0m\u001b[0;34m.\u001b[0m\u001b[0mlegend\u001b[0m\u001b[0;34m(\u001b[0m\u001b[0mtitle\u001b[0m\u001b[0;34m=\u001b[0m\u001b[0;34m'GOOG vs AAPL'\u001b[0m\u001b[0;34m)\u001b[0m\u001b[0;34m\u001b[0m\u001b[0m\n",
      "\u001b[0;31mNameError\u001b[0m: name 'price' is not defined"
     ]
    }
   ],
   "source": [
    "line = vincent.Line(price[['GOOG', 'AAPL']])\n",
    "line.axis_titles(x='Date', y='Price')\n",
    "line.legend(title='GOOG vs AAPL')"
   ]
  },
  {
   "cell_type": "code",
   "execution_count": 8,
   "metadata": {},
   "outputs": [
    {
     "data": {
      "text/html": [
       "<div id=\"vis70a21a65b6db48ddb5f7e43f66589b78\"></div>\n",
       "<script>\n",
       "   ( function() {\n",
       "     var _do_plot = function() {\n",
       "       if (typeof vg === 'undefined') {\n",
       "         window.addEventListener('vincent_libs_loaded', _do_plot)\n",
       "         return;\n",
       "       }\n",
       "       vg.parse.spec({\"axes\": [{\"scale\": \"x\", \"title\": \"Index\", \"type\": \"x\"}, {\"scale\": \"y\", \"title\": \"Data Value\", \"type\": \"y\"}], \"data\": [{\"name\": \"table\", \"values\": [{\"col\": \"y0\", \"idx\": 1, \"val\": 43}, {\"col\": \"y0\", \"idx\": 2, \"val\": 18}, {\"col\": \"y0\", \"idx\": 3, \"val\": 91}, {\"col\": \"y0\", \"idx\": 4, \"val\": 39}, {\"col\": \"y0\", \"idx\": 5, \"val\": 48}, {\"col\": \"y0\", \"idx\": 6, \"val\": 69}, {\"col\": \"y0\", \"idx\": 7, \"val\": 40}, {\"col\": \"y0\", \"idx\": 8, \"val\": 70}, {\"col\": \"y0\", \"idx\": 9, \"val\": 73}, {\"col\": \"y0\", \"idx\": 10, \"val\": 53}, {\"col\": \"y0\", \"idx\": 11, \"val\": 60}, {\"col\": \"y0\", \"idx\": 12, \"val\": 24}, {\"col\": \"y0\", \"idx\": 13, \"val\": 54}, {\"col\": \"y0\", \"idx\": 14, \"val\": 29}, {\"col\": \"y0\", \"idx\": 15, \"val\": 31}, {\"col\": \"y0\", \"idx\": 16, \"val\": 100}, {\"col\": \"y0\", \"idx\": 17, \"val\": 15}, {\"col\": \"y0\", \"idx\": 18, \"val\": 98}, {\"col\": \"y0\", \"idx\": 19, \"val\": 39}, {\"col\": \"y0\", \"idx\": 20, \"val\": 54}, {\"col\": \"y1\", \"idx\": 1, \"val\": 45}, {\"col\": \"y1\", \"idx\": 2, \"val\": 15}, {\"col\": \"y1\", \"idx\": 3, \"val\": 35}, {\"col\": \"y1\", \"idx\": 4, \"val\": 89}, {\"col\": \"y1\", \"idx\": 5, \"val\": 83}, {\"col\": \"y1\", \"idx\": 6, \"val\": 39}, {\"col\": \"y1\", \"idx\": 7, \"val\": 11}, {\"col\": \"y1\", \"idx\": 8, \"val\": 85}, {\"col\": \"y1\", \"idx\": 9, \"val\": 16}, {\"col\": \"y1\", \"idx\": 10, \"val\": 57}, {\"col\": \"y1\", \"idx\": 11, \"val\": 66}, {\"col\": \"y1\", \"idx\": 12, \"val\": 77}, {\"col\": \"y1\", \"idx\": 13, \"val\": 12}, {\"col\": \"y1\", \"idx\": 14, \"val\": 99}, {\"col\": \"y1\", \"idx\": 15, \"val\": 16}, {\"col\": \"y1\", \"idx\": 16, \"val\": 81}, {\"col\": \"y1\", \"idx\": 17, \"val\": 63}, {\"col\": \"y1\", \"idx\": 18, \"val\": 70}, {\"col\": \"y1\", \"idx\": 19, \"val\": 93}, {\"col\": \"y1\", \"idx\": 20, \"val\": 26}, {\"col\": \"y2\", \"idx\": 1, \"val\": 84}, {\"col\": \"y2\", \"idx\": 2, \"val\": 55}, {\"col\": \"y2\", \"idx\": 3, \"val\": 92}, {\"col\": \"y2\", \"idx\": 4, \"val\": 45}, {\"col\": \"y2\", \"idx\": 5, \"val\": 63}, {\"col\": \"y2\", \"idx\": 6, \"val\": 99}, {\"col\": \"y2\", \"idx\": 7, \"val\": 92}, {\"col\": \"y2\", \"idx\": 8, \"val\": 94}, {\"col\": \"y2\", \"idx\": 9, \"val\": 49}, {\"col\": \"y2\", \"idx\": 10, \"val\": 18}, {\"col\": \"y2\", \"idx\": 11, \"val\": 22}, {\"col\": \"y2\", \"idx\": 12, \"val\": 71}, {\"col\": \"y2\", \"idx\": 13, \"val\": 26}, {\"col\": \"y2\", \"idx\": 14, \"val\": 94}, {\"col\": \"y2\", \"idx\": 15, \"val\": 54}, {\"col\": \"y2\", \"idx\": 16, \"val\": 38}, {\"col\": \"y2\", \"idx\": 17, \"val\": 58}, {\"col\": \"y2\", \"idx\": 18, \"val\": 22}, {\"col\": \"y2\", \"idx\": 19, \"val\": 15}, {\"col\": \"y2\", \"idx\": 20, \"val\": 61}, {\"col\": \"y3\", \"idx\": 1, \"val\": 11}, {\"col\": \"y3\", \"idx\": 2, \"val\": 87}, {\"col\": \"y3\", \"idx\": 3, \"val\": 14}, {\"col\": \"y3\", \"idx\": 4, \"val\": 14}, {\"col\": \"y3\", \"idx\": 5, \"val\": 37}, {\"col\": \"y3\", \"idx\": 6, \"val\": 16}, {\"col\": \"y3\", \"idx\": 7, \"val\": 99}, {\"col\": \"y3\", \"idx\": 8, \"val\": 10}, {\"col\": \"y3\", \"idx\": 9, \"val\": 43}, {\"col\": \"y3\", \"idx\": 10, \"val\": 65}, {\"col\": \"y3\", \"idx\": 11, \"val\": 81}, {\"col\": \"y3\", \"idx\": 12, \"val\": 20}, {\"col\": \"y3\", \"idx\": 13, \"val\": 81}, {\"col\": \"y3\", \"idx\": 14, \"val\": 11}, {\"col\": \"y3\", \"idx\": 15, \"val\": 24}, {\"col\": \"y3\", \"idx\": 16, \"val\": 25}, {\"col\": \"y3\", \"idx\": 17, \"val\": 43}, {\"col\": \"y3\", \"idx\": 18, \"val\": 13}, {\"col\": \"y3\", \"idx\": 19, \"val\": 83}, {\"col\": \"y3\", \"idx\": 20, \"val\": 56}, {\"col\": \"y4\", \"idx\": 1, \"val\": 44}, {\"col\": \"y4\", \"idx\": 2, \"val\": 26}, {\"col\": \"y4\", \"idx\": 3, \"val\": 58}, {\"col\": \"y4\", \"idx\": 4, \"val\": 70}, {\"col\": \"y4\", \"idx\": 5, \"val\": 92}, {\"col\": \"y4\", \"idx\": 6, \"val\": 15}, {\"col\": \"y4\", \"idx\": 7, \"val\": 52}, {\"col\": \"y4\", \"idx\": 8, \"val\": 64}, {\"col\": \"y4\", \"idx\": 9, \"val\": 20}, {\"col\": \"y4\", \"idx\": 10, \"val\": 96}, {\"col\": \"y4\", \"idx\": 11, \"val\": 31}, {\"col\": \"y4\", \"idx\": 12, \"val\": 53}, {\"col\": \"y4\", \"idx\": 13, \"val\": 34}, {\"col\": \"y4\", \"idx\": 14, \"val\": 15}, {\"col\": \"y4\", \"idx\": 15, \"val\": 45}, {\"col\": \"y4\", \"idx\": 16, \"val\": 46}, {\"col\": \"y4\", \"idx\": 17, \"val\": 14}, {\"col\": \"y4\", \"idx\": 18, \"val\": 54}, {\"col\": \"y4\", \"idx\": 19, \"val\": 98}, {\"col\": \"y4\", \"idx\": 20, \"val\": 81}, {\"col\": \"y5\", \"idx\": 1, \"val\": 39}, {\"col\": \"y5\", \"idx\": 2, \"val\": 48}, {\"col\": \"y5\", \"idx\": 3, \"val\": 43}, {\"col\": \"y5\", \"idx\": 4, \"val\": 75}, {\"col\": \"y5\", \"idx\": 5, \"val\": 16}, {\"col\": \"y5\", \"idx\": 6, \"val\": 67}, {\"col\": \"y5\", \"idx\": 7, \"val\": 31}, {\"col\": \"y5\", \"idx\": 8, \"val\": 56}, {\"col\": \"y5\", \"idx\": 9, \"val\": 59}, {\"col\": \"y5\", \"idx\": 10, \"val\": 40}, {\"col\": \"y5\", \"idx\": 11, \"val\": 74}, {\"col\": \"y5\", \"idx\": 12, \"val\": 39}, {\"col\": \"y5\", \"idx\": 13, \"val\": 25}, {\"col\": \"y5\", \"idx\": 14, \"val\": 77}, {\"col\": \"y5\", \"idx\": 15, \"val\": 17}, {\"col\": \"y5\", \"idx\": 16, \"val\": 31}, {\"col\": \"y5\", \"idx\": 17, \"val\": 22}, {\"col\": \"y5\", \"idx\": 18, \"val\": 43}, {\"col\": \"y5\", \"idx\": 19, \"val\": 15}, {\"col\": \"y5\", \"idx\": 20, \"val\": 68}, {\"col\": \"y6\", \"idx\": 1, \"val\": 31}, {\"col\": \"y6\", \"idx\": 2, \"val\": 94}, {\"col\": \"y6\", \"idx\": 3, \"val\": 45}, {\"col\": \"y6\", \"idx\": 4, \"val\": 96}, {\"col\": \"y6\", \"idx\": 5, \"val\": 53}, {\"col\": \"y6\", \"idx\": 6, \"val\": 87}, {\"col\": \"y6\", \"idx\": 7, \"val\": 49}, {\"col\": \"y6\", \"idx\": 8, \"val\": 76}, {\"col\": \"y6\", \"idx\": 9, \"val\": 52}, {\"col\": \"y6\", \"idx\": 10, \"val\": 82}, {\"col\": \"y6\", \"idx\": 11, \"val\": 21}, {\"col\": \"y6\", \"idx\": 12, \"val\": 87}, {\"col\": \"y6\", \"idx\": 13, \"val\": 65}, {\"col\": \"y6\", \"idx\": 14, \"val\": 65}, {\"col\": \"y6\", \"idx\": 15, \"val\": 31}, {\"col\": \"y6\", \"idx\": 16, \"val\": 20}, {\"col\": \"y6\", \"idx\": 17, \"val\": 48}, {\"col\": \"y6\", \"idx\": 18, \"val\": 79}, {\"col\": \"y6\", \"idx\": 19, \"val\": 53}, {\"col\": \"y6\", \"idx\": 20, \"val\": 26}, {\"col\": \"y7\", \"idx\": 1, \"val\": 82}, {\"col\": \"y7\", \"idx\": 2, \"val\": 32}, {\"col\": \"y7\", \"idx\": 3, \"val\": 79}, {\"col\": \"y7\", \"idx\": 4, \"val\": 67}, {\"col\": \"y7\", \"idx\": 5, \"val\": 58}, {\"col\": \"y7\", \"idx\": 6, \"val\": 80}, {\"col\": \"y7\", \"idx\": 7, \"val\": 32}, {\"col\": \"y7\", \"idx\": 8, \"val\": 56}, {\"col\": \"y7\", \"idx\": 9, \"val\": 50}, {\"col\": \"y7\", \"idx\": 10, \"val\": 75}, {\"col\": \"y7\", \"idx\": 11, \"val\": 46}, {\"col\": \"y7\", \"idx\": 12, \"val\": 64}, {\"col\": \"y7\", \"idx\": 13, \"val\": 22}, {\"col\": \"y7\", \"idx\": 14, \"val\": 94}, {\"col\": \"y7\", \"idx\": 15, \"val\": 11}, {\"col\": \"y7\", \"idx\": 16, \"val\": 63}, {\"col\": \"y7\", \"idx\": 17, \"val\": 85}, {\"col\": \"y7\", \"idx\": 18, \"val\": 21}, {\"col\": \"y7\", \"idx\": 19, \"val\": 12}, {\"col\": \"y7\", \"idx\": 20, \"val\": 36}, {\"col\": \"y8\", \"idx\": 1, \"val\": 58}, {\"col\": \"y8\", \"idx\": 2, \"val\": 90}, {\"col\": \"y8\", \"idx\": 3, \"val\": 59}, {\"col\": \"y8\", \"idx\": 4, \"val\": 22}, {\"col\": \"y8\", \"idx\": 5, \"val\": 81}, {\"col\": \"y8\", \"idx\": 6, \"val\": 29}, {\"col\": \"y8\", \"idx\": 7, \"val\": 25}, {\"col\": \"y8\", \"idx\": 8, \"val\": 19}, {\"col\": \"y8\", \"idx\": 9, \"val\": 67}, {\"col\": \"y8\", \"idx\": 10, \"val\": 11}, {\"col\": \"y8\", \"idx\": 11, \"val\": 13}, {\"col\": \"y8\", \"idx\": 12, \"val\": 78}, {\"col\": \"y8\", \"idx\": 13, \"val\": 36}, {\"col\": \"y8\", \"idx\": 14, \"val\": 55}, {\"col\": \"y8\", \"idx\": 15, \"val\": 48}, {\"col\": \"y8\", \"idx\": 16, \"val\": 50}, {\"col\": \"y8\", \"idx\": 17, \"val\": 98}, {\"col\": \"y8\", \"idx\": 18, \"val\": 71}, {\"col\": \"y8\", \"idx\": 19, \"val\": 23}, {\"col\": \"y8\", \"idx\": 20, \"val\": 37}, {\"col\": \"y9\", \"idx\": 1, \"val\": 15}, {\"col\": \"y9\", \"idx\": 2, \"val\": 35}, {\"col\": \"y9\", \"idx\": 3, \"val\": 79}, {\"col\": \"y9\", \"idx\": 4, \"val\": 25}, {\"col\": \"y9\", \"idx\": 5, \"val\": 85}, {\"col\": \"y9\", \"idx\": 6, \"val\": 52}, {\"col\": \"y9\", \"idx\": 7, \"val\": 64}, {\"col\": \"y9\", \"idx\": 8, \"val\": 49}, {\"col\": \"y9\", \"idx\": 9, \"val\": 51}, {\"col\": \"y9\", \"idx\": 10, \"val\": 44}, {\"col\": \"y9\", \"idx\": 11, \"val\": 85}, {\"col\": \"y9\", \"idx\": 12, \"val\": 100}, {\"col\": \"y9\", \"idx\": 13, \"val\": 56}, {\"col\": \"y9\", \"idx\": 14, \"val\": 42}, {\"col\": \"y9\", \"idx\": 15, \"val\": 76}, {\"col\": \"y9\", \"idx\": 16, \"val\": 10}, {\"col\": \"y9\", \"idx\": 17, \"val\": 90}, {\"col\": \"y9\", \"idx\": 18, \"val\": 13}, {\"col\": \"y9\", \"idx\": 19, \"val\": 22}, {\"col\": \"y9\", \"idx\": 20, \"val\": 91}]}], \"height\": 500, \"legends\": [{\"fill\": \"color\", \"offset\": 0, \"properties\": {}, \"title\": \"Categories\"}], \"marks\": [{\"from\": {\"data\": \"table\", \"transform\": [{\"keys\": [\"data.col\"], \"type\": \"facet\"}]}, \"marks\": [{\"properties\": {\"enter\": {\"fill\": {\"field\": \"data.col\", \"scale\": \"color\"}, \"size\": {\"value\": 100}, \"x\": {\"field\": \"data.idx\", \"scale\": \"x\"}, \"y\": {\"field\": \"data.val\", \"scale\": \"y\"}}}, \"type\": \"symbol\"}], \"type\": \"group\"}], \"padding\": \"auto\", \"scales\": [{\"domain\": {\"data\": \"table\", \"field\": \"data.idx\"}, \"name\": \"x\", \"range\": \"width\", \"type\": \"linear\"}, {\"domain\": {\"data\": \"table\", \"field\": \"data.val\"}, \"name\": \"y\", \"nice\": true, \"range\": \"height\"}, {\"domain\": {\"data\": \"table\", \"field\": \"data.col\"}, \"name\": \"color\", \"range\": [\"#8dd3c7\", \"#ffffb3\", \"#bebada\", \"#fb8072\", \"#80b1d3\", \"#fdb462\", \"#b3de69\", \"#fccde5\", \"#d9d9d9\", \"#bc80bd\", \"#ccebc5\", \"#ffed6f\"], \"type\": \"ordinal\"}], \"width\": 960}, function(chart) {\n",
       "         chart({el: \"#vis70a21a65b6db48ddb5f7e43f66589b78\"}).update();\n",
       "       });\n",
       "     };\n",
       "     _do_plot();\n",
       "   })();\n",
       "</script>\n",
       "<style>.vega canvas {width: 100%;}</style>\n",
       "        "
      ],
      "text/plain": [
       "<vincent.charts.Scatter at 0x7fbe9df3b7b8>"
      ]
     },
     "execution_count": 8,
     "metadata": {},
     "output_type": "execute_result"
    }
   ],
   "source": [
    "scatter = vincent.Scatter(multi_iter2, iter_idx='index')\n",
    "scatter.axis_titles(x='Index', y='Data Value')\n",
    "scatter.legend(title='Categories')\n",
    "scatter.colors(brew='Set3')"
   ]
  },
  {
   "cell_type": "code",
   "execution_count": null,
   "metadata": {
    "scrolled": true
   },
   "outputs": [],
   "source": [
    "import pandas as pd\n",
    "import random\n",
    "\n",
    "#Iterable\n",
    "list_data = [10, 20, 30, 20, 15, 30, 45]\n",
    "\n",
    "#Dicts of iterables\n",
    "cat_1 = ['y1', 'y2', 'y3', 'y4']\n",
    "index_1 = range(0, 21, 1)\n",
    "multi_iter1 = {'index': index_1}\n",
    "for cat in cat_1:\n",
    "    multi_iter1[cat] = [random.randint(10, 100) for x in index_1]\n",
    "\n",
    "cat_2 = ['y' + str(x) for x in range(0, 10, 1)]\n",
    "index_2 = range(1, 21, 1)\n",
    "multi_iter2 = {'index': index_2}\n",
    "for cat in cat_2:\n",
    "    multi_iter2[cat] = [random.randint(10, 100) for x in index_2]\n",
    "\n",
    "#Pandas\n",
    "import pandas as pd\n",
    "\n",
    "farm_1 = {'apples': 10, 'berries': 32, 'squash': 21, 'melons': 13, 'corn': 18}\n",
    "farm_2 = {'apples': 15, 'berries': 43, 'squash': 17, 'melons': 10, 'corn': 22}\n",
    "farm_3 = {'apples': 6, 'berries': 24, 'squash': 22, 'melons': 16, 'corn': 30}\n",
    "farm_4 = {'apples': 12, 'berries': 30, 'squash': 15, 'melons': 9, 'corn': 15}\n",
    "\n",
    "farm_data = [farm_1, farm_2, farm_3, farm_4]\n",
    "farm_index = ['Farm 1', 'Farm 2', 'Farm 3', 'Farm 4']\n",
    "df_farm = pd.DataFrame(farm_data, index=farm_index)\n",
    "\n",
    "#As DataFrames\n",
    "index_3 = multi_iter2.pop('index')\n",
    "df_1 = pd.DataFrame(multi_iter2, index=index_3)\n",
    "df_1 = df_1.reindex(columns=sorted(df_1.columns))\n",
    "\n",
    "cat_4 = ['Metric_' + str(x) for x in range(0, 10, 1)]\n",
    "index_4 = ['Data 1', 'Data 2', 'Data 3', 'Data 4']\n",
    "data_3 = {}\n",
    "for cat in cat_4:\n",
    "    data_3[cat] = [random.randint(10, 100) for x in index_4]\n",
    "df_2 = pd.DataFrame(data_3, index=index_4)\n",
    "\n",
    "import pandas.io.data as web\n",
    "all_data = {}\n",
    "for ticker in ['AAPL', 'GOOG', 'IBM', 'YHOO', 'MSFT']:\n",
    "    all_data[ticker] = web.get_data_yahoo(ticker, '1/1/2010', '1/1/2013')\n",
    "price = pd.DataFrame({tic: data['Adj Close']\n",
    "                      for tic, data in all_data.iteritems()})\n",
    "\n",
    "#Map Data Binding\n",
    "import json\n",
    "import pandas as pd\n",
    "#Map the county codes we have in our geometry to those in the\n",
    "#county_data file, which contains additional rows we don't need\n",
    "with open('us_counties.topo.json', 'r') as f:\n",
    "    get_id = json.load(f)\n",
    "\n",
    "#A little FIPS code munging\n",
    "new_geoms = []\n",
    "for geom in get_id['objects']['us_counties.geo']['geometries']:\n",
    "    geom['properties']['FIPS'] = int(geom['properties']['FIPS'])\n",
    "    new_geoms.append(geom)\n",
    "\n",
    "get_id['objects']['us_counties.geo']['geometries'] = new_geoms\n",
    "\n",
    "with open('us_counties.topo.json', 'w') as f:\n",
    "    json.dump(get_id, f)\n",
    "\n",
    "#Grab the FIPS codes and load them into a dataframe\n",
    "geometries = get_id['objects']['us_counties.geo']['geometries']\n",
    "county_codes = [x['properties']['FIPS'] for x in geometries]\n",
    "county_df = pd.DataFrame({'FIPS': county_codes}, dtype=str)\n",
    "county_df = county_df.astype(int)\n",
    "\n",
    "#Read into Dataframe, cast to string for consistency\n",
    "df = pd.read_csv('data/us_county_data.csv', na_values=[' '])\n",
    "df['FIPS_Code'] = df['FIPS'].astype(str)\n",
    "\n",
    "#Perform an inner join, pad NA's with data from nearest county\n",
    "merged = pd.merge(df, county_df, on='FIPS', how='inner')\n",
    "merged = merged.fillna(method='pad')"
   ]
  },
  {
   "cell_type": "code",
   "execution_count": 9,
   "metadata": {},
   "outputs": [],
   "source": [
    "world_topo = r'world-countries.topo.json'\n",
    "geo_data = [{'name': 'countries',\n",
    "             'url': world_topo,\n",
    "             'feature': 'world-countries'}]\n",
    "\n",
    "vis = vincent.Map(geo_data=geo_data, scale=200)"
   ]
  },
  {
   "cell_type": "code",
   "execution_count": 10,
   "metadata": {},
   "outputs": [
    {
     "ename": "NameError",
     "evalue": "name 'county_topo' is not defined",
     "output_type": "error",
     "traceback": [
      "\u001b[0;31m---------------------------------------------------------------------------\u001b[0m",
      "\u001b[0;31mNameError\u001b[0m                                 Traceback (most recent call last)",
      "\u001b[0;32m<ipython-input-10-ab454d511dde>\u001b[0m in \u001b[0;36m<module>\u001b[0;34m()\u001b[0m\n\u001b[1;32m      1\u001b[0m geo_data = [{'name': 'counties',\n\u001b[0;32m----> 2\u001b[0;31m              \u001b[0;34m'url'\u001b[0m\u001b[0;34m:\u001b[0m \u001b[0mcounty_topo\u001b[0m\u001b[0;34m,\u001b[0m\u001b[0;34m\u001b[0m\u001b[0m\n\u001b[0m\u001b[1;32m      3\u001b[0m              'feature': 'us_counties.geo'},\n\u001b[1;32m      4\u001b[0m             {'name': 'states',\n\u001b[1;32m      5\u001b[0m              \u001b[0;34m'url'\u001b[0m\u001b[0;34m:\u001b[0m \u001b[0mstate_topo\u001b[0m\u001b[0;34m,\u001b[0m\u001b[0;34m\u001b[0m\u001b[0m\n",
      "\u001b[0;31mNameError\u001b[0m: name 'county_topo' is not defined"
     ]
    }
   ],
   "source": [
    "geo_data = [{'name': 'counties',\n",
    "             'url': county_topo,\n",
    "             'feature': 'us_counties.geo'},\n",
    "            {'name': 'states',\n",
    "             'url': state_topo,\n",
    "             'feature': 'us_states.geo'}]\n",
    "\n",
    "vis = vincent.Map(geo_data=geo_data, scale=1000, projection='albersUsa')\n",
    "del vis.marks[1].properties.update\n",
    "vis.marks[0].properties.update.fill.value = '#084081'\n",
    "vis.marks[1].properties.enter.stroke.value = '#fff'\n",
    "vis.marks[0].properties.enter.stroke.value = '#7bccc4'"
   ]
  },
  {
   "cell_type": "code",
   "execution_count": 11,
   "metadata": {},
   "outputs": [
    {
     "ename": "NameError",
     "evalue": "name 'county_topo' is not defined",
     "output_type": "error",
     "traceback": [
      "\u001b[0;31m---------------------------------------------------------------------------\u001b[0m",
      "\u001b[0;31mNameError\u001b[0m                                 Traceback (most recent call last)",
      "\u001b[0;32m<ipython-input-11-9053acb46362>\u001b[0m in \u001b[0;36m<module>\u001b[0;34m()\u001b[0m\n\u001b[1;32m      1\u001b[0m geo_data = [{'name': 'counties',\n\u001b[0;32m----> 2\u001b[0;31m              \u001b[0;34m'url'\u001b[0m\u001b[0;34m:\u001b[0m \u001b[0mcounty_topo\u001b[0m\u001b[0;34m,\u001b[0m\u001b[0;34m\u001b[0m\u001b[0m\n\u001b[0m\u001b[1;32m      3\u001b[0m              'feature': 'us_counties.geo'}]\n\u001b[1;32m      4\u001b[0m \u001b[0;34m\u001b[0m\u001b[0m\n\u001b[1;32m      5\u001b[0m vis = vincent.Map(data=merged, geo_data=geo_data, scale=1100, projection='albersUsa',\n",
      "\u001b[0;31mNameError\u001b[0m: name 'county_topo' is not defined"
     ]
    }
   ],
   "source": [
    "geo_data = [{'name': 'counties',\n",
    "             'url': county_topo,\n",
    "             'feature': 'us_counties.geo'}]\n",
    "\n",
    "vis = vincent.Map(data=merged, geo_data=geo_data, scale=1100, projection='albersUsa',\n",
    "          data_bind='Unemployment_rate_2011', data_key='FIPS',\n",
    "          map_key={'counties': 'properties.FIPS'})\n",
    "vis.marks[0].properties.enter.stroke_opacity = ValueRef(value=0.5)\n",
    "vis.to_json('vega.json')"
   ]
  },
  {
   "cell_type": "code",
   "execution_count": null,
   "metadata": {},
   "outputs": [],
   "source": []
  }
 ],
 "metadata": {
  "kernelspec": {
   "display_name": "Python 3",
   "language": "python",
   "name": "python3"
  },
  "language_info": {
   "codemirror_mode": {
    "name": "ipython",
    "version": 3
   },
   "file_extension": ".py",
   "mimetype": "text/x-python",
   "name": "python",
   "nbconvert_exporter": "python",
   "pygments_lexer": "ipython3",
   "version": "3.6.3"
  }
 },
 "nbformat": 4,
 "nbformat_minor": 2
}
