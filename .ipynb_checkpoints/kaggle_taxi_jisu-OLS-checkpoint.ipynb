{
 "cells": [
  {
   "cell_type": "code",
   "execution_count": 3,
   "metadata": {},
   "outputs": [],
   "source": [
    "taxi = pd.read_csv(\"/Users/jisuim/Desktop/tp_taxi/jisu/train.csv\")"
   ]
  },
  {
   "cell_type": "code",
   "execution_count": 4,
   "metadata": {},
   "outputs": [],
   "source": [
    "taxi_ex = taxi.copy()"
   ]
  },
  {
   "cell_type": "code",
   "execution_count": 10,
   "metadata": {},
   "outputs": [
    {
     "data": {
      "text/html": [
       "<div>\n",
       "<style scoped>\n",
       "    .dataframe tbody tr th:only-of-type {\n",
       "        vertical-align: middle;\n",
       "    }\n",
       "\n",
       "    .dataframe tbody tr th {\n",
       "        vertical-align: top;\n",
       "    }\n",
       "\n",
       "    .dataframe thead th {\n",
       "        text-align: right;\n",
       "    }\n",
       "</style>\n",
       "<table border=\"1\" class=\"dataframe\">\n",
       "  <thead>\n",
       "    <tr style=\"text-align: right;\">\n",
       "      <th></th>\n",
       "      <th>id</th>\n",
       "      <th>vendor_id</th>\n",
       "      <th>pickup_datetime</th>\n",
       "      <th>dropoff_datetime</th>\n",
       "      <th>passenger_count</th>\n",
       "      <th>pickup_longitude</th>\n",
       "      <th>pickup_latitude</th>\n",
       "      <th>dropoff_longitude</th>\n",
       "      <th>dropoff_latitude</th>\n",
       "      <th>store_and_fwd_flag</th>\n",
       "      <th>trip_duration</th>\n",
       "    </tr>\n",
       "  </thead>\n",
       "  <tbody>\n",
       "    <tr>\n",
       "      <th>0</th>\n",
       "      <td>id2875421</td>\n",
       "      <td>2</td>\n",
       "      <td>2016-03-14 17:24:55</td>\n",
       "      <td>2016-03-14 17:32:30</td>\n",
       "      <td>1</td>\n",
       "      <td>-73.982155</td>\n",
       "      <td>40.767937</td>\n",
       "      <td>-73.964630</td>\n",
       "      <td>40.765602</td>\n",
       "      <td>N</td>\n",
       "      <td>455</td>\n",
       "    </tr>\n",
       "    <tr>\n",
       "      <th>1</th>\n",
       "      <td>id2377394</td>\n",
       "      <td>1</td>\n",
       "      <td>2016-06-12 00:43:35</td>\n",
       "      <td>2016-06-12 00:54:38</td>\n",
       "      <td>1</td>\n",
       "      <td>-73.980415</td>\n",
       "      <td>40.738564</td>\n",
       "      <td>-73.999481</td>\n",
       "      <td>40.731152</td>\n",
       "      <td>N</td>\n",
       "      <td>663</td>\n",
       "    </tr>\n",
       "    <tr>\n",
       "      <th>2</th>\n",
       "      <td>id3858529</td>\n",
       "      <td>2</td>\n",
       "      <td>2016-01-19 11:35:24</td>\n",
       "      <td>2016-01-19 12:10:48</td>\n",
       "      <td>1</td>\n",
       "      <td>-73.979027</td>\n",
       "      <td>40.763939</td>\n",
       "      <td>-74.005333</td>\n",
       "      <td>40.710087</td>\n",
       "      <td>N</td>\n",
       "      <td>2124</td>\n",
       "    </tr>\n",
       "    <tr>\n",
       "      <th>3</th>\n",
       "      <td>id3504673</td>\n",
       "      <td>2</td>\n",
       "      <td>2016-04-06 19:32:31</td>\n",
       "      <td>2016-04-06 19:39:40</td>\n",
       "      <td>1</td>\n",
       "      <td>-74.010040</td>\n",
       "      <td>40.719971</td>\n",
       "      <td>-74.012268</td>\n",
       "      <td>40.706718</td>\n",
       "      <td>N</td>\n",
       "      <td>429</td>\n",
       "    </tr>\n",
       "    <tr>\n",
       "      <th>4</th>\n",
       "      <td>id2181028</td>\n",
       "      <td>2</td>\n",
       "      <td>2016-03-26 13:30:55</td>\n",
       "      <td>2016-03-26 13:38:10</td>\n",
       "      <td>1</td>\n",
       "      <td>-73.973053</td>\n",
       "      <td>40.793209</td>\n",
       "      <td>-73.972923</td>\n",
       "      <td>40.782520</td>\n",
       "      <td>N</td>\n",
       "      <td>435</td>\n",
       "    </tr>\n",
       "  </tbody>\n",
       "</table>\n",
       "</div>"
      ],
      "text/plain": [
       "          id  vendor_id      pickup_datetime     dropoff_datetime  \\\n",
       "0  id2875421          2  2016-03-14 17:24:55  2016-03-14 17:32:30   \n",
       "1  id2377394          1  2016-06-12 00:43:35  2016-06-12 00:54:38   \n",
       "2  id3858529          2  2016-01-19 11:35:24  2016-01-19 12:10:48   \n",
       "3  id3504673          2  2016-04-06 19:32:31  2016-04-06 19:39:40   \n",
       "4  id2181028          2  2016-03-26 13:30:55  2016-03-26 13:38:10   \n",
       "\n",
       "   passenger_count  pickup_longitude  pickup_latitude  dropoff_longitude  \\\n",
       "0                1        -73.982155        40.767937         -73.964630   \n",
       "1                1        -73.980415        40.738564         -73.999481   \n",
       "2                1        -73.979027        40.763939         -74.005333   \n",
       "3                1        -74.010040        40.719971         -74.012268   \n",
       "4                1        -73.973053        40.793209         -73.972923   \n",
       "\n",
       "   dropoff_latitude store_and_fwd_flag  trip_duration  \n",
       "0         40.765602                  N            455  \n",
       "1         40.731152                  N            663  \n",
       "2         40.710087                  N           2124  \n",
       "3         40.706718                  N            429  \n",
       "4         40.782520                  N            435  "
      ]
     },
     "execution_count": 10,
     "metadata": {},
     "output_type": "execute_result"
    }
   ],
   "source": [
    "taxi_ex.head()"
   ]
  },
  {
   "cell_type": "markdown",
   "metadata": {},
   "source": [
    "# vendor_id -> dummy variable 변환"
   ]
  },
  {
   "cell_type": "code",
   "execution_count": 11,
   "metadata": {},
   "outputs": [],
   "source": [
    "dummy_id=pd.get_dummies(taxi_ex['vendor_id'],prefix='id')"
   ]
  },
  {
   "cell_type": "code",
   "execution_count": 12,
   "metadata": {},
   "outputs": [
    {
     "data": {
      "text/html": [
       "<div>\n",
       "<style scoped>\n",
       "    .dataframe tbody tr th:only-of-type {\n",
       "        vertical-align: middle;\n",
       "    }\n",
       "\n",
       "    .dataframe tbody tr th {\n",
       "        vertical-align: top;\n",
       "    }\n",
       "\n",
       "    .dataframe thead th {\n",
       "        text-align: right;\n",
       "    }\n",
       "</style>\n",
       "<table border=\"1\" class=\"dataframe\">\n",
       "  <thead>\n",
       "    <tr style=\"text-align: right;\">\n",
       "      <th></th>\n",
       "      <th>id_1</th>\n",
       "      <th>id_2</th>\n",
       "    </tr>\n",
       "  </thead>\n",
       "  <tbody>\n",
       "    <tr>\n",
       "      <th>0</th>\n",
       "      <td>0</td>\n",
       "      <td>1</td>\n",
       "    </tr>\n",
       "    <tr>\n",
       "      <th>1</th>\n",
       "      <td>1</td>\n",
       "      <td>0</td>\n",
       "    </tr>\n",
       "    <tr>\n",
       "      <th>2</th>\n",
       "      <td>0</td>\n",
       "      <td>1</td>\n",
       "    </tr>\n",
       "    <tr>\n",
       "      <th>3</th>\n",
       "      <td>0</td>\n",
       "      <td>1</td>\n",
       "    </tr>\n",
       "    <tr>\n",
       "      <th>4</th>\n",
       "      <td>0</td>\n",
       "      <td>1</td>\n",
       "    </tr>\n",
       "  </tbody>\n",
       "</table>\n",
       "</div>"
      ],
      "text/plain": [
       "   id_1  id_2\n",
       "0     0     1\n",
       "1     1     0\n",
       "2     0     1\n",
       "3     0     1\n",
       "4     0     1"
      ]
     },
     "execution_count": 12,
     "metadata": {},
     "output_type": "execute_result"
    }
   ],
   "source": [
    "dummy_id.head()"
   ]
  },
  {
   "cell_type": "code",
   "execution_count": 13,
   "metadata": {},
   "outputs": [],
   "source": [
    "y = list(taxi_ex['trip_duration'])"
   ]
  },
  {
   "cell_type": "code",
   "execution_count": 14,
   "metadata": {},
   "outputs": [
    {
     "name": "stdout",
     "output_type": "stream",
     "text": [
      "                            OLS Regression Results                            \n",
      "==============================================================================\n",
      "Dep. Variable:                      y   R-squared:                       0.000\n",
      "Model:                            OLS   Adj. R-squared:                  0.000\n",
      "Method:                 Least Squares   F-statistic:                     601.6\n",
      "Date:                Thu, 08 Mar 2018   Prob (F-statistic):          8.05e-133\n",
      "Time:                        23:03:29   Log-Likelihood:            -1.4561e+07\n",
      "No. Observations:             1458644   AIC:                         2.912e+07\n",
      "Df Residuals:                 1458642   BIC:                         2.912e+07\n",
      "Df Model:                           1                                         \n",
      "Covariance Type:            nonrobust                                         \n",
      "==============================================================================\n",
      "                 coef    std err          t      P>|t|      [0.025      0.975]\n",
      "------------------------------------------------------------------------------\n",
      "id_1         845.4382      6.358    132.977      0.000     832.977     857.899\n",
      "id_2        1058.6432      5.928    178.588      0.000    1047.025    1070.262\n",
      "================================================================================\n",
      "Omnibus:                  8287020.863   Durbin-Watson:                     2.000\n",
      "Prob(Omnibus):                  0.000   Jarque-Bera (JB):   2247942471552562.000\n",
      "Skew:                         343.397   Prob(JB):                           0.00\n",
      "Kurtosis:                  192321.380   Cond. No.                           1.07\n",
      "================================================================================\n",
      "\n",
      "Warnings:\n",
      "[1] Standard Errors assume that the covariance matrix of the errors is correctly specified.\n"
     ]
    }
   ],
   "source": [
    "model = sm.OLS(y, dummy_id)\n",
    "result = model.fit()\n",
    "print(result.summary())  "
   ]
  },
  {
   "cell_type": "markdown",
   "metadata": {},
   "source": [
    "> vendor_id가 2일 때 trip_duration이 더 길다"
   ]
  },
  {
   "cell_type": "markdown",
   "metadata": {},
   "source": [
    "# pickup datetime \n",
    "- 시간대별\n",
    "- 월별\n",
    "- 요일별"
   ]
  },
  {
   "cell_type": "markdown",
   "metadata": {},
   "source": [
    "### 월별 OLS"
   ]
  },
  {
   "cell_type": "code",
   "execution_count": 15,
   "metadata": {},
   "outputs": [],
   "source": [
    "for i in range(len(taxi)):\n",
    "    k = taxi_ex['pickup_datetime'][i][5:7]\n",
    "    taxi_ex.at[i, \"month\"] = k \n",
    "## 월별 column 추가"
   ]
  },
  {
   "cell_type": "code",
   "execution_count": 16,
   "metadata": {},
   "outputs": [],
   "source": [
    "dummy_month = pd.get_dummies(taxi_ex['month'],prefix='month')\n"
   ]
  },
  {
   "cell_type": "code",
   "execution_count": 17,
   "metadata": {},
   "outputs": [
    {
     "name": "stdout",
     "output_type": "stream",
     "text": [
      "                            OLS Regression Results                            \n",
      "==============================================================================\n",
      "Dep. Variable:                      y   R-squared:                       0.000\n",
      "Model:                            OLS   Adj. R-squared:                  0.000\n",
      "Method:                 Least Squares   F-statistic:                     13.69\n",
      "Date:                Thu, 08 Mar 2018   Prob (F-statistic):           2.14e-13\n",
      "Time:                        23:40:28   Log-Likelihood:            -1.4561e+07\n",
      "No. Observations:             1458644   AIC:                         2.912e+07\n",
      "Df Residuals:                 1458638   BIC:                         2.912e+07\n",
      "Df Model:                           5                                         \n",
      "Covariance Type:            nonrobust                                         \n",
      "==============================================================================\n",
      "                 coef    std err          t      P>|t|      [0.025      0.975]\n",
      "------------------------------------------------------------------------------\n",
      "month_01     922.3733     10.928     84.408      0.000     900.956     943.791\n",
      "month_02     920.8305     10.729     85.829      0.000     899.803     941.858\n",
      "month_03     937.3654     10.347     90.590      0.000     917.085     957.646\n",
      "month_04     962.8915     10.440     92.228      0.000     942.429     983.354\n",
      "month_05     999.4506     10.506     95.127      0.000     978.858    1020.043\n",
      "month_06    1013.3672     10.820     93.661      0.000     992.161    1034.573\n",
      "================================================================================\n",
      "Omnibus:                  8285764.005   Durbin-Watson:                     2.000\n",
      "Prob(Omnibus):                  0.000   Jarque-Bera (JB):   2244212437297335.250\n",
      "Skew:                         343.201   Prob(JB):                           0.00\n",
      "Kurtosis:                  192161.756   Cond. No.                           1.06\n",
      "================================================================================\n",
      "\n",
      "Warnings:\n",
      "[1] Standard Errors assume that the covariance matrix of the errors is correctly specified.\n"
     ]
    }
   ],
   "source": [
    "model = sm.OLS(y, dummy_month)\n",
    "result = model.fit()\n",
    "print(result.summary())  "
   ]
  },
  {
   "cell_type": "markdown",
   "metadata": {},
   "source": [
    "### 시간대별 OLS"
   ]
  },
  {
   "cell_type": "code",
   "execution_count": 18,
   "metadata": {},
   "outputs": [],
   "source": [
    "for i in range(len(taxi)):\n",
    "    k = taxi_ex['pickup_datetime'][i][11:13]\n",
    "    taxi_ex.at[i, \"time\"] = k  "
   ]
  },
  {
   "cell_type": "code",
   "execution_count": 19,
   "metadata": {},
   "outputs": [],
   "source": [
    "dummy_time = pd.get_dummies(taxi_ex['time'],prefix='time')"
   ]
  },
  {
   "cell_type": "code",
   "execution_count": 20,
   "metadata": {},
   "outputs": [
    {
     "name": "stdout",
     "output_type": "stream",
     "text": [
      "                            OLS Regression Results                            \n",
      "==============================================================================\n",
      "Dep. Variable:                      y   R-squared:                       0.000\n",
      "Model:                            OLS   Adj. R-squared:                  0.000\n",
      "Method:                 Least Squares   F-statistic:                     14.33\n",
      "Date:                Thu, 08 Mar 2018   Prob (F-statistic):           4.83e-56\n",
      "Time:                        23:56:02   Log-Likelihood:            -1.4561e+07\n",
      "No. Observations:             1458644   AIC:                         2.912e+07\n",
      "Df Residuals:                 1458620   BIC:                         2.912e+07\n",
      "Df Model:                          23                                         \n",
      "Covariance Type:            nonrobust                                         \n",
      "==============================================================================\n",
      "                 coef    std err          t      P>|t|      [0.025      0.975]\n",
      "------------------------------------------------------------------------------\n",
      "time_00      936.6573     22.695     41.272      0.000     892.177     981.138\n",
      "time_01      903.0871     26.665     33.868      0.000     850.825     955.350\n",
      "time_02      890.0769     31.312     28.426      0.000     828.706     951.447\n",
      "time_03      890.0709     36.229     24.568      0.000     819.064     961.078\n",
      "time_04      921.9764     41.673     22.124      0.000     840.299    1003.654\n",
      "time_05      822.2990     42.756     19.232      0.000     738.498     906.099\n",
      "time_06      797.4349     28.720     27.765      0.000     741.144     853.726\n",
      "time_07      831.7583     22.209     37.451      0.000     788.229     875.288\n",
      "time_08      924.5592     20.224     45.716      0.000     884.921     964.197\n",
      "time_09      933.5289     20.132     46.369      0.000     894.070     972.988\n",
      "time_10      933.3676     20.472     45.592      0.000     893.243     973.492\n",
      "time_11      966.4303     20.013     48.291      0.000     927.206    1005.654\n",
      "time_12      993.5331     19.534     50.862      0.000     955.247    1031.819\n",
      "time_13     1032.2464     19.589     52.696      0.000     993.854    1070.639\n",
      "time_14     1075.7893     19.213     55.992      0.000    1038.132    1113.447\n",
      "time_15     1118.8325     19.542     57.252      0.000    1080.530    1157.135\n",
      "time_16     1080.1463     20.650     52.307      0.000    1039.673    1120.620\n",
      "time_17     1030.5816     18.936     54.424      0.000     993.468    1067.696\n",
      "time_18      981.5832     17.398     56.418      0.000     947.483    1015.683\n",
      "time_19      894.3567     17.426     51.322      0.000     860.201     928.512\n",
      "time_20      879.4615     18.061     48.693      0.000     844.062     914.861\n",
      "time_21      890.5212     18.049     49.339      0.000     855.146     925.897\n",
      "time_22     1023.4559     18.458     55.446      0.000     987.278    1059.634\n",
      "time_23      925.0914     19.824     46.665      0.000     886.237     963.946\n",
      "================================================================================\n",
      "Omnibus:                  8286240.963   Durbin-Watson:                     2.000\n",
      "Prob(Omnibus):                  0.000   Jarque-Bera (JB):   2245469225323410.750\n",
      "Skew:                         343.276   Prob(JB):                           0.00\n",
      "Kurtosis:                  192215.554   Cond. No.                           2.46\n",
      "================================================================================\n",
      "\n",
      "Warnings:\n",
      "[1] Standard Errors assume that the covariance matrix of the errors is correctly specified.\n"
     ]
    }
   ],
   "source": [
    "model = sm.OLS(y, dummy_time)\n",
    "result = model.fit()\n",
    "print(result.summary())  "
   ]
  },
  {
   "cell_type": "markdown",
   "metadata": {},
   "source": [
    "### 요일별 OLS"
   ]
  },
  {
   "cell_type": "code",
   "execution_count": null,
   "metadata": {},
   "outputs": [],
   "source": [
    "import calendar\n",
    "for i in range(len(taxi)):\n",
    "    m = taxi_ex['pickup_datetime'][i][5:7]\n",
    "    d = taxi_ex['pickup_datetime'][i][8:10]\n",
    "    k = calendar.weekday(2016, int(m), int(d))\n",
    "    taxi_ex.at[i, \"week\"] = k"
   ]
  },
  {
   "cell_type": "code",
   "execution_count": null,
   "metadata": {},
   "outputs": [],
   "source": [
    "dummy_week = pd.get_dummies(taxi_ex['week'],prefix='week')"
   ]
  },
  {
   "cell_type": "code",
   "execution_count": null,
   "metadata": {},
   "outputs": [],
   "source": [
    "model = sm.OLS(y, dummy_week)\n",
    "result = model.fit()\n",
    "print(result.summary())  "
   ]
  },
  {
   "cell_type": "markdown",
   "metadata": {},
   "source": [
    "# passenger count"
   ]
  },
  {
   "cell_type": "code",
   "execution_count": null,
   "metadata": {},
   "outputs": [],
   "source": [
    "X = sm.add_constant(taxi_ex['passenger_count'])"
   ]
  },
  {
   "cell_type": "code",
   "execution_count": null,
   "metadata": {},
   "outputs": [],
   "source": [
    "model = sm.OLS(y, X)\n",
    "result = model.fit()\n",
    "print(result.summary()) "
   ]
  },
  {
   "cell_type": "markdown",
   "metadata": {},
   "source": [
    "# distance"
   ]
  },
  {
   "cell_type": "code",
   "execution_count": 21,
   "metadata": {},
   "outputs": [],
   "source": [
    "from math import cos, asin, sqrt\n",
    "def dist(lat1, lon1, lat2, lon2):\n",
    "    p = 0.017453292519943295     #Pi/180\n",
    "    a = 0.5 - cos((lat2 - lat1) * p)/2 + cos(lat1 * p) * cos(lat2 * p) * (1 - cos((lon2 - lon1) * p)) / 2\n",
    "    return 12742 * asin(sqrt(a))"
   ]
  },
  {
   "cell_type": "code",
   "execution_count": 22,
   "metadata": {},
   "outputs": [],
   "source": [
    "for i in range(len(taxi)):\n",
    "    lat1 = taxi['pickup_latitude'][i]\n",
    "    lon1 = taxi['pickup_longitude'][i]\n",
    "    lat2 = taxi['dropoff_latitude'][i]\n",
    "    lon2 = taxi['dropoff_longitude'][i]\n",
    "    taxi_ex.at[i, 'distance'] = dist(lat1, lon1, lat2, lon2)\n"
   ]
  },
  {
   "cell_type": "code",
   "execution_count": null,
   "metadata": {},
   "outputs": [],
   "source": [
    "X = sm.add_constant(taxi_ex['distance'])\n",
    "model = sm.OLS(y, X)\n",
    "result = model.fit()\n",
    "print(result.summary()) "
   ]
  },
  {
   "cell_type": "markdown",
   "metadata": {},
   "source": [
    "# outlier removal"
   ]
  },
  {
   "cell_type": "code",
   "execution_count": 25,
   "metadata": {},
   "outputs": [],
   "source": [
    "taxi_ex.loc[taxi_ex.distance > 200] = np.nan ##200km 넘는 데이터 제거\n",
    "taxi_ex.loc[taxi_ex.trip_duration > 30000] = np.nan ##40000초(약 11시간)가 넘는 데이터 제거\n",
    "taxi_ex.loc[taxi_ex.passenger_count == 0] = np.NAN   ### passenger 수가 0인 데이터 제거\n",
    "taxi_ex.dropna(inplace=True)"
   ]
  },
  {
   "cell_type": "code",
   "execution_count": 26,
   "metadata": {},
   "outputs": [
    {
     "data": {
      "text/plain": [
       "1456542"
      ]
     },
     "execution_count": 26,
     "metadata": {},
     "output_type": "execute_result"
    }
   ],
   "source": [
    "len(taxi_ex)"
   ]
  },
  {
   "cell_type": "code",
   "execution_count": 27,
   "metadata": {},
   "outputs": [
    {
     "data": {
      "text/plain": [
       "1458644"
      ]
     },
     "execution_count": 27,
     "metadata": {},
     "output_type": "execute_result"
    }
   ],
   "source": [
    "len(taxi)"
   ]
  },
  {
   "cell_type": "code",
   "execution_count": 28,
   "metadata": {},
   "outputs": [
    {
     "name": "stdout",
     "output_type": "stream",
     "text": [
      "                            OLS Regression Results                            \n",
      "==============================================================================\n",
      "Dep. Variable:                      y   R-squared:                       0.566\n",
      "Model:                            OLS   Adj. R-squared:                  0.566\n",
      "Method:                 Least Squares   F-statistic:                 1.903e+06\n",
      "Date:                Fri, 09 Mar 2018   Prob (F-statistic):               0.00\n",
      "Time:                        00:09:36   Log-Likelihood:            -1.0943e+07\n",
      "No. Observations:             1456542   AIC:                         2.189e+07\n",
      "Df Residuals:                 1456540   BIC:                         2.189e+07\n",
      "Df Model:                           1                                         \n",
      "Covariance Type:            nonrobust                                         \n",
      "==============================================================================\n",
      "                 coef    std err          t      P>|t|      [0.025      0.975]\n",
      "------------------------------------------------------------------------------\n",
      "const        397.7495      0.486    817.680      0.000     396.796     398.703\n",
      "distance     128.0719      0.093   1379.350      0.000     127.890     128.254\n",
      "==============================================================================\n",
      "Omnibus:                  1829579.721   Durbin-Watson:                   1.999\n",
      "Prob(Omnibus):                  0.000   Jarque-Bera (JB):       3671261011.692\n",
      "Skew:                           5.974   Prob(JB):                         0.00\n",
      "Kurtosis:                     248.662   Cond. No.                         7.05\n",
      "==============================================================================\n",
      "\n",
      "Warnings:\n",
      "[1] Standard Errors assume that the covariance matrix of the errors is correctly specified.\n"
     ]
    }
   ],
   "source": [
    "### outlier 제거 후 R^2 증가\n",
    "y = list(taxi_ex['trip_duration'])\n",
    "X = sm.add_constant(taxi_ex['distance'])\n",
    "model = sm.OLS(y, X)\n",
    "result = model.fit()\n",
    "print(result.summary()) "
   ]
  },
  {
   "cell_type": "code",
   "execution_count": 29,
   "metadata": {},
   "outputs": [],
   "source": [
    "taxi_week = pd.DataFrame(taxi_ex, columns=['week','trip_duration'])\n",
    "taxi_week = taxi_week.groupby('week').agg('mean').reset_index()"
   ]
  },
  {
   "cell_type": "code",
   "execution_count": 30,
   "metadata": {},
   "outputs": [
    {
     "data": {
      "text/html": [
       "<div>\n",
       "<style scoped>\n",
       "    .dataframe tbody tr th:only-of-type {\n",
       "        vertical-align: middle;\n",
       "    }\n",
       "\n",
       "    .dataframe tbody tr th {\n",
       "        vertical-align: top;\n",
       "    }\n",
       "\n",
       "    .dataframe thead th {\n",
       "        text-align: right;\n",
       "    }\n",
       "</style>\n",
       "<table border=\"1\" class=\"dataframe\">\n",
       "  <thead>\n",
       "    <tr style=\"text-align: right;\">\n",
       "      <th></th>\n",
       "      <th>week</th>\n",
       "      <th>trip_duration</th>\n",
       "    </tr>\n",
       "  </thead>\n",
       "  <tbody>\n",
       "  </tbody>\n",
       "</table>\n",
       "</div>"
      ],
      "text/plain": [
       "Empty DataFrame\n",
       "Columns: [week, trip_duration]\n",
       "Index: []"
      ]
     },
     "execution_count": 30,
     "metadata": {},
     "output_type": "execute_result"
    }
   ],
   "source": [
    "taxi_week"
   ]
  },
  {
   "cell_type": "code",
   "execution_count": 31,
   "metadata": {},
   "outputs": [
    {
     "data": {
      "text/html": [
       "<div>\n",
       "<style scoped>\n",
       "    .dataframe tbody tr th:only-of-type {\n",
       "        vertical-align: middle;\n",
       "    }\n",
       "\n",
       "    .dataframe tbody tr th {\n",
       "        vertical-align: top;\n",
       "    }\n",
       "\n",
       "    .dataframe thead th {\n",
       "        text-align: right;\n",
       "    }\n",
       "</style>\n",
       "<table border=\"1\" class=\"dataframe\">\n",
       "  <thead>\n",
       "    <tr style=\"text-align: right;\">\n",
       "      <th></th>\n",
       "      <th>time</th>\n",
       "      <th>trip_duration</th>\n",
       "    </tr>\n",
       "  </thead>\n",
       "  <tbody>\n",
       "    <tr>\n",
       "      <th>0</th>\n",
       "      <td>00</td>\n",
       "      <td>780.382669</td>\n",
       "    </tr>\n",
       "    <tr>\n",
       "      <th>1</th>\n",
       "      <td>01</td>\n",
       "      <td>740.166701</td>\n",
       "    </tr>\n",
       "    <tr>\n",
       "      <th>2</th>\n",
       "      <td>02</td>\n",
       "      <td>701.307701</td>\n",
       "    </tr>\n",
       "    <tr>\n",
       "      <th>3</th>\n",
       "      <td>03</td>\n",
       "      <td>702.186655</td>\n",
       "    </tr>\n",
       "    <tr>\n",
       "      <th>4</th>\n",
       "      <td>04</td>\n",
       "      <td>733.973277</td>\n",
       "    </tr>\n",
       "    <tr>\n",
       "      <th>5</th>\n",
       "      <td>05</td>\n",
       "      <td>712.459900</td>\n",
       "    </tr>\n",
       "    <tr>\n",
       "      <th>6</th>\n",
       "      <td>06</td>\n",
       "      <td>671.670921</td>\n",
       "    </tr>\n",
       "    <tr>\n",
       "      <th>7</th>\n",
       "      <td>07</td>\n",
       "      <td>758.865398</td>\n",
       "    </tr>\n",
       "    <tr>\n",
       "      <th>8</th>\n",
       "      <td>08</td>\n",
       "      <td>834.686364</td>\n",
       "    </tr>\n",
       "    <tr>\n",
       "      <th>9</th>\n",
       "      <td>09</td>\n",
       "      <td>844.035968</td>\n",
       "    </tr>\n",
       "    <tr>\n",
       "      <th>10</th>\n",
       "      <td>10</td>\n",
       "      <td>848.198381</td>\n",
       "    </tr>\n",
       "    <tr>\n",
       "      <th>11</th>\n",
       "      <td>11</td>\n",
       "      <td>876.255165</td>\n",
       "    </tr>\n",
       "    <tr>\n",
       "      <th>12</th>\n",
       "      <td>12</td>\n",
       "      <td>878.180106</td>\n",
       "    </tr>\n",
       "    <tr>\n",
       "      <th>13</th>\n",
       "      <td>13</td>\n",
       "      <td>897.659767</td>\n",
       "    </tr>\n",
       "    <tr>\n",
       "      <th>14</th>\n",
       "      <td>14</td>\n",
       "      <td>948.104002</td>\n",
       "    </tr>\n",
       "    <tr>\n",
       "      <th>15</th>\n",
       "      <td>15</td>\n",
       "      <td>967.621280</td>\n",
       "    </tr>\n",
       "    <tr>\n",
       "      <th>16</th>\n",
       "      <td>16</td>\n",
       "      <td>970.115002</td>\n",
       "    </tr>\n",
       "    <tr>\n",
       "      <th>17</th>\n",
       "      <td>17</td>\n",
       "      <td>934.641975</td>\n",
       "    </tr>\n",
       "    <tr>\n",
       "      <th>18</th>\n",
       "      <td>18</td>\n",
       "      <td>862.647504</td>\n",
       "    </tr>\n",
       "    <tr>\n",
       "      <th>19</th>\n",
       "      <td>19</td>\n",
       "      <td>790.104335</td>\n",
       "    </tr>\n",
       "    <tr>\n",
       "      <th>20</th>\n",
       "      <td>20</td>\n",
       "      <td>770.485535</td>\n",
       "    </tr>\n",
       "    <tr>\n",
       "      <th>21</th>\n",
       "      <td>21</td>\n",
       "      <td>777.109841</td>\n",
       "    </tr>\n",
       "    <tr>\n",
       "      <th>22</th>\n",
       "      <td>22</td>\n",
       "      <td>804.901663</td>\n",
       "    </tr>\n",
       "    <tr>\n",
       "      <th>23</th>\n",
       "      <td>23</td>\n",
       "      <td>812.376211</td>\n",
       "    </tr>\n",
       "  </tbody>\n",
       "</table>\n",
       "</div>"
      ],
      "text/plain": [
       "   time  trip_duration\n",
       "0    00     780.382669\n",
       "1    01     740.166701\n",
       "2    02     701.307701\n",
       "3    03     702.186655\n",
       "4    04     733.973277\n",
       "5    05     712.459900\n",
       "6    06     671.670921\n",
       "7    07     758.865398\n",
       "8    08     834.686364\n",
       "9    09     844.035968\n",
       "10   10     848.198381\n",
       "11   11     876.255165\n",
       "12   12     878.180106\n",
       "13   13     897.659767\n",
       "14   14     948.104002\n",
       "15   15     967.621280\n",
       "16   16     970.115002\n",
       "17   17     934.641975\n",
       "18   18     862.647504\n",
       "19   19     790.104335\n",
       "20   20     770.485535\n",
       "21   21     777.109841\n",
       "22   22     804.901663\n",
       "23   23     812.376211"
      ]
     },
     "execution_count": 31,
     "metadata": {},
     "output_type": "execute_result"
    }
   ],
   "source": [
    "taxi_time = pd.DataFrame(taxi_ex, columns=[\"time\", \"trip_duration\"])\n",
    "taxi_time = taxi_time.groupby(\"time\").agg(\"mean\").reset_index()\n",
    "taxi_time"
   ]
  },
  {
   "cell_type": "code",
   "execution_count": 32,
   "metadata": {},
   "outputs": [
    {
     "data": {
      "image/png": "[encoded data removed]",
      "text/plain": [
       "<matplotlib.figure.Figure at 0x16b6b44e0>"
      ]
     },
     "metadata": {},
     "output_type": "display_data"
    }
   ],
   "source": [
    "sns.barplot(taxi_time['time'], taxi_time['trip_duration'])\n",
    "plt.xlabel('time')\n",
    "plt.ylabel('trip_duration')\n",
    "plt.show()"
   ]
  },
  {
   "cell_type": "markdown",
   "metadata": {},
   "source": [
    "> 19~00(Night) / 01~07(Morning) / 08~18(Duty) 로 분할하기"
   ]
  },
  {
   "cell_type": "code",
   "execution_count": 33,
   "metadata": {},
   "outputs": [
    {
     "data": {
      "text/html": [
       "<div>\n",
       "<style scoped>\n",
       "    .dataframe tbody tr th:only-of-type {\n",
       "        vertical-align: middle;\n",
       "    }\n",
       "\n",
       "    .dataframe tbody tr th {\n",
       "        vertical-align: top;\n",
       "    }\n",
       "\n",
       "    .dataframe thead th {\n",
       "        text-align: right;\n",
       "    }\n",
       "</style>\n",
       "<table border=\"1\" class=\"dataframe\">\n",
       "  <thead>\n",
       "    <tr style=\"text-align: right;\">\n",
       "      <th></th>\n",
       "      <th>month</th>\n",
       "      <th>trip_duration</th>\n",
       "    </tr>\n",
       "  </thead>\n",
       "  <tbody>\n",
       "    <tr>\n",
       "      <th>0</th>\n",
       "      <td>01</td>\n",
       "      <td>791.184369</td>\n",
       "    </tr>\n",
       "    <tr>\n",
       "      <th>1</th>\n",
       "      <td>02</td>\n",
       "      <td>790.638394</td>\n",
       "    </tr>\n",
       "    <tr>\n",
       "      <th>2</th>\n",
       "      <td>03</td>\n",
       "      <td>818.482927</td>\n",
       "    </tr>\n",
       "    <tr>\n",
       "      <th>3</th>\n",
       "      <td>04</td>\n",
       "      <td>848.866341</td>\n",
       "    </tr>\n",
       "    <tr>\n",
       "      <th>4</th>\n",
       "      <td>05</td>\n",
       "      <td>884.492226</td>\n",
       "    </tr>\n",
       "    <tr>\n",
       "      <th>5</th>\n",
       "      <td>06</td>\n",
       "      <td>891.140486</td>\n",
       "    </tr>\n",
       "  </tbody>\n",
       "</table>\n",
       "</div>"
      ],
      "text/plain": [
       "  month  trip_duration\n",
       "0    01     791.184369\n",
       "1    02     790.638394\n",
       "2    03     818.482927\n",
       "3    04     848.866341\n",
       "4    05     884.492226\n",
       "5    06     891.140486"
      ]
     },
     "execution_count": 33,
     "metadata": {},
     "output_type": "execute_result"
    }
   ],
   "source": [
    "taxi_month = pd.DataFrame(taxi_ex, columns=[\"month\", \"trip_duration\"])\n",
    "taxi_month = taxi_month.groupby('month').agg('mean').reset_index()\n",
    "taxi_month"
   ]
  },
  {
   "cell_type": "markdown",
   "metadata": {},
   "source": [
    "# Feature Engineering"
   ]
  },
  {
   "cell_type": "code",
   "execution_count": 23,
   "metadata": {
    "scrolled": true
   },
   "outputs": [],
   "source": [
    "### 시간대 19~00(Night) / 01~07(Morning) / 08~18(Duty) 로 분할하기\n",
    "Morning = ['01','02','03','04','05','06','07']\n",
    "Night = ['19', '20', '21', '22', '23', '00']\n",
    "for i in range(len(taxi_ex)):\n",
    "    k = taxi_ex['pickup_datetime'][i][11:13]\n",
    "    if k in Morning:\n",
    "        taxi_ex.at[i, \"time_n\"] = \"Morning\"\n",
    "    elif k in Night:\n",
    "        taxi_ex.at[i, \"time_n\"] = \"Night\"\n",
    "    else:\n",
    "        taxi_ex.at[i, \"time_n\"] = \"Duty\"\n",
    "        \n",
    "     "
   ]
  },
  {
   "cell_type": "code",
   "execution_count": 34,
   "metadata": {},
   "outputs": [],
   "source": [
    "dummy_time_n = pd.get_dummies(taxi_ex['time_n'],prefix='time_n')"
   ]
  },
  {
   "cell_type": "code",
   "execution_count": 35,
   "metadata": {},
   "outputs": [
    {
     "name": "stdout",
     "output_type": "stream",
     "text": [
      "                            OLS Regression Results                            \n",
      "==============================================================================\n",
      "Dep. Variable:                      y   R-squared:                       0.010\n",
      "Model:                            OLS   Adj. R-squared:                  0.010\n",
      "Method:                 Least Squares   F-statistic:                     7318.\n",
      "Date:                Fri, 09 Mar 2018   Prob (F-statistic):               0.00\n",
      "Time:                        00:09:56   Log-Likelihood:            -1.1544e+07\n",
      "No. Observations:             1456542   AIC:                         2.309e+07\n",
      "Df Residuals:                 1456539   BIC:                         2.309e+07\n",
      "Df Model:                           2                                         \n",
      "Covariance Type:            nonrobust                                         \n",
      "==================================================================================\n",
      "                     coef    std err          t      P>|t|      [0.025      0.975]\n",
      "----------------------------------------------------------------------------------\n",
      "time_n_Duty      896.5556      0.754   1188.736      0.000     895.077     898.034\n",
      "time_n_Morning   722.6306      1.473    490.643      0.000     719.744     725.517\n",
      "time_n_Night     788.9872      0.986    800.302      0.000     787.055     790.919\n",
      "==============================================================================\n",
      "Omnibus:                  1261152.263   Durbin-Watson:                   2.002\n",
      "Prob(Omnibus):                  0.000   Jarque-Bera (JB):        201789048.400\n",
      "Skew:                           3.531   Prob(JB):                         0.00\n",
      "Kurtosis:                      60.228   Cond. No.                         1.95\n",
      "==============================================================================\n",
      "\n",
      "Warnings:\n",
      "[1] Standard Errors assume that the covariance matrix of the errors is correctly specified.\n"
     ]
    }
   ],
   "source": [
    "### 시간대를 Morning/ Duty/ Night 로 나눈 OLS\n",
    "y = list(taxi_ex['trip_duration'])\n",
    "model = sm.OLS(y, dummy_time_n)\n",
    "result = model.fit()\n",
    "print(result.summary())  "
   ]
  },
  {
   "cell_type": "code",
   "execution_count": 36,
   "metadata": {},
   "outputs": [
    {
     "data": {
      "text/html": [
       "<div>\n",
       "<style scoped>\n",
       "    .dataframe tbody tr th:only-of-type {\n",
       "        vertical-align: middle;\n",
       "    }\n",
       "\n",
       "    .dataframe tbody tr th {\n",
       "        vertical-align: top;\n",
       "    }\n",
       "\n",
       "    .dataframe thead th {\n",
       "        text-align: right;\n",
       "    }\n",
       "</style>\n",
       "<table border=\"1\" class=\"dataframe\">\n",
       "  <thead>\n",
       "    <tr style=\"text-align: right;\">\n",
       "      <th></th>\n",
       "      <th>id</th>\n",
       "      <th>vendor_id</th>\n",
       "      <th>pickup_datetime</th>\n",
       "      <th>dropoff_datetime</th>\n",
       "      <th>passenger_count</th>\n",
       "      <th>pickup_longitude</th>\n",
       "      <th>pickup_latitude</th>\n",
       "      <th>dropoff_longitude</th>\n",
       "      <th>dropoff_latitude</th>\n",
       "      <th>store_and_fwd_flag</th>\n",
       "      <th>trip_duration</th>\n",
       "      <th>month</th>\n",
       "      <th>time</th>\n",
       "      <th>distance</th>\n",
       "      <th>time_n</th>\n",
       "    </tr>\n",
       "  </thead>\n",
       "  <tbody>\n",
       "    <tr>\n",
       "      <th>0</th>\n",
       "      <td>id2875421</td>\n",
       "      <td>2.0</td>\n",
       "      <td>2016-03-14 17:24:55</td>\n",
       "      <td>2016-03-14 17:32:30</td>\n",
       "      <td>1.0</td>\n",
       "      <td>-73.982155</td>\n",
       "      <td>40.767937</td>\n",
       "      <td>-73.964630</td>\n",
       "      <td>40.765602</td>\n",
       "      <td>N</td>\n",
       "      <td>455.0</td>\n",
       "      <td>03</td>\n",
       "      <td>17</td>\n",
       "      <td>1.498521</td>\n",
       "      <td>Duty</td>\n",
       "    </tr>\n",
       "    <tr>\n",
       "      <th>1</th>\n",
       "      <td>id2377394</td>\n",
       "      <td>1.0</td>\n",
       "      <td>2016-06-12 00:43:35</td>\n",
       "      <td>2016-06-12 00:54:38</td>\n",
       "      <td>1.0</td>\n",
       "      <td>-73.980415</td>\n",
       "      <td>40.738564</td>\n",
       "      <td>-73.999481</td>\n",
       "      <td>40.731152</td>\n",
       "      <td>N</td>\n",
       "      <td>663.0</td>\n",
       "      <td>06</td>\n",
       "      <td>00</td>\n",
       "      <td>1.805507</td>\n",
       "      <td>Night</td>\n",
       "    </tr>\n",
       "    <tr>\n",
       "      <th>2</th>\n",
       "      <td>id3858529</td>\n",
       "      <td>2.0</td>\n",
       "      <td>2016-01-19 11:35:24</td>\n",
       "      <td>2016-01-19 12:10:48</td>\n",
       "      <td>1.0</td>\n",
       "      <td>-73.979027</td>\n",
       "      <td>40.763939</td>\n",
       "      <td>-74.005333</td>\n",
       "      <td>40.710087</td>\n",
       "      <td>N</td>\n",
       "      <td>2124.0</td>\n",
       "      <td>01</td>\n",
       "      <td>11</td>\n",
       "      <td>6.385098</td>\n",
       "      <td>Duty</td>\n",
       "    </tr>\n",
       "    <tr>\n",
       "      <th>3</th>\n",
       "      <td>id3504673</td>\n",
       "      <td>2.0</td>\n",
       "      <td>2016-04-06 19:32:31</td>\n",
       "      <td>2016-04-06 19:39:40</td>\n",
       "      <td>1.0</td>\n",
       "      <td>-74.010040</td>\n",
       "      <td>40.719971</td>\n",
       "      <td>-74.012268</td>\n",
       "      <td>40.706718</td>\n",
       "      <td>N</td>\n",
       "      <td>429.0</td>\n",
       "      <td>04</td>\n",
       "      <td>19</td>\n",
       "      <td>1.485498</td>\n",
       "      <td>Night</td>\n",
       "    </tr>\n",
       "    <tr>\n",
       "      <th>4</th>\n",
       "      <td>id2181028</td>\n",
       "      <td>2.0</td>\n",
       "      <td>2016-03-26 13:30:55</td>\n",
       "      <td>2016-03-26 13:38:10</td>\n",
       "      <td>1.0</td>\n",
       "      <td>-73.973053</td>\n",
       "      <td>40.793209</td>\n",
       "      <td>-73.972923</td>\n",
       "      <td>40.782520</td>\n",
       "      <td>N</td>\n",
       "      <td>435.0</td>\n",
       "      <td>03</td>\n",
       "      <td>13</td>\n",
       "      <td>1.188588</td>\n",
       "      <td>Duty</td>\n",
       "    </tr>\n",
       "    <tr>\n",
       "      <th>5</th>\n",
       "      <td>id0801584</td>\n",
       "      <td>2.0</td>\n",
       "      <td>2016-01-30 22:01:40</td>\n",
       "      <td>2016-01-30 22:09:03</td>\n",
       "      <td>6.0</td>\n",
       "      <td>-73.982857</td>\n",
       "      <td>40.742195</td>\n",
       "      <td>-73.992081</td>\n",
       "      <td>40.749184</td>\n",
       "      <td>N</td>\n",
       "      <td>443.0</td>\n",
       "      <td>01</td>\n",
       "      <td>22</td>\n",
       "      <td>1.098942</td>\n",
       "      <td>Night</td>\n",
       "    </tr>\n",
       "    <tr>\n",
       "      <th>6</th>\n",
       "      <td>id1813257</td>\n",
       "      <td>1.0</td>\n",
       "      <td>2016-06-17 22:34:59</td>\n",
       "      <td>2016-06-17 22:40:40</td>\n",
       "      <td>4.0</td>\n",
       "      <td>-73.969017</td>\n",
       "      <td>40.757839</td>\n",
       "      <td>-73.957405</td>\n",
       "      <td>40.765896</td>\n",
       "      <td>N</td>\n",
       "      <td>341.0</td>\n",
       "      <td>06</td>\n",
       "      <td>22</td>\n",
       "      <td>1.326279</td>\n",
       "      <td>Night</td>\n",
       "    </tr>\n",
       "    <tr>\n",
       "      <th>7</th>\n",
       "      <td>id1324603</td>\n",
       "      <td>2.0</td>\n",
       "      <td>2016-05-21 07:54:58</td>\n",
       "      <td>2016-05-21 08:20:49</td>\n",
       "      <td>1.0</td>\n",
       "      <td>-73.969276</td>\n",
       "      <td>40.797779</td>\n",
       "      <td>-73.922470</td>\n",
       "      <td>40.760559</td>\n",
       "      <td>N</td>\n",
       "      <td>1551.0</td>\n",
       "      <td>05</td>\n",
       "      <td>07</td>\n",
       "      <td>5.714981</td>\n",
       "      <td>Morning</td>\n",
       "    </tr>\n",
       "    <tr>\n",
       "      <th>8</th>\n",
       "      <td>id1301050</td>\n",
       "      <td>1.0</td>\n",
       "      <td>2016-05-27 23:12:23</td>\n",
       "      <td>2016-05-27 23:16:38</td>\n",
       "      <td>1.0</td>\n",
       "      <td>-73.999481</td>\n",
       "      <td>40.738400</td>\n",
       "      <td>-73.985786</td>\n",
       "      <td>40.732815</td>\n",
       "      <td>N</td>\n",
       "      <td>255.0</td>\n",
       "      <td>05</td>\n",
       "      <td>23</td>\n",
       "      <td>1.310353</td>\n",
       "      <td>Night</td>\n",
       "    </tr>\n",
       "    <tr>\n",
       "      <th>9</th>\n",
       "      <td>id0012891</td>\n",
       "      <td>2.0</td>\n",
       "      <td>2016-03-10 21:45:01</td>\n",
       "      <td>2016-03-10 22:05:26</td>\n",
       "      <td>1.0</td>\n",
       "      <td>-73.981049</td>\n",
       "      <td>40.744339</td>\n",
       "      <td>-73.973000</td>\n",
       "      <td>40.789989</td>\n",
       "      <td>N</td>\n",
       "      <td>1225.0</td>\n",
       "      <td>03</td>\n",
       "      <td>21</td>\n",
       "      <td>5.121162</td>\n",
       "      <td>Night</td>\n",
       "    </tr>\n",
       "  </tbody>\n",
       "</table>\n",
       "</div>"
      ],
      "text/plain": [
       "          id  vendor_id      pickup_datetime     dropoff_datetime  \\\n",
       "0  id2875421        2.0  2016-03-14 17:24:55  2016-03-14 17:32:30   \n",
       "1  id2377394        1.0  2016-06-12 00:43:35  2016-06-12 00:54:38   \n",
       "2  id3858529        2.0  2016-01-19 11:35:24  2016-01-19 12:10:48   \n",
       "3  id3504673        2.0  2016-04-06 19:32:31  2016-04-06 19:39:40   \n",
       "4  id2181028        2.0  2016-03-26 13:30:55  2016-03-26 13:38:10   \n",
       "5  id0801584        2.0  2016-01-30 22:01:40  2016-01-30 22:09:03   \n",
       "6  id1813257        1.0  2016-06-17 22:34:59  2016-06-17 22:40:40   \n",
       "7  id1324603        2.0  2016-05-21 07:54:58  2016-05-21 08:20:49   \n",
       "8  id1301050        1.0  2016-05-27 23:12:23  2016-05-27 23:16:38   \n",
       "9  id0012891        2.0  2016-03-10 21:45:01  2016-03-10 22:05:26   \n",
       "\n",
       "   passenger_count  pickup_longitude  pickup_latitude  dropoff_longitude  \\\n",
       "0              1.0        -73.982155        40.767937         -73.964630   \n",
       "1              1.0        -73.980415        40.738564         -73.999481   \n",
       "2              1.0        -73.979027        40.763939         -74.005333   \n",
       "3              1.0        -74.010040        40.719971         -74.012268   \n",
       "4              1.0        -73.973053        40.793209         -73.972923   \n",
       "5              6.0        -73.982857        40.742195         -73.992081   \n",
       "6              4.0        -73.969017        40.757839         -73.957405   \n",
       "7              1.0        -73.969276        40.797779         -73.922470   \n",
       "8              1.0        -73.999481        40.738400         -73.985786   \n",
       "9              1.0        -73.981049        40.744339         -73.973000   \n",
       "\n",
       "   dropoff_latitude store_and_fwd_flag  trip_duration month time  distance  \\\n",
       "0         40.765602                  N          455.0    03   17  1.498521   \n",
       "1         40.731152                  N          663.0    06   00  1.805507   \n",
       "2         40.710087                  N         2124.0    01   11  6.385098   \n",
       "3         40.706718                  N          429.0    04   19  1.485498   \n",
       "4         40.782520                  N          435.0    03   13  1.188588   \n",
       "5         40.749184                  N          443.0    01   22  1.098942   \n",
       "6         40.765896                  N          341.0    06   22  1.326279   \n",
       "7         40.760559                  N         1551.0    05   07  5.714981   \n",
       "8         40.732815                  N          255.0    05   23  1.310353   \n",
       "9         40.789989                  N         1225.0    03   21  5.121162   \n",
       "\n",
       "    time_n  \n",
       "0     Duty  \n",
       "1    Night  \n",
       "2     Duty  \n",
       "3    Night  \n",
       "4     Duty  \n",
       "5    Night  \n",
       "6    Night  \n",
       "7  Morning  \n",
       "8    Night  \n",
       "9    Night  "
      ]
     },
     "execution_count": 36,
     "metadata": {},
     "output_type": "execute_result"
    }
   ],
   "source": [
    "taxi_ex.head(10)"
   ]
  },
  {
   "cell_type": "code",
   "execution_count": 37,
   "metadata": {},
   "outputs": [],
   "source": [
    "dfX = pd.concat([dummy_time_n, taxi_ex['distance']], axis=1)"
   ]
  },
  {
   "cell_type": "code",
   "execution_count": 38,
   "metadata": {},
   "outputs": [
    {
     "data": {
      "text/html": [
       "<div>\n",
       "<style scoped>\n",
       "    .dataframe tbody tr th:only-of-type {\n",
       "        vertical-align: middle;\n",
       "    }\n",
       "\n",
       "    .dataframe tbody tr th {\n",
       "        vertical-align: top;\n",
       "    }\n",
       "\n",
       "    .dataframe thead th {\n",
       "        text-align: right;\n",
       "    }\n",
       "</style>\n",
       "<table border=\"1\" class=\"dataframe\">\n",
       "  <thead>\n",
       "    <tr style=\"text-align: right;\">\n",
       "      <th></th>\n",
       "      <th>time_n_Duty</th>\n",
       "      <th>time_n_Morning</th>\n",
       "      <th>time_n_Night</th>\n",
       "      <th>distance</th>\n",
       "    </tr>\n",
       "  </thead>\n",
       "  <tbody>\n",
       "    <tr>\n",
       "      <th>0</th>\n",
       "      <td>1</td>\n",
       "      <td>0</td>\n",
       "      <td>0</td>\n",
       "      <td>1.498521</td>\n",
       "    </tr>\n",
       "    <tr>\n",
       "      <th>1</th>\n",
       "      <td>0</td>\n",
       "      <td>0</td>\n",
       "      <td>1</td>\n",
       "      <td>1.805507</td>\n",
       "    </tr>\n",
       "    <tr>\n",
       "      <th>2</th>\n",
       "      <td>1</td>\n",
       "      <td>0</td>\n",
       "      <td>0</td>\n",
       "      <td>6.385098</td>\n",
       "    </tr>\n",
       "    <tr>\n",
       "      <th>3</th>\n",
       "      <td>0</td>\n",
       "      <td>0</td>\n",
       "      <td>1</td>\n",
       "      <td>1.485498</td>\n",
       "    </tr>\n",
       "    <tr>\n",
       "      <th>4</th>\n",
       "      <td>1</td>\n",
       "      <td>0</td>\n",
       "      <td>0</td>\n",
       "      <td>1.188588</td>\n",
       "    </tr>\n",
       "  </tbody>\n",
       "</table>\n",
       "</div>"
      ],
      "text/plain": [
       "   time_n_Duty  time_n_Morning  time_n_Night  distance\n",
       "0            1               0             0  1.498521\n",
       "1            0               0             1  1.805507\n",
       "2            1               0             0  6.385098\n",
       "3            0               0             1  1.485498\n",
       "4            1               0             0  1.188588"
      ]
     },
     "execution_count": 38,
     "metadata": {},
     "output_type": "execute_result"
    }
   ],
   "source": [
    "dfX.head()"
   ]
  },
  {
   "cell_type": "code",
   "execution_count": null,
   "metadata": {},
   "outputs": [],
   "source": []
  },
  {
   "cell_type": "code",
   "execution_count": 39,
   "metadata": {},
   "outputs": [
    {
     "name": "stdout",
     "output_type": "stream",
     "text": [
      "                            OLS Regression Results                            \n",
      "==============================================================================\n",
      "Dep. Variable:                      y   R-squared:                       0.591\n",
      "Model:                            OLS   Adj. R-squared:                  0.591\n",
      "Method:                 Least Squares   F-statistic:                 7.015e+05\n",
      "Date:                Fri, 09 Mar 2018   Prob (F-statistic):               0.00\n",
      "Time:                        00:10:15   Log-Likelihood:            -1.0900e+07\n",
      "No. Observations:             1456542   AIC:                         2.180e+07\n",
      "Df Residuals:                 1456538   BIC:                         2.180e+07\n",
      "Df Model:                           3                                         \n",
      "Covariance Type:            nonrobust                                         \n",
      "==================================================================================\n",
      "                     coef    std err          t      P>|t|      [0.025      0.975]\n",
      "----------------------------------------------------------------------------------\n",
      "time_n_Duty      482.2225      0.564    855.181      0.000     481.117     483.328\n",
      "time_n_Morning   202.0718      1.013    199.387      0.000     200.085     204.058\n",
      "time_n_Night     319.2184      0.713    447.796      0.000     317.821     320.616\n",
      "distance         130.0885      0.090   1438.453      0.000     129.911     130.266\n",
      "==============================================================================\n",
      "Omnibus:                  1883063.657   Durbin-Watson:                   2.000\n",
      "Prob(Omnibus):                  0.000   Jarque-Bera (JB):       4491453838.357\n",
      "Skew:                           6.285   Prob(JB):                         0.00\n",
      "Kurtosis:                     274.752   Cond. No.                         15.3\n",
      "==============================================================================\n",
      "\n",
      "Warnings:\n",
      "[1] Standard Errors assume that the covariance matrix of the errors is correctly specified.\n"
     ]
    }
   ],
   "source": [
    "### 시간대, 거리에 따른 trip_duration\n",
    "y = list(taxi_ex['trip_duration'])\n",
    "model = sm.OLS(y, dfX)\n",
    "result = model.fit()\n",
    "print(result.summary())"
   ]
  },
  {
   "cell_type": "code",
   "execution_count": 40,
   "metadata": {},
   "outputs": [
    {
     "ename": "NameError",
     "evalue": "name 'dfX2' is not defined",
     "output_type": "error",
     "traceback": [
      "\u001b[0;31m---------------------------------------------------------------------------\u001b[0m",
      "\u001b[0;31mNameError\u001b[0m                                 Traceback (most recent call last)",
      "\u001b[0;32m<ipython-input-40-ed5e5ad75fdc>\u001b[0m in \u001b[0;36m<module>\u001b[0;34m()\u001b[0m\n\u001b[0;32m----> 1\u001b[0;31m \u001b[0mtest_y\u001b[0m \u001b[0;34m=\u001b[0m \u001b[0mresult\u001b[0m\u001b[0;34m.\u001b[0m\u001b[0mpredict\u001b[0m\u001b[0;34m(\u001b[0m\u001b[0mdfX2\u001b[0m\u001b[0;34m)\u001b[0m\u001b[0;34m\u001b[0m\u001b[0m\n\u001b[0m",
      "\u001b[0;31mNameError\u001b[0m: name 'dfX2' is not defined"
     ]
    }
   ],
   "source": [
    "test_y = result.predict(dfX2)"
   ]
  },
  {
   "cell_type": "markdown",
   "metadata": {},
   "source": [
    "# clustering"
   ]
  },
  {
   "cell_type": "markdown",
   "metadata": {},
   "source": [
    "> pickup clusters"
   ]
  },
  {
   "cell_type": "code",
   "execution_count": 26,
   "metadata": {},
   "outputs": [],
   "source": [
    "X = list(zip(taxi_ex['pickup_longitude'], taxi_ex['pickup_latitude']))"
   ]
  },
  {
   "cell_type": "code",
   "execution_count": 6,
   "metadata": {},
   "outputs": [
    {
     "data": {
      "text/plain": [
       "[(-73.98215484619139, 40.76793670654297),\n",
       " (-73.98041534423827, 40.738563537597656),\n",
       " (-73.97902679443358, 40.763938903808594),\n",
       " (-74.01004028320312, 40.719970703125),\n",
       " (-73.97305297851562, 40.79320907592773)]"
      ]
     },
     "execution_count": 6,
     "metadata": {},
     "output_type": "execute_result"
    }
   ],
   "source": [
    "X[:5]"
   ]
  },
  {
   "cell_type": "code",
   "execution_count": 28,
   "metadata": {},
   "outputs": [],
   "source": [
    "from sklearn.cluster import KMeans\n",
    "model = KMeans(n_clusters=30, init=\"random\", n_init=1, max_iter=1, random_state=1).fit(X)"
   ]
  },
  {
   "cell_type": "code",
   "execution_count": 29,
   "metadata": {},
   "outputs": [],
   "source": [
    "centroids = model.cluster_centers_"
   ]
  },
  {
   "cell_type": "code",
   "execution_count": 15,
   "metadata": {},
   "outputs": [
    {
     "data": {
      "text/plain": [
       "array([[-73.98116217,  40.74504534],\n",
       "       [-73.97872642,  40.77431123],\n",
       "       [-73.9889392 ,  40.73951855],\n",
       "       [-73.99011094,  40.72040705],\n",
       "       [-73.989791  ,  40.75142689],\n",
       "       [-74.01470043,  40.71501817],\n",
       "       [-73.97492169,  40.71986427],\n",
       "       [-73.94480527,  40.77679637],\n",
       "       [-73.96580734,  40.79788864],\n",
       "       [-73.86998372,  40.7708568 ],\n",
       "       [-73.96885126,  40.75414392],\n",
       "       [-73.98228582,  40.76465602],\n",
       "       [-74.00403572,  40.74302503],\n",
       "       [-73.99862198,  40.73439392],\n",
       "       [-73.99199466,  40.72753225],\n",
       "       [-73.9807673 ,  40.78091392],\n",
       "       [-73.9768347 ,  40.75365342],\n",
       "       [-73.98812426,  40.76311609],\n",
       "       [-73.7829522 ,  40.64630069],\n",
       "       [-73.97679728,  40.75023251],\n",
       "       [-73.98376462,  40.77075549],\n",
       "       [-73.9595211 ,  40.76961031],\n",
       "       [-73.95690815,  40.78055776],\n",
       "       [-73.97964669,  40.75008972],\n",
       "       [-73.9685142 ,  40.7631327 ],\n",
       "       [-74.00053959,  40.70353112],\n",
       "       [-73.97454131,  40.75857253],\n",
       "       [-73.99368605,  40.75804304],\n",
       "       [-74.00278893,  40.72835773],\n",
       "       [-73.97915231,  40.76182495]])"
      ]
     },
     "execution_count": 15,
     "metadata": {},
     "output_type": "execute_result"
    }
   ],
   "source": [
    "centroids"
   ]
  },
  {
   "cell_type": "code",
   "execution_count": 30,
   "metadata": {},
   "outputs": [],
   "source": [
    "def kmeans_df(centroids):\n",
    "    df = pd.DataFrame(np.hstack([X,\n",
    "                                model.labels_[:, np.newaxis]]),\n",
    "                    columns=[\"lon\", \"lat\", \"c\"])\n",
    "    return df"
   ]
  },
  {
   "cell_type": "code",
   "execution_count": 31,
   "metadata": {},
   "outputs": [],
   "source": [
    "clusters = kmeans_df(centroids)"
   ]
  },
  {
   "cell_type": "code",
   "execution_count": 32,
   "metadata": {},
   "outputs": [],
   "source": [
    "dummy_pick_clus = pd.get_dummies(clusters['c'],prefix='pick_clus')"
   ]
  },
  {
   "cell_type": "code",
   "execution_count": 33,
   "metadata": {},
   "outputs": [
    {
     "name": "stdout",
     "output_type": "stream",
     "text": [
      "                            OLS Regression Results                            \n",
      "==============================================================================\n",
      "Dep. Variable:                      y   R-squared:                       0.004\n",
      "Model:                            OLS   Adj. R-squared:                  0.004\n",
      "Method:                 Least Squares   F-statistic:                     186.5\n",
      "Date:                Fri, 09 Mar 2018   Prob (F-statistic):               0.00\n",
      "Time:                        15:14:33   Log-Likelihood:            -1.4558e+07\n",
      "No. Observations:             1458644   AIC:                         2.912e+07\n",
      "Df Residuals:                 1458614   BIC:                         2.912e+07\n",
      "Df Model:                          29                                         \n",
      "Covariance Type:            nonrobust                                         \n",
      "==================================================================================\n",
      "                     coef    std err          t      P>|t|      [0.025      0.975]\n",
      "----------------------------------------------------------------------------------\n",
      "pick_clus_0.0    851.2758     20.970     40.595      0.000     810.175     892.376\n",
      "pick_clus_1.0    794.0368     39.819     19.941      0.000     715.993     872.080\n",
      "pick_clus_2.0    873.5303     17.429     50.118      0.000     839.369     907.691\n",
      "pick_clus_3.0   1004.1960     24.187     41.519      0.000     956.791    1051.601\n",
      "pick_clus_4.0    940.5787     17.051     55.161      0.000     907.159     973.999\n",
      "pick_clus_5.0   1078.2556     24.296     44.379      0.000    1030.635    1125.876\n",
      "pick_clus_6.0    919.4141     36.515     25.179      0.000     847.846     990.983\n",
      "pick_clus_7.0    874.9940     24.539     35.657      0.000     826.898     923.090\n",
      "pick_clus_8.0    838.1396     21.498     38.986      0.000     796.003     880.276\n",
      "pick_clus_9.0   1825.3686     25.672     71.104      0.000    1775.053    1875.684\n",
      "pick_clus_10.0   864.6939     26.759     32.314      0.000     812.247     917.141\n",
      "pick_clus_11.0   949.0594     28.814     32.937      0.000     892.584    1005.535\n",
      "pick_clus_12.0   921.3726     19.862     46.388      0.000     882.443     960.302\n",
      "pick_clus_13.0   873.7100     26.808     32.592      0.000     821.168     926.252\n",
      "pick_clus_14.0   906.1982     21.296     42.552      0.000     864.459     947.938\n",
      "pick_clus_15.0   792.3609     22.183     35.720      0.000     748.883     835.838\n",
      "pick_clus_16.0   920.4182     28.047     32.818      0.000     865.448     975.388\n",
      "pick_clus_17.0   918.0788     25.305     36.280      0.000     868.481     967.676\n",
      "pick_clus_18.0  2715.1562     28.673     94.695      0.000    2658.959    2771.354\n",
      "pick_clus_19.0   882.3188     30.781     28.665      0.000     821.990     942.648\n",
      "pick_clus_20.0   864.8025     27.857     31.045      0.000     810.204     919.401\n",
      "pick_clus_21.0   807.2168     17.804     45.340      0.000     772.322     842.111\n",
      "pick_clus_22.0   801.8423     19.729     40.644      0.000     763.175     840.510\n",
      "pick_clus_23.0   819.0641     34.727     23.586      0.000     751.000     887.128\n",
      "pick_clus_24.0   783.6037     20.050     39.082      0.000     744.306     822.902\n",
      "pick_clus_25.0  1089.5022     28.683     37.984      0.000    1033.284    1145.720\n",
      "pick_clus_26.0   906.2314     25.051     36.175      0.000     857.132     955.331\n",
      "pick_clus_27.0   895.2090     23.357     38.327      0.000     849.430     940.988\n",
      "pick_clus_28.0   933.1089     22.048     42.321      0.000     889.895     976.323\n",
      "pick_clus_29.0  1018.1027     27.285     37.313      0.000     964.625    1071.581\n",
      "================================================================================\n",
      "Omnibus:                  8295185.266   Durbin-Watson:                     2.000\n",
      "Prob(Omnibus):                  0.000   Jarque-Bera (JB):   2269458558222939.000\n",
      "Skew:                         344.675   Prob(JB):                           0.00\n",
      "Kurtosis:                  193239.575   Cond. No.                           2.34\n",
      "================================================================================\n",
      "\n",
      "Warnings:\n",
      "[1] Standard Errors assume that the covariance matrix of the errors is correctly specified.\n"
     ]
    }
   ],
   "source": [
    "y = list(taxi_ex['trip_duration'])\n",
    "model = sm.OLS(y, dummy_pick_clus)\n",
    "result = model.fit()\n",
    "print(result.summary())"
   ]
  },
  {
   "cell_type": "markdown",
   "metadata": {},
   "source": [
    "> dropoff cluster"
   ]
  },
  {
   "cell_type": "code",
   "execution_count": 34,
   "metadata": {},
   "outputs": [],
   "source": [
    "X_2 = list(zip(taxi_ex['pickup_longitude'], taxi_ex['pickup_latitude']))"
   ]
  },
  {
   "cell_type": "code",
   "execution_count": 35,
   "metadata": {},
   "outputs": [],
   "source": [
    "from sklearn.cluster import KMeans\n",
    "model = KMeans(n_clusters=30, init=\"random\", n_init=1, max_iter=1, random_state=1).fit(X_2)"
   ]
  },
  {
   "cell_type": "code",
   "execution_count": 36,
   "metadata": {},
   "outputs": [],
   "source": [
    "centroids_2 = model.cluster_centers_"
   ]
  },
  {
   "cell_type": "code",
   "execution_count": 38,
   "metadata": {},
   "outputs": [],
   "source": [
    "clusters_2 = kmeans_df(centroids_2)"
   ]
  },
  {
   "cell_type": "code",
   "execution_count": 39,
   "metadata": {},
   "outputs": [],
   "source": [
    "dummy_drop_clus = pd.get_dummies(clusters_2['c'],prefix='pick_clus')"
   ]
  },
  {
   "cell_type": "code",
   "execution_count": 40,
   "metadata": {},
   "outputs": [
    {
     "name": "stdout",
     "output_type": "stream",
     "text": [
      "                            OLS Regression Results                            \n",
      "==============================================================================\n",
      "Dep. Variable:                      y   R-squared:                       0.004\n",
      "Model:                            OLS   Adj. R-squared:                  0.004\n",
      "Method:                 Least Squares   F-statistic:                     186.5\n",
      "Date:                Fri, 09 Mar 2018   Prob (F-statistic):               0.00\n",
      "Time:                        15:16:19   Log-Likelihood:            -1.4558e+07\n",
      "No. Observations:             1458644   AIC:                         2.912e+07\n",
      "Df Residuals:                 1458614   BIC:                         2.912e+07\n",
      "Df Model:                          29                                         \n",
      "Covariance Type:            nonrobust                                         \n",
      "==================================================================================\n",
      "                     coef    std err          t      P>|t|      [0.025      0.975]\n",
      "----------------------------------------------------------------------------------\n",
      "pick_clus_0.0    851.2758     20.970     40.595      0.000     810.175     892.376\n",
      "pick_clus_1.0    794.0368     39.819     19.941      0.000     715.993     872.080\n",
      "pick_clus_2.0    873.5303     17.429     50.118      0.000     839.369     907.691\n",
      "pick_clus_3.0   1004.1960     24.187     41.519      0.000     956.791    1051.601\n",
      "pick_clus_4.0    940.5787     17.051     55.161      0.000     907.159     973.999\n",
      "pick_clus_5.0   1078.2556     24.296     44.379      0.000    1030.635    1125.876\n",
      "pick_clus_6.0    919.4141     36.515     25.179      0.000     847.846     990.983\n",
      "pick_clus_7.0    874.9940     24.539     35.657      0.000     826.898     923.090\n",
      "pick_clus_8.0    838.1396     21.498     38.986      0.000     796.003     880.276\n",
      "pick_clus_9.0   1825.3686     25.672     71.104      0.000    1775.053    1875.684\n",
      "pick_clus_10.0   864.6939     26.759     32.314      0.000     812.247     917.141\n",
      "pick_clus_11.0   949.0594     28.814     32.937      0.000     892.584    1005.535\n",
      "pick_clus_12.0   921.3726     19.862     46.388      0.000     882.443     960.302\n",
      "pick_clus_13.0   873.7100     26.808     32.592      0.000     821.168     926.252\n",
      "pick_clus_14.0   906.1982     21.296     42.552      0.000     864.459     947.938\n",
      "pick_clus_15.0   792.3609     22.183     35.720      0.000     748.883     835.838\n",
      "pick_clus_16.0   920.4182     28.047     32.818      0.000     865.448     975.388\n",
      "pick_clus_17.0   918.0788     25.305     36.280      0.000     868.481     967.676\n",
      "pick_clus_18.0  2715.1562     28.673     94.695      0.000    2658.959    2771.354\n",
      "pick_clus_19.0   882.3188     30.781     28.665      0.000     821.990     942.648\n",
      "pick_clus_20.0   864.8025     27.857     31.045      0.000     810.204     919.401\n",
      "pick_clus_21.0   807.2168     17.804     45.340      0.000     772.322     842.111\n",
      "pick_clus_22.0   801.8423     19.729     40.644      0.000     763.175     840.510\n",
      "pick_clus_23.0   819.0641     34.727     23.586      0.000     751.000     887.128\n",
      "pick_clus_24.0   783.6037     20.050     39.082      0.000     744.306     822.902\n",
      "pick_clus_25.0  1089.5022     28.683     37.984      0.000    1033.284    1145.720\n",
      "pick_clus_26.0   906.2314     25.051     36.175      0.000     857.132     955.331\n",
      "pick_clus_27.0   895.2090     23.357     38.327      0.000     849.430     940.988\n",
      "pick_clus_28.0   933.1089     22.048     42.321      0.000     889.895     976.323\n",
      "pick_clus_29.0  1018.1027     27.285     37.313      0.000     964.625    1071.581\n",
      "================================================================================\n",
      "Omnibus:                  8295185.266   Durbin-Watson:                     2.000\n",
      "Prob(Omnibus):                  0.000   Jarque-Bera (JB):   2269458558222939.000\n",
      "Skew:                         344.675   Prob(JB):                           0.00\n",
      "Kurtosis:                  193239.575   Cond. No.                           2.34\n",
      "================================================================================\n",
      "\n",
      "Warnings:\n",
      "[1] Standard Errors assume that the covariance matrix of the errors is correctly specified.\n"
     ]
    }
   ],
   "source": [
    "y = list(taxi_ex['trip_duration'])\n",
    "model = sm.OLS(y, dummy_drop_clus)\n",
    "result = model.fit()\n",
    "print(result.summary())"
   ]
  },
  {
   "cell_type": "code",
   "execution_count": null,
   "metadata": {},
   "outputs": [],
   "source": []
  }
 ],
 "metadata": {
  "kernelspec": {
   "display_name": "Python 3",
   "language": "python",
   "name": "python3"
  },
  "language_info": {
   "codemirror_mode": {
    "name": "ipython",
    "version": 3
   },
   "file_extension": ".py",
   "mimetype": "text/x-python",
   "name": "python",
   "nbconvert_exporter": "python",
   "pygments_lexer": "ipython3",
   "version": "3.6.4"
  }
 },
 "nbformat": 4,
 "nbformat_minor": 2
}
