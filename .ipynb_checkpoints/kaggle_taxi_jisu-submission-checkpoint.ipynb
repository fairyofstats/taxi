{
 "cells": [
  {
   "cell_type": "code",
   "execution_count": 1,
   "metadata": {},
   "outputs": [],
   "source": [
    "taxi_test = pd.read_csv(\"/Users/jisuim/Desktop/tp_taxi/jisu/test.csv\")"
   ]
  },
  {
   "cell_type": "code",
   "execution_count": 2,
   "metadata": {},
   "outputs": [],
   "source": [
    "from math import cos, asin, sqrt\n",
    "def dist(lat1, lon1, lat2, lon2):\n",
    "    p = 0.017453292519943295     #Pi/180\n",
    "    a = 0.5 - cos((lat2 - lat1) * p)/2 + cos(lat1 * p) * cos(lat2 * p) * (1 - cos((lon2 - lon1) * p)) / 2\n",
    "    return 12742 * asin(sqrt(a))"
   ]
  },
  {
   "cell_type": "code",
   "execution_count": 3,
   "metadata": {},
   "outputs": [],
   "source": [
    "for i in range(len(taxi_test)):\n",
    "    lat1 = taxi_test['pickup_latitude'][i]\n",
    "    lon1 = taxi_test['pickup_longitude'][i]\n",
    "    lat2 = taxi_test['dropoff_latitude'][i]\n",
    "    lon2 = taxi_test['dropoff_longitude'][i]\n",
    "    taxi_test.at[i, 'distance'] = dist(lat1, lon1, lat2, lon2)\n"
   ]
  },
  {
   "cell_type": "code",
   "execution_count": null,
   "metadata": {},
   "outputs": [],
   "source": [
    "### 시간대 19~00(Night) / 01~07(Morning) / 08~18(Duty) 로 분할하기\n",
    "Morning = ['01','02','03','04','05','06','07']\n",
    "Night = ['19', '20', '21', '22', '23', '00']\n",
    "for i in range(len(taxi_test)):\n",
    "    k = taxi_test['pickup_datetime'][i][11:13]\n",
    "    if k in Morning:\n",
    "        taxi_test.at[i, \"time_n\"] = \"Morning\"\n",
    "    elif k in Night:\n",
    "        taxi_test.at[i, \"time_n\"] = \"Night\"\n",
    "    else:\n",
    "        taxi_test.at[i, \"time_n\"] = \"Duty\"\n",
    "        \n",
    "     "
   ]
  },
  {
   "cell_type": "code",
   "execution_count": null,
   "metadata": {},
   "outputs": [],
   "source": []
  }
 ],
 "metadata": {
  "kernelspec": {
   "display_name": "Python 3",
   "language": "python",
   "name": "python3"
  },
  "language_info": {
   "codemirror_mode": {
    "name": "ipython",
    "version": 3
   },
   "file_extension": ".py",
   "mimetype": "text/x-python",
   "name": "python",
   "nbconvert_exporter": "python",
   "pygments_lexer": "ipython3",
   "version": "3.6.4"
  }
 },
 "nbformat": 4,
 "nbformat_minor": 2
}
